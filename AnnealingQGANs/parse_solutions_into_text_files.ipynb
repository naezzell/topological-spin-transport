{
 "cells": [
  {
   "cell_type": "code",
   "execution_count": 21,
   "source": [
    "import numpy as np\n",
    "import pickle\n",
    "import glob\n",
    "import matplotlib.pyplot as plt"
   ],
   "outputs": [],
   "metadata": {}
  },
  {
   "cell_type": "code",
   "execution_count": 4,
   "source": [
    "## parse new data in `pickle.zip`\n",
    "ddir = \"pkl_data\"\n",
    "fnames = glob.glob(f\"{ddir}/*_.pickle\")\n",
    "fnames"
   ],
   "outputs": [
    {
     "output_type": "execute_result",
     "data": {
      "text/plain": [
       "['pkl_data/9_qubits_GHZ_Helstrom_Krotov_100_.pickle',\n",
       " 'pkl_data/9_qubits_GHZ_Helstrom_Krotov_70_.pickle',\n",
       " 'pkl_data/9_qubits_GHZ_Helstrom_Krotov_60_.pickle',\n",
       " 'pkl_data/6_qubits_GHZ_QOC_GRAPE_30_.pickle',\n",
       " 'pkl_data/6_qubits_GHZ_Helstrom_GRAPE_30_.pickle']"
      ]
     },
     "metadata": {},
     "execution_count": 4
    }
   ],
   "metadata": {}
  },
  {
   "cell_type": "code",
   "execution_count": 92,
   "source": [
    "def save_solution(fname):\n",
    "    \"\"\"\n",
    "    Given pkl inside [fname], extracts\n",
    "    and saves solution to file.\n",
    "    \"\"\"\n",
    "    with open(fname, \"rb\") as f:\n",
    "        data = pickle.load(f)\n",
    "    T = data[\"T\"]\n",
    "    if \"GRAPE\" in fname:\n",
    "        N = len(data[\"opt\"])\n",
    "        n = int(len(data[\"opt\"][0]) / 2)\n",
    "    else:\n",
    "        N = len(data[\"opt\"][0])\n",
    "        n = int(len(data[\"opt\"]) / 2)\n",
    "    tlist = np.linspace(0, T, N)\n",
    "    csv_fname = fname[0:-8] + \"_optSol.csv\"\n",
    "    with open(csv_fname, \"w\") as f:\n",
    "        x_line = \",\".join([f\"X_{j}\" for j in range(n)])\n",
    "        z_line = \",\".join([f\"Z_{j}\" for j in range(n)])\n",
    "        header = f\"t,{x_line},{z_line}\\n\"\n",
    "        f.write(header)\n",
    "        for k in range(N):\n",
    "            t = tlist[k]\n",
    "            if \"GRAPE\" in fname:\n",
    "                start = str(t) + \",\"\n",
    "                mid = \",\".join([str(x) for x in data[\"opt\"][k]])\n",
    "                line = start + mid + \"\\n\"\n",
    "            else:\n",
    "                start = str(t) + \",\"\n",
    "                mid = \",\".join([str(data[\"opt\"][j][k]) for j in range(2 * n)])\n",
    "                line = start + mid + \"\\n\"\n",
    "            f.write(line)\n",
    "\n",
    "    return "
   ],
   "outputs": [],
   "metadata": {}
  },
  {
   "cell_type": "code",
   "execution_count": 93,
   "source": [
    "for fname in fnames:\n",
    "    save_solution(fname)"
   ],
   "outputs": [],
   "metadata": {}
  },
  {
   "cell_type": "code",
   "execution_count": 71,
   "source": [
    "k = 0\n",
    "with open(fnames[k], \"rb\") as f:\n",
    "    data = pickle.load(f)\n",
    "n = len(data[\"opt\"][0])\n",
    "print(fnames[k], n)"
   ],
   "outputs": [
    {
     "output_type": "stream",
     "name": "stdout",
     "text": [
      "pkl_data/9_qubits_GHZ_Helstrom_Krotov_100_.pickle 1000\n"
     ]
    }
   ],
   "metadata": {}
  },
  {
   "cell_type": "code",
   "execution_count": 79,
   "source": [
    "[data[\"opt\"][j][500] for j in range(18)]"
   ],
   "outputs": [
    {
     "output_type": "execute_result",
     "data": {
      "text/plain": [
       "[-0.953033987000925,\n",
       " -0.9603176532107651,\n",
       " -0.9674680068286634,\n",
       " -0.9614462540156766,\n",
       " -0.951404543922209,\n",
       " -0.961400811020615,\n",
       " -0.9674615677982168,\n",
       " -0.9602629754252974,\n",
       " -0.9530534237223419,\n",
       " 0.14469019894219814,\n",
       " 0.537485350052097,\n",
       " 0.1406521904657226,\n",
       " 0.2954792087036703,\n",
       " 0.3942150981425051,\n",
       " 0.2961256826721965,\n",
       " 0.14006193633400926,\n",
       " 0.5364860325341572,\n",
       " 0.1454381705406703]"
      ]
     },
     "metadata": {},
     "execution_count": 79
    }
   ],
   "metadata": {}
  },
  {
   "cell_type": "code",
   "execution_count": 74,
   "source": [
    "data[\"T\"]"
   ],
   "outputs": [
    {
     "output_type": "execute_result",
     "data": {
      "text/plain": [
       "100"
      ]
     },
     "metadata": {},
     "execution_count": 74
    }
   ],
   "metadata": {}
  },
  {
   "cell_type": "code",
   "execution_count": 80,
   "source": [
    "n = len(data[\"opt\"])"
   ],
   "outputs": [],
   "metadata": {}
  },
  {
   "cell_type": "code",
   "execution_count": 81,
   "source": [
    "n"
   ],
   "outputs": [
    {
     "output_type": "execute_result",
     "data": {
      "text/plain": [
       "18"
      ]
     },
     "metadata": {},
     "execution_count": 81
    }
   ],
   "metadata": {}
  },
  {
   "cell_type": "code",
   "execution_count": null,
   "source": [],
   "outputs": [],
   "metadata": {}
  }
 ],
 "metadata": {
  "kernelspec": {
   "name": "python3",
   "display_name": "Python 3.9.7 64-bit ('aqgan': conda)"
  },
  "language_info": {
   "codemirror_mode": {
    "name": "ipython",
    "version": 3
   },
   "file_extension": ".py",
   "mimetype": "text/x-python",
   "name": "python",
   "nbconvert_exporter": "python",
   "pygments_lexer": "ipython3",
   "version": "3.9.7"
  },
  "interpreter": {
   "hash": "d67205fe6c80655c76515d3801aace8f90435b90fb2c2b5e55627754c3b52aa9"
  }
 },
 "nbformat": 4,
 "nbformat_minor": 2
}