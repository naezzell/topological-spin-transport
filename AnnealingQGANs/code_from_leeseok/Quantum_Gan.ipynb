{
 "cells": [
  {
   "cell_type": "code",
   "execution_count": 78,
   "metadata": {},
   "outputs": [],
   "source": [
    "import qutip\n",
    "import numpy as np\n",
    "import scipy\n",
    "import matplotlib\n",
    "import matplotlib.pylab as plt\n",
    "import krotov\n",
    "import random\n",
    "import math\n",
    "import picos\n",
    "import cvxopt\n",
    "import pickle\n",
    "from krotov.parametrization import ParametrizedFunction, SquareParametrization, TanhParametrization\n",
    "\n",
    "from discriminator import *"
   ]
  },
  {
   "cell_type": "markdown",
   "metadata": {},
   "source": [
    "# Set Hyperparameters"
   ]
  },
  {
   "cell_type": "markdown",
   "metadata": {},
   "source": [
    "Important: one should make sure that the number of time steps (variable of \"steps\" below) is reasonably larger than the annealing time $T$. This is because if one increases annealing time $T$ and fixes number of time steps, the evolution becomes more and more inaccruate. Hence, once one evolves the Hamiltonian equipped to the pulse sequences, the final state will depend on what methods one evolves the Hamiltonian. For instance, using propagator in Krotov package will give different final state from using mesolve function in Qutip package. This will make unfair to compare with the results drawn from HOQST as well. \n",
    "\n",
    "I checked that setting the number of steps equal to $10 \\times T$ makes the evolution smooth enough so that the final states evolved from Krotov propagator and Qutip mesolve are the same.\n",
    "\n",
    "Also, make sure you increse annealing team as you increase number of qubits."
   ]
  },
  {
   "cell_type": "code",
   "execution_count": 79,
   "metadata": {},
   "outputs": [],
   "source": [
    "nq = 2 #number of qubits\n",
    "T = 5 #annealing time\n",
    "steps = T*10 #time steps \n",
    "tlist = np.linspace(0, T, steps)"
   ]
  },
  {
   "cell_type": "markdown",
   "metadata": {},
   "source": [
    "# Define Hamiltonian"
   ]
  },
  {
   "cell_type": "markdown",
   "metadata": {},
   "source": [
    "The system Hamiltonian we will be using now is in the form of: \n",
    "\n",
    "$H(t) = \\sum_{i=1}^{n} \\epsilon_i(t) X_i + \\sum_{i=1}^{n} \\epsilon_{i+n}(t) Z_i - \\sum_{i=1}^{n-1} Z_iZ_{i+1}, $\n",
    "\n",
    "where $n$ is the number of qubits. In addition, we will initiaize guess control functions equipped to the initial counditions of ${\\epsilon}_{i=1,...n} (t=0) = 0$ (pulse coefficients of $X_i$) and ${\\epsilon}_{i=n+1,...,2n} (t=0) = 1$, which gives the ground state of $\\lvert{11...11}\\rangle$."
   ]
  },
  {
   "cell_type": "code",
   "execution_count": 80,
   "metadata": {},
   "outputs": [],
   "source": [
    "#set matrices for each Hamiltonian terms, X_i, Z_i, and Z_iZ_i+1\n",
    "Hx_local,Hz_local,Hz_2local=[],[],[]\n",
    "for i in range(nq):\n",
    "    argsX=[qutip.qeye(2) for _ in range(nq)]; argsX[i]=qutip.sigmax()\n",
    "    argsZ=[qutip.qeye(2) for _ in range(nq)]; argsZ[i]=qutip.sigmaz()\n",
    "    Hx_local.append(qutip.tensor(*argsX)); Hz_local.append(qutip.tensor(*argsZ))\n",
    "    \n",
    "    if i < nq-1:\n",
    "        argsZZ=[qutip.qeye(2) for _ in range(nq)]; argsZZ[i]=qutip.sigmaz(); argsZZ[i+1]=qutip.sigmaz()\n",
    "        Hz_2local.append(qutip.tensor(*argsZZ))\n",
    "\n",
    "#re-dimension\n",
    "for h in Hx_local, Hz_local, Hz_2local:\n",
    "    for g in h:\n",
    "        g.dims=[[2**nq],[2**nq]]; \n",
    "\n",
    "    "
   ]
  },
  {
   "cell_type": "code",
   "execution_count": 81,
   "metadata": {},
   "outputs": [],
   "source": [
    "def generate_ham(hamiltonian, pauli,k):\n",
    "    if pauli == 'X':\n",
    "        return [hamiltonian[k], ParametrizedFunction(lambda t, args: 0.5*np.sin(10*t/T), \n",
    "                TanhParametrization(eps_max=1.0, eps_min=-1.0))]\n",
    "    elif pauli == 'Z':\n",
    "        return [hamiltonian[k], ParametrizedFunction(lambda t, args: np.cos(10*t/T), \n",
    "                TanhParametrization(eps_max=1.0, eps_min=-1.0))]"
   ]
  },
  {
   "cell_type": "code",
   "execution_count": 82,
   "metadata": {},
   "outputs": [],
   "source": [
    "#generate the system hamiltonian\n",
    "if nq==1:\n",
    "    H = [qutip.qzero(2)] + [generate_ham(Hx_local, 'X', i) for i in range(nq)] + [generate_ham(Hz_local, 'Z', i) for i in range(nq)]\n",
    "else:\n",
    "    H = [-Hzz for Hzz in Hz_2local] + [generate_ham(Hx_local, 'X', i) for i in range(nq)] + [generate_ham(Hz_local, 'Z', i) for i in range(nq)]"
   ]
  },
  {
   "cell_type": "markdown",
   "metadata": {},
   "source": [
    "# Customize the Cost Function"
   ]
  },
  {
   "cell_type": "markdown",
   "metadata": {},
   "source": [
    "This part is required if one tries to use specific forms of cost function other than listed in Krotov package(https://qucontrol.github.io/krotov/v1.0.0/API/krotov.functionals.html). \n",
    "\n",
    "Here, we might want to use the following form for the generator: $J_T = \\lvert \\text{Tr}(D\\sigma-D\\rho(T)) \\rvert ^2$ where $\\sigma=\\lvert \\psi_{targ} \\rangle \\langle \\psi_{targ} \\rvert$ is a target state and $\\rho(T)=\\lvert \\psi(T) \\rangle \\langle \\psi(T) \\rvert$ is a fully time-evolved state. \n",
    "\n",
    "Krotov's method requires to enter $-\\frac{\\partial J}{\\partial \\langle \\psi_k \\rvert} = -2 (\\langle \\psi(T) \\rvert D\\lvert \\psi(T)\\rangle -  \\langle \\psi_{targ} \\rvert D\\lvert \\psi_{targ}\\rangle) \\cdot D\\lvert \\psi(T)\\rangle$, which is described in chis_qubit function below. print_qubit_error function is for print out the cost function during optimization."
   ]
  },
  {
   "cell_type": "code",
   "execution_count": 83,
   "metadata": {},
   "outputs": [],
   "source": [
    "def print_qubit_error(**args):\n",
    "    \"\"\"Utility function writing the qubit error to screen\"\"\"\n",
    "    taus = []\n",
    "    for state_T in args['fw_states_T']:\n",
    "        exp = qutip.expect(D, state_T)\n",
    "        taus.append(exp)\n",
    "        \n",
    "    J_T_re = np.average(taus)\n",
    "    \n",
    "    exp_D = qutip.expect(D, psi_targ)\n",
    "    \n",
    "    J = abs(J_T_re-exp_D)**2\n",
    "\n",
    "    \n",
    "    print(\"    |<psi|D|psi> - <target|D|target>|^2: %.le\"% (J) )\n",
    "    \n",
    "    return J\n",
    "        "
   ]
  },
  {
   "cell_type": "code",
   "execution_count": 84,
   "metadata": {},
   "outputs": [],
   "source": [
    "def chis_qubit(fw_states_T, objectives, tau_vals):\n",
    "    \"\"\"Calculate chis for the chosen functional\"\"\"\n",
    "    chis = []\n",
    "    #print(fw_states_T)\n",
    "    for state_i_T in fw_states_T:\n",
    "        #print(D)\n",
    "        #chi=-(D*state_i_T)\n",
    "        c = qutip.expect(D, psi_targ)\n",
    "        o = qutip.expect(D, state_i_T)\n",
    "        \n",
    "        #chi= -2*(o-c)*(D*state_i_T)\n",
    "        \n",
    "        chi=-2*(state_i_T.dag()*(D*state_i_T) - c)*(D*state_i_T)\n",
    "        chis.append(chi)\n",
    "    return chis"
   ]
  },
  {
   "cell_type": "markdown",
   "metadata": {},
   "source": [
    "# Shape Function"
   ]
  },
  {
   "cell_type": "markdown",
   "metadata": {},
   "source": [
    "Krotov's method requires shape function, which is used to optimize pulse sequence in each time grid. The shape function should be defined in the same time grid and indicates how much pulse value (at each time grid) is changed in a single optimization. For instance, $S(t=0) = 0$ will prevent from pulse value at $t=0$ changing. (check: https://qucontrol.github.io/krotov/v1.0.0/07_krotovs_method.html?highlight=shape%20#first-order-update)\n",
    "\n",
    "The design of such shape function is completely up to the user."
   ]
  },
  {
   "cell_type": "code",
   "execution_count": 85,
   "metadata": {},
   "outputs": [],
   "source": [
    "def S(t):\n",
    "    \"\"\"Shape function for the field update\"\"\"\n",
    "    #return krotov.shapes.box(t, 0, 5)\n",
    "    #return krotov.shapes.blackman(t, 0, T)\n",
    "    #return krotov.shapes.flattop(t, t_start=0, t_stop=T, t_rise=0.1, t_fall=0.1, func='sinsq')\n",
    "    \n",
    "    #return np.sin(2*np.pi*t/8)**2\n",
    "    return np.sin(2*t*5/T)**2\n",
    "    \n",
    "    #if t==0:\n",
    "    #    return 0\n",
    "    \n",
    "    #else:\n",
    "    #    return 1"
   ]
  },
  {
   "cell_type": "markdown",
   "metadata": {},
   "source": [
    "# Initial/Target States"
   ]
  },
  {
   "cell_type": "markdown",
   "metadata": {},
   "source": [
    "Create initial state; here we want to start from the ground state of initial Hamiltomian we defined earlier. The ground state should be $\\lvert 11..11\\rangle$. "
   ]
  },
  {
   "cell_type": "code",
   "execution_count": 86,
   "metadata": {},
   "outputs": [],
   "source": [
    "#produce initial hamiltonian, i.e. H(t=0)\n",
    "h0=0\n",
    "for h in Hz_local,Hz_2local:\n",
    "    for g in h:\n",
    "        if h == Hz_local:\n",
    "            h0+=g\n",
    "        else:\n",
    "            h0+=-g"
   ]
  },
  {
   "cell_type": "code",
   "execution_count": 96,
   "metadata": {},
   "outputs": [
    {
     "data": {
      "text/latex": [
       "Quantum object: dims = [[4], [1]], shape = (4, 1), type = ket\\begin{equation*}\\left(\\begin{array}{*{11}c}0.0\\\\0.0\\\\0.0\\\\1.0\\\\\\end{array}\\right)\\end{equation*}"
      ],
      "text/plain": [
       "Quantum object: dims = [[4], [1]], shape = (4, 1), type = ket\n",
       "Qobj data =\n",
       "[[0.]\n",
       " [0.]\n",
       " [0.]\n",
       " [1.]]"
      ]
     },
     "execution_count": 96,
     "metadata": {},
     "output_type": "execute_result"
    }
   ],
   "source": [
    "psi_init = h0.eigenstates()[1][0] \n",
    "rho_init=psi_init * psi_init.dag()\n",
    "psi_init"
   ]
  },
  {
   "cell_type": "markdown",
   "metadata": {},
   "source": [
    "Create target states: $\\lvert \\psi_{target} \\rangle = \\cos\\theta\\lvert0..0\\rangle + \\sin\\theta \\lvert 1..1 \\rangle$ for 50 equidistant $\\theta \\in [0, 2\\pi]$."
   ]
  },
  {
   "cell_type": "code",
   "execution_count": 97,
   "metadata": {
    "scrolled": true
   },
   "outputs": [],
   "source": [
    "thetas = np.linspace(0, 2*np.pi, 50)\n",
    "targ_states = []\n",
    "for t in thetas:\n",
    "    targ_states.append(np.cos(t)*qutip.basis(2**nq,0) + np.sin(t)*qutip.basis(2**nq, 2**nq-1))"
   ]
  },
  {
   "cell_type": "code",
   "execution_count": 98,
   "metadata": {},
   "outputs": [],
   "source": [
    "objectives = [krotov.Objective(initial_state=psi_init, target=0, H=H)]"
   ]
  },
  {
   "cell_type": "markdown",
   "metadata": {},
   "source": [
    "# Choose initial operator for discriminator, $D_0$"
   ]
  },
  {
   "cell_type": "markdown",
   "metadata": {},
   "source": [
    "Choose a random $D_0$ (initial operator for the discriminator). Here, I choose the form of $D0$ as the sum of 1-local $\\cos \\theta X + \\sin \\theta Z$ operators, i.e. $D0 = (\\cos \\theta_1 X + \\sin \\theta_1 Z) \\otimes I ... \\otimes I + .... + I \\otimes I ... \\otimes \\cos \\theta_n X + \\sin \\theta_n Z$. Then normalize $D0$ so that $||D||_p \\leq 1$, depending on what types of norm you are using. "
   ]
  },
  {
   "cell_type": "code",
   "execution_count": 99,
   "metadata": {},
   "outputs": [
    {
     "data": {
      "text/latex": [
       "Quantum object: dims = [[4], [4]], shape = (4, 4), type = oper, isherm = True\\begin{equation*}\\left(\\begin{array}{*{11}c}-0.120 & -0.084 & -0.122 & 0.0\\\\-0.084 & 0.066 & 0.0 & -0.122\\\\-0.122 & 0.0 & -0.066 & -0.084\\\\0.0 & -0.122 & -0.084 & 0.120\\\\\\end{array}\\right)\\end{equation*}"
      ],
      "text/plain": [
       "Quantum object: dims = [[4], [4]], shape = (4, 4), type = oper, isherm = True\n",
       "Qobj data =\n",
       "[[-0.12023449 -0.08365138 -0.12197112  0.        ]\n",
       " [-0.08365138  0.06553361  0.         -0.12197112]\n",
       " [-0.12197112  0.         -0.06553361 -0.08365138]\n",
       " [ 0.         -0.12197112 -0.08365138  0.12023449]]"
      ]
     },
     "execution_count": 99,
     "metadata": {},
     "output_type": "execute_result"
    }
   ],
   "source": [
    "phis = 2*np.pi*np.random.uniform(0,1,nq) #pick random angles\n",
    "\n",
    "D0=0\n",
    "for i in range(nq):\n",
    "    ob = np.cos(phis[i])*qutip.sigmax() + np.sin(phis[i])*qutip.sigmaz()\n",
    "    args=[qutip.qeye(2) for _ in range(nq)]; args[i] = ob\n",
    "    D0+=qutip.tensor(qutip.tensor(*args))\n",
    "    \n",
    "D0.dims=[[2**nq],[2**nq]]\n",
    "D0 = D0/(nq**2*np.sqrt(2)**(nq)) #preform proper normalization: this is not the optimal normalization. \n",
    "D0                           #you should check norms of D0 is actually bounded by 1 before running the optimization"
   ]
  },
  {
   "cell_type": "code",
   "execution_count": 100,
   "metadata": {},
   "outputs": [
    {
     "name": "stdout",
     "output_type": "stream",
     "text": [
      "0.49999999999999994\n"
     ]
    }
   ],
   "source": [
    "#check norm and make sure it's bounded by 1\n",
    "\n",
    "print(picos.NuclearNorm(np.array(D0))) \n",
    "#print(picos.Norm(np.array(D0)))\n",
    "#print(lipschitz_dual(np.array(D0)))"
   ]
  },
  {
   "cell_type": "code",
   "execution_count": 101,
   "metadata": {
    "scrolled": true
   },
   "outputs": [
    {
     "data": {
      "text/plain": [
       "array([3.36218075, 3.9792425 ])"
      ]
     },
     "execution_count": 101,
     "metadata": {},
     "output_type": "execute_result"
    }
   ],
   "source": [
    "phis"
   ]
  },
  {
   "cell_type": "code",
   "execution_count": 111,
   "metadata": {},
   "outputs": [],
   "source": [
    "#targ_states = [targ_states[10]]# For this notebook, I'll only train for 1 target state\n",
    "targ_states = [np.cos(np.pi / 4) * qutip.basis(2**nq, 0) + np.sin(np.pi / 4) * qutip.basis(2**nq, 2**nq-1)]"
   ]
  },
  {
   "cell_type": "code",
   "execution_count": 112,
   "metadata": {
    "scrolled": true
   },
   "outputs": [
    {
     "data": {
      "text/plain": [
       "[Quantum object: dims = [[4], [1]], shape = (4, 1), type = ket\n",
       " Qobj data =\n",
       " [[0.70710678]\n",
       "  [0.        ]\n",
       "  [0.        ]\n",
       "  [0.70710678]]]"
      ]
     },
     "execution_count": 112,
     "metadata": {},
     "output_type": "execute_result"
    }
   ],
   "source": [
    "targ_states"
   ]
  },
  {
   "cell_type": "markdown",
   "metadata": {},
   "source": [
    "# Optimization"
   ]
  },
  {
   "cell_type": "code",
   "execution_count": 113,
   "metadata": {},
   "outputs": [],
   "source": [
    "#it = number of iterations taken in each step of the generator; \n",
    "#lam = stepsize of generator; #total_it: iterations of QGAN\n",
    "it=10; lam =3.0; total_it = 10;\n",
    "\n",
    "#choose norm: 'trace', 'l2', 'operator', 'w'\n",
    "norm = 'trace'"
   ]
  },
  {
   "cell_type": "code",
   "execution_count": 114,
   "metadata": {
    "scrolled": true
   },
   "outputs": [
    {
     "name": "stdout",
     "output_type": "stream",
     "text": [
      "0th step of QGAN begins\n",
      "    |<psi|D|psi> - <target|D|target>|^2: 7e-03\n"
     ]
    },
    {
     "name": "stderr",
     "output_type": "stream",
     "text": [
      "/Users/worknic/opt/anaconda3/envs/aqgan/lib/python3.9/site-packages/krotov/parametrization.py:66: UserWarning: Pulse value 1.0 out of range (-1.0, 1.0) for TanhParametrization. Value will be clipped.\n",
      "  warnings.warn(\n"
     ]
    },
    {
     "name": "stdout",
     "output_type": "stream",
     "text": [
      "    |<psi|D|psi> - <target|D|target>|^2: 7e-03\n",
      "    |<psi|D|psi> - <target|D|target>|^2: 7e-03\n",
      "    |<psi|D|psi> - <target|D|target>|^2: 6e-03\n",
      "    |<psi|D|psi> - <target|D|target>|^2: 6e-03\n",
      "    |<psi|D|psi> - <target|D|target>|^2: 6e-03\n",
      "    |<psi|D|psi> - <target|D|target>|^2: 5e-03\n",
      "    |<psi|D|psi> - <target|D|target>|^2: 5e-03\n",
      "    |<psi|D|psi> - <target|D|target>|^2: 5e-03\n",
      "    |<psi|D|psi> - <target|D|target>|^2: 5e-03\n",
      "    |<psi|D|psi> - <target|D|target>|^2: 4e-03\n",
      "0th step finished: psi(t) =  Quantum object: dims = [[4], [1]], shape = (4, 1), type = ket\n",
      "Qobj data =\n",
      "[[-0.60507201+0.10446079j]\n",
      " [ 0.07246441+0.36823879j]\n",
      " [ 0.04554767+0.39464478j]\n",
      " [ 0.22756555-0.52203423j]]\n",
      "fidelity: 0.15843935978610996\n",
      "maximum Trace is : 0.9174\n",
      "1th step of QGAN begins\n",
      "    |<psi|D|psi> - <target|D|target>|^2: 8e-01\n",
      "    |<psi|D|psi> - <target|D|target>|^2: 7e-01\n",
      "    |<psi|D|psi> - <target|D|target>|^2: 5e-01\n",
      "    |<psi|D|psi> - <target|D|target>|^2: 3e-01\n",
      "    |<psi|D|psi> - <target|D|target>|^2: 2e-01\n",
      "    |<psi|D|psi> - <target|D|target>|^2: 1e-01\n",
      "    |<psi|D|psi> - <target|D|target>|^2: 8e-02\n",
      "    |<psi|D|psi> - <target|D|target>|^2: 6e-02\n",
      "    |<psi|D|psi> - <target|D|target>|^2: 5e-02\n",
      "    |<psi|D|psi> - <target|D|target>|^2: 5e-02\n",
      "    |<psi|D|psi> - <target|D|target>|^2: 4e-02\n",
      "1th step finished: psi(t) =  Quantum object: dims = [[4], [1]], shape = (4, 1), type = ket\n",
      "Qobj data =\n",
      "[[-0.35296361-0.35396399j]\n",
      " [ 0.08761854+0.35036871j]\n",
      " [ 0.08093294+0.3487319j ]\n",
      " [-0.65097404-0.26030687j]]\n",
      "fidelity: 0.6926097481612684\n",
      "maximum Trace is : 0.5544\n",
      "2th step of QGAN begins\n",
      "    |<psi|D|psi> - <target|D|target>|^2: 3e-01\n",
      "    |<psi|D|psi> - <target|D|target>|^2: 2e-01\n",
      "    |<psi|D|psi> - <target|D|target>|^2: 2e-01\n",
      "    |<psi|D|psi> - <target|D|target>|^2: 2e-01\n",
      "    |<psi|D|psi> - <target|D|target>|^2: 1e-01\n",
      "    |<psi|D|psi> - <target|D|target>|^2: 1e-01\n",
      "    |<psi|D|psi> - <target|D|target>|^2: 8e-02\n",
      "    |<psi|D|psi> - <target|D|target>|^2: 7e-02\n",
      "    |<psi|D|psi> - <target|D|target>|^2: 6e-02\n",
      "    |<psi|D|psi> - <target|D|target>|^2: 5e-02\n",
      "    |<psi|D|psi> - <target|D|target>|^2: 4e-02\n",
      "2th step finished: psi(t) =  Quantum object: dims = [[4], [1]], shape = (4, 1), type = ket\n",
      "Qobj data =\n",
      "[[-0.62498262-0.25283494j]\n",
      " [ 0.03306255+0.21771272j]\n",
      " [ 0.02055209+0.22174893j]\n",
      " [-0.28149297-0.60675035j]]\n",
      "fidelity: 0.7802924379649233\n",
      "maximum Trace is : 0.4687\n",
      "3th step of QGAN begins\n",
      "    |<psi|D|psi> - <target|D|target>|^2: 2e-01\n",
      "    |<psi|D|psi> - <target|D|target>|^2: 1e-01\n",
      "    |<psi|D|psi> - <target|D|target>|^2: 7e-02\n",
      "    |<psi|D|psi> - <target|D|target>|^2: 4e-02\n",
      "    |<psi|D|psi> - <target|D|target>|^2: 2e-02\n",
      "    |<psi|D|psi> - <target|D|target>|^2: 1e-02\n",
      "    |<psi|D|psi> - <target|D|target>|^2: 1e-02\n",
      "    |<psi|D|psi> - <target|D|target>|^2: 7e-03\n",
      "    |<psi|D|psi> - <target|D|target>|^2: 5e-03\n",
      "    |<psi|D|psi> - <target|D|target>|^2: 4e-03\n",
      "    |<psi|D|psi> - <target|D|target>|^2: 3e-03\n",
      "3th step finished: psi(t) =  Quantum object: dims = [[4], [1]], shape = (4, 1), type = ket\n",
      "Qobj data =\n",
      "[[-0.3566667 -0.47905441j]\n",
      " [ 0.06474221+0.15942302j]\n",
      " [ 0.05854841+0.1553007j ]\n",
      " [-0.65728556-0.39257859j]]\n",
      "fidelity: 0.8939216369531282\n",
      "maximum Trace is : 0.3257\n",
      "4th step of QGAN begins\n",
      "    |<psi|D|psi> - <target|D|target>|^2: 1e-01\n",
      "    |<psi|D|psi> - <target|D|target>|^2: 6e-02\n",
      "    |<psi|D|psi> - <target|D|target>|^2: 3e-02\n",
      "    |<psi|D|psi> - <target|D|target>|^2: 2e-02\n",
      "    |<psi|D|psi> - <target|D|target>|^2: 1e-02\n",
      "    |<psi|D|psi> - <target|D|target>|^2: 6e-03\n",
      "    |<psi|D|psi> - <target|D|target>|^2: 4e-03\n",
      "    |<psi|D|psi> - <target|D|target>|^2: 2e-03\n",
      "    |<psi|D|psi> - <target|D|target>|^2: 2e-03\n",
      "    |<psi|D|psi> - <target|D|target>|^2: 1e-03\n",
      "    |<psi|D|psi> - <target|D|target>|^2: 7e-04\n",
      "4th step finished: psi(t) =  Quantum object: dims = [[4], [1]], shape = (4, 1), type = ket\n",
      "Qobj data =\n",
      "[[-0.55359758-0.37780456j]\n",
      " [-0.00470936+0.11700661j]\n",
      " [-0.01030587+0.11883526j]\n",
      " [-0.37894115-0.61583787j]]\n",
      "fidelity: 0.9284768816158347\n",
      "maximum Trace is : 0.2674\n",
      "5th step of QGAN begins\n",
      "    |<psi|D|psi> - <target|D|target>|^2: 7e-02\n",
      "    |<psi|D|psi> - <target|D|target>|^2: 3e-02\n",
      "    |<psi|D|psi> - <target|D|target>|^2: 2e-02\n",
      "    |<psi|D|psi> - <target|D|target>|^2: 8e-03\n",
      "    |<psi|D|psi> - <target|D|target>|^2: 4e-03\n",
      "    |<psi|D|psi> - <target|D|target>|^2: 2e-03\n",
      "    |<psi|D|psi> - <target|D|target>|^2: 1e-03\n",
      "    |<psi|D|psi> - <target|D|target>|^2: 8e-04\n",
      "    |<psi|D|psi> - <target|D|target>|^2: 5e-04\n",
      "    |<psi|D|psi> - <target|D|target>|^2: 3e-04\n",
      "    |<psi|D|psi> - <target|D|target>|^2: 2e-04\n",
      "5th step finished: psi(t) =  Quantum object: dims = [[4], [1]], shape = (4, 1), type = ket\n",
      "Qobj data =\n",
      "[[-0.40225568-0.49874858j]\n",
      " [ 0.04630509+0.09351659j]\n",
      " [ 0.04260001+0.09142934j]\n",
      " [-0.59505928-0.46290504j]]\n",
      "fidelity: 0.9597074209769227\n",
      "maximum Trace is : 0.2007\n",
      "6th step of QGAN begins\n",
      "    |<psi|D|psi> - <target|D|target>|^2: 4e-02\n",
      "    |<psi|D|psi> - <target|D|target>|^2: 2e-02\n",
      "    |<psi|D|psi> - <target|D|target>|^2: 1e-02\n",
      "    |<psi|D|psi> - <target|D|target>|^2: 6e-03\n",
      "    |<psi|D|psi> - <target|D|target>|^2: 3e-03\n",
      "    |<psi|D|psi> - <target|D|target>|^2: 2e-03\n",
      "    |<psi|D|psi> - <target|D|target>|^2: 1e-03\n",
      "    |<psi|D|psi> - <target|D|target>|^2: 6e-04\n",
      "    |<psi|D|psi> - <target|D|target>|^2: 3e-04\n",
      "    |<psi|D|psi> - <target|D|target>|^2: 2e-04\n",
      "    |<psi|D|psi> - <target|D|target>|^2: 1e-04\n",
      "6th step finished: psi(t) =  Quantum object: dims = [[4], [1]], shape = (4, 1), type = ket\n",
      "Qobj data =\n",
      "[[-0.51851124-0.43199477j]\n",
      " [-0.00760121+0.07028545j]\n",
      " [-0.0107042 +0.0708015j ]\n",
      " [-0.42218429-0.59679292j]]\n",
      "fidelity: 0.9716560896326148\n",
      "maximum Trace is : 0.1684\n",
      "7th step of QGAN begins\n",
      "    |<psi|D|psi> - <target|D|target>|^2: 3e-02\n",
      "    |<psi|D|psi> - <target|D|target>|^2: 1e-02\n",
      "    |<psi|D|psi> - <target|D|target>|^2: 6e-03\n",
      "    |<psi|D|psi> - <target|D|target>|^2: 3e-03\n",
      "    |<psi|D|psi> - <target|D|target>|^2: 2e-03\n",
      "    |<psi|D|psi> - <target|D|target>|^2: 9e-04\n",
      "    |<psi|D|psi> - <target|D|target>|^2: 5e-04\n",
      "    |<psi|D|psi> - <target|D|target>|^2: 2e-04\n",
      "    |<psi|D|psi> - <target|D|target>|^2: 1e-04\n",
      "    |<psi|D|psi> - <target|D|target>|^2: 7e-05\n",
      "    |<psi|D|psi> - <target|D|target>|^2: 4e-05\n",
      "7th step finished: psi(t) =  Quantum object: dims = [[4], [1]], shape = (4, 1), type = ket\n",
      "Qobj data =\n",
      "[[-0.42515194-0.5067069j ]\n",
      " [ 0.03268804+0.05820384j]\n",
      " [ 0.03035615+0.05712557j]\n",
      " [-0.55687029-0.49370883j]]\n",
      "fidelity: 0.982599641369597\n",
      "maximum Trace is : 0.1319\n",
      "8th step of QGAN begins\n",
      "    |<psi|D|psi> - <target|D|target>|^2: 2e-02\n",
      "    |<psi|D|psi> - <target|D|target>|^2: 9e-03\n",
      "    |<psi|D|psi> - <target|D|target>|^2: 5e-03\n",
      "    |<psi|D|psi> - <target|D|target>|^2: 2e-03\n",
      "    |<psi|D|psi> - <target|D|target>|^2: 1e-03\n",
      "    |<psi|D|psi> - <target|D|target>|^2: 7e-04\n",
      "    |<psi|D|psi> - <target|D|target>|^2: 4e-04\n",
      "    |<psi|D|psi> - <target|D|target>|^2: 2e-04\n",
      "    |<psi|D|psi> - <target|D|target>|^2: 1e-04\n",
      "    |<psi|D|psi> - <target|D|target>|^2: 6e-05\n",
      "    |<psi|D|psi> - <target|D|target>|^2: 3e-05\n",
      "8th step finished: psi(t) =  Quantum object: dims = [[4], [1]], shape = (4, 1), type = ket\n",
      "Qobj data =\n",
      "[[-0.50042438-0.46154643j]\n",
      " [-0.00666312+0.04459427j]\n",
      " [-0.00849731+0.04470612j]\n",
      " [-0.44356473-0.57939345j]]\n",
      "fidelity: 0.9873356426917591\n",
      "maximum Trace is : 0.1125\n",
      "9th step of QGAN begins\n",
      "    |<psi|D|psi> - <target|D|target>|^2: 1e-02\n",
      "    |<psi|D|psi> - <target|D|target>|^2: 6e-03\n",
      "    |<psi|D|psi> - <target|D|target>|^2: 3e-03\n",
      "    |<psi|D|psi> - <target|D|target>|^2: 1e-03\n",
      "    |<psi|D|psi> - <target|D|target>|^2: 7e-04\n",
      "    |<psi|D|psi> - <target|D|target>|^2: 4e-04\n",
      "    |<psi|D|psi> - <target|D|target>|^2: 2e-04\n",
      "    |<psi|D|psi> - <target|D|target>|^2: 1e-04\n",
      "    |<psi|D|psi> - <target|D|target>|^2: 5e-05\n",
      "    |<psi|D|psi> - <target|D|target>|^2: 3e-05\n",
      "    |<psi|D|psi> - <target|D|target>|^2: 1e-05\n",
      "9th step finished: psi(t) =  Quantum object: dims = [[4], [1]], shape = (4, 1), type = ket\n",
      "Qobj data =\n",
      "[[-0.43914915-0.5112955j ]\n",
      " [ 0.02354188+0.03802374j]\n",
      " [ 0.0220395 +0.0374294j ]\n",
      " [-0.53297049-0.50772106j]]\n",
      "fidelity: 0.991705664205123\n",
      "maximum Trace is : 0.0911\n"
     ]
    }
   ],
   "source": [
    "#D, pulse, fidelity list, states\n",
    "tD, tP, tF, tS = [],[],[],[]\n",
    "\n",
    "\n",
    "for state in targ_states: \n",
    "    \n",
    "    #set preliminaries & store initial values of D and initial pulse\n",
    "    D_list,pulse_list,fid_list,state_list=[],[],[],[]\n",
    "    \n",
    "    #rho_list, rho_diff_list=[],[]\n",
    "    \n",
    "    #define target state & set initial D as D0\n",
    "    psi_targ = state; rho_targ = psi_targ * psi_targ.dag(); D= D0; add=it\n",
    "\n",
    "    #Store initial pulse & define pulse_options\n",
    "    init_pulse=[]\n",
    "    if nq == 1:\n",
    "        pulse_options={}; H_param = [H[i][1] for i in range(1,3)]\n",
    "        for h in H_param:\n",
    "            pulse_options[h] = dict(lambda_a=lam, update_shape=S)\n",
    "        for i in range(1,3):\n",
    "            init_pulse.append(np.array([H[i][1](t, args=None) for t in tlist]))\n",
    "    \n",
    "    else:\n",
    "        pulse_options={}; H_param = [H[i][1] for i in range(nq-1, 2*nq+(nq-1))]\n",
    "        for h in H_param:\n",
    "            pulse_options[h] = dict(lambda_a=lam, update_shape=S)\n",
    "        for i in range(nq-1,2*nq+(nq-1)):\n",
    "            init_pulse.append(np.array([H[i][1](t, args=None) for t in tlist]))\n",
    "    \n",
    "    D_list.append(D); pulse_list.append(init_pulse)\n",
    "\n",
    "    \n",
    "    #Generator\n",
    "\n",
    "\n",
    "    for i in range(total_it):\n",
    "\n",
    "        print(str(i)+'th step of QGAN begins')\n",
    "        \n",
    "        #optimize pulse\n",
    "\n",
    "        if i == 0:\n",
    "            \n",
    "            opt_result = krotov.optimize_pulses(\n",
    "            objectives,\n",
    "            pulse_options,\n",
    "            tlist,\n",
    "            propagator=krotov.propagators.expm,\n",
    "            chi_constructor=chis_qubit,\n",
    "            iter_stop = it,\n",
    "            info_hook=krotov.info_hooks.chain(print_qubit_error),)\n",
    "            #check_convergence = krotov.convergence.value_below(limit='1e-22'))\n",
    "\n",
    "        else:\n",
    "\n",
    "            opt_result = krotov.optimize_pulses(\n",
    "            objectives,\n",
    "            pulse_options,\n",
    "            tlist,\n",
    "            propagator=krotov.propagators.expm,\n",
    "            chi_constructor=chis_qubit,\n",
    "            iter_stop = it,\n",
    "            info_hook=krotov.info_hooks.chain(print_qubit_error),\n",
    "            #check_convergence = krotov.convergence.value_below(limit='1e-22'),\n",
    "            continue_from=opt_result)\n",
    "\n",
    "        pulse_list.append(opt_result.optimized_controls)\n",
    "        #cost_list.append(opt_result.info_vals[-1])\n",
    "\n",
    "        final_state = opt_result.states[0] #final state\n",
    "        state_list.append(final_state)\n",
    "\n",
    "        rhot = final_state * final_state.dag() #rho_optimized\n",
    "\n",
    "        it+=add\n",
    "\n",
    "        #print results\n",
    "        print(str(i) + 'th step finished: ' + 'psi(t) = ', final_state)\n",
    "\n",
    "        fid_list.append(qutip.fidelity(psi_targ, final_state)**2)\n",
    "\n",
    "        print('fidelity: ' + str(qutip.fidelity(psi_targ, final_state)**2))\n",
    "\n",
    "        #convergence check: fidelity > 0.999\n",
    "        if qutip.fidelity(psi_targ, final_state)**2 > 0.999: \n",
    "            print('converged at ' + str(i) + 'th step') \n",
    "            break\n",
    "\n",
    "        \n",
    "        #rho_list.append(rhot)\n",
    "        #rho_diff_list.append(rhot-rho_targ)\n",
    "        \n",
    "        # Discriminator\n",
    "        if norm == 'w': #when 'w' distance\n",
    "            O,x =wass_distance_dual(np.array(rhot.full()),np.array(rho_targ.full()),True)\n",
    "        else:\n",
    "            O = discriminator(rhot.full(), rho_targ.full(), norm = norm, nq=nq)\n",
    "        \n",
    "        D=qutip.Qobj(O)\n",
    "        D_list.append(D)\n",
    "\n",
    "    tD.append(D_list); tP.append(pulse_list); tF.append(fid_list); tS.append(state_list)\n",
    "    \n"
   ]
  },
  {
   "cell_type": "markdown",
   "metadata": {},
   "source": [
    "# Results"
   ]
  },
  {
   "cell_type": "markdown",
   "metadata": {},
   "source": [
    "Plot to see how pulse sequences and fidelity changed over optimization"
   ]
  },
  {
   "cell_type": "code",
   "execution_count": 126,
   "metadata": {},
   "outputs": [],
   "source": [
    "def plot_pulse(pulse, tlist):\n",
    "    fig, ax = plt.subplots()\n",
    "    Ham = ['amps of X1', 'amps of X2', 'amps of Z1', 'amps of Z2']\n",
    "    for i in range(len(pulse)):\n",
    "        ax.plot(tlist, pulse[i])#, label=str(Ham[i]))\n",
    "    ax.set_xlabel('time')\n",
    "    ax.set_ylabel('pulse amplitude')\n",
    "    ax.legend(bbox_to_anchor=(0.9, 0.3))\n",
    "    plt.legend(['amp of X1', 'amp of X2', 'amp of Z1', 'amp of Z2'])\n",
    "    plt.show(fig)"
   ]
  },
  {
   "cell_type": "code",
   "execution_count": 129,
   "metadata": {
    "scrolled": true
   },
   "outputs": [
    {
     "name": "stderr",
     "output_type": "stream",
     "text": [
      "WARNING:matplotlib.legend:No artists with labels found to put in legend.  Note that artists whose label start with an underscore are ignored when legend() is called with no argument.\n"
     ]
    },
    {
     "data": {
      "image/png": "[encoded data removed]",
      "text/plain": [
       "<Figure size 432x288 with 1 Axes>"
      ]
     },
     "metadata": {
      "needs_background": "light"
     },
     "output_type": "display_data"
    }
   ],
   "source": [
    "#for i in range(len(state_list)):\n",
    "plot_pulse(pulse_list[0], tlist)"
   ]
  },
  {
   "cell_type": "code",
   "execution_count": 130,
   "metadata": {},
   "outputs": [
    {
     "name": "stderr",
     "output_type": "stream",
     "text": [
      "WARNING:matplotlib.legend:No artists with labels found to put in legend.  Note that artists whose label start with an underscore are ignored when legend() is called with no argument.\n"
     ]
    },
    {
     "data": {
      "image/png": "[encoded data removed]",
      "text/plain": [
       "<Figure size 432x288 with 1 Axes>"
      ]
     },
     "metadata": {
      "needs_background": "light"
     },
     "output_type": "display_data"
    }
   ],
   "source": [
    "#for i in range(len(state_list)):\n",
    "plot_pulse(pulse_list[total_it], tlist)"
   ]
  },
  {
   "cell_type": "code",
   "execution_count": 123,
   "metadata": {},
   "outputs": [
    {
     "data": {
      "text/plain": [
       "4"
      ]
     },
     "execution_count": 123,
     "metadata": {},
     "output_type": "execute_result"
    }
   ],
   "source": [
    "len(pulse_list[0])"
   ]
  },
  {
   "cell_type": "code",
   "execution_count": 117,
   "metadata": {},
   "outputs": [],
   "source": [
    "def plot_fid(fid_list):\n",
    "    fig, ax = plt.subplots()\n",
    "    f = len(fid_list)\n",
    "    \n",
    "    ax.plot(np.linspace(1,f, f), fid_list)\n",
    "    ax.tick_params(axis='x', labelsize=15)\n",
    "    ax.tick_params(axis='y', labelsize=15)\n",
    "          \n",
    "    ax.set_xlabel('iteration', fontsize = 18)\n",
    "    ax.set_ylabel('fidelity', fontsize = 18)\n",
    "    fig.show()"
   ]
  },
  {
   "cell_type": "code",
   "execution_count": 118,
   "metadata": {
    "scrolled": true
   },
   "outputs": [
    {
     "data": {
      "text/plain": [
       "[[0.15843935978610996,\n",
       "  0.6926097481612684,\n",
       "  0.7802924379649233,\n",
       "  0.8939216369531282,\n",
       "  0.9284768816158347,\n",
       "  0.9597074209769227,\n",
       "  0.9716560896326148,\n",
       "  0.982599641369597,\n",
       "  0.9873356426917591,\n",
       "  0.991705664205123]]"
      ]
     },
     "execution_count": 118,
     "metadata": {},
     "output_type": "execute_result"
    }
   ],
   "source": [
    "tF #how fidelity changed"
   ]
  },
  {
   "cell_type": "code",
   "execution_count": 119,
   "metadata": {},
   "outputs": [
    {
     "name": "stderr",
     "output_type": "stream",
     "text": [
      "/var/folders/2w/_70fq7w11c36fkhz8pnqp8gw0000gp/T/ipykernel_9655/3072373806.py:11: UserWarning: Matplotlib is currently using module://matplotlib_inline.backend_inline, which is a non-GUI backend, so cannot show the figure.\n",
      "  fig.show()\n"
     ]
    },
    {
     "data": {
      "image/png": "[encoded data removed]",
      "text/plain": [
       "<Figure size 432x288 with 1 Axes>"
      ]
     },
     "metadata": {
      "needs_background": "light"
     },
     "output_type": "display_data"
    }
   ],
   "source": [
    "plot_fid(tF[0])"
   ]
  },
  {
   "cell_type": "markdown",
   "metadata": {},
   "source": [
    "# Sanity Check"
   ]
  },
  {
   "cell_type": "markdown",
   "metadata": {},
   "source": [
    "Check whether the state is accurate"
   ]
  },
  {
   "cell_type": "code",
   "execution_count": 37,
   "metadata": {},
   "outputs": [],
   "source": [
    "opt_states = opt_result.optimized_objectives[0].propagate(tlist, propagator=krotov.propagators.expm).states"
   ]
  },
  {
   "cell_type": "code",
   "execution_count": 38,
   "metadata": {},
   "outputs": [
    {
     "data": {
      "text/latex": [
       "Quantum object: dims = [[4], [1]], shape = (4, 1), type = ket\\begin{equation*}\\left(\\begin{array}{*{11}c}(0.202+0.147j)\\\\(0.071-0.367j)\\\\(-0.070+0.369j)\\\\(0.385+0.713j)\\\\\\end{array}\\right)\\end{equation*}"
      ],
      "text/plain": [
       "Quantum object: dims = [[4], [1]], shape = (4, 1), type = ket\n",
       "Qobj data =\n",
       "[[ 0.20237592+0.14732047j]\n",
       " [ 0.07094017-0.36749937j]\n",
       " [-0.07005558+0.36943022j]\n",
       " [ 0.38452024+0.71274826j]]"
      ]
     },
     "execution_count": 38,
     "metadata": {},
     "output_type": "execute_result"
    }
   ],
   "source": [
    "opt_states[-1]"
   ]
  },
  {
   "cell_type": "code",
   "execution_count": 39,
   "metadata": {},
   "outputs": [
    {
     "data": {
      "text/plain": [
       "0.5420826721217809"
      ]
     },
     "execution_count": 39,
     "metadata": {},
     "output_type": "execute_result"
    }
   ],
   "source": [
    "qutip.fidelity(opt_states[-1], targ_states[0])**2"
   ]
  },
  {
   "cell_type": "code",
   "execution_count": 40,
   "metadata": {},
   "outputs": [
    {
     "data": {
      "text/latex": [
       "Quantum object: dims = [[4], [1]], shape = (4, 1), type = ket\\begin{equation*}\\left(\\begin{array}{*{11}c}(0.202+0.147j)\\\\(0.071-0.367j)\\\\(-0.070+0.369j)\\\\(0.385+0.713j)\\\\\\end{array}\\right)\\end{equation*}"
      ],
      "text/plain": [
       "Quantum object: dims = [[4], [1]], shape = (4, 1), type = ket\n",
       "Qobj data =\n",
       "[[ 0.20237592+0.14732047j]\n",
       " [ 0.07094017-0.36749937j]\n",
       " [-0.07005558+0.36943022j]\n",
       " [ 0.38452024+0.71274826j]]"
      ]
     },
     "execution_count": 40,
     "metadata": {},
     "output_type": "execute_result"
    }
   ],
   "source": [
    "tS[0][-1]"
   ]
  },
  {
   "cell_type": "markdown",
   "metadata": {},
   "source": [
    "Another way to check is whether this state is correct is by using mesolve: (mesolve might give a very slightly different state since calculation method is different: check(https://qucontrol.github.io/krotov/v1.2.0/API/krotov.propagators.html and https://qutip.org/docs/latest/apidoc/functions.html#qutip.mesolve.mesolve)"
   ]
  },
  {
   "cell_type": "code",
   "execution_count": null,
   "metadata": {},
   "outputs": [],
   "source": [
    "def generate_ham_check(hamiltonian, pauli,k,j):\n",
    "    if pauli == 'X':\n",
    "        return [hamiltonian[k], np.array(pulse_list[-1][j])]\n",
    "    elif pauli == 'Z':\n",
    "        return [hamiltonian[k], np.array(pulse_list[-1][j])]"
   ]
  },
  {
   "cell_type": "code",
   "execution_count": null,
   "metadata": {},
   "outputs": [],
   "source": [
    "H_check = [-Hzz for Hzz in Hz_2local] + \\\n",
    "[generate_ham_check(Hx_local, 'X', i, i) for i in range(nq)] + [generate_ham_check(Hz_local, 'Z', i, i+nq) for i in range(nq)]"
   ]
  },
  {
   "cell_type": "code",
   "execution_count": null,
   "metadata": {},
   "outputs": [
    {
     "data": {
      "text/latex": [
       "Quantum object: dims = [[4], [1]], shape = (4, 1), type = ket\\begin{equation*}\\left(\\begin{array}{*{11}c}(-0.086-0.098j)\\\\(-0.040+0.014j)\\\\(-0.342+0.162j)\\\\(0.055-0.914j)\\\\\\end{array}\\right)\\end{equation*}"
      ],
      "text/plain": [
       "Quantum object: dims = [[4], [1]], shape = (4, 1), type = ket\n",
       "Qobj data =\n",
       "[[-0.08554313-0.09827255j]\n",
       " [-0.03975096+0.01448829j]\n",
       " [-0.3421034 +0.16182827j]\n",
       " [ 0.05517294-0.91376564j]]"
      ]
     },
     "execution_count": 30,
     "metadata": {},
     "output_type": "execute_result"
    }
   ],
   "source": [
    "ms = qutip.mesolve(H_check, psi_init, tlist).states[-1]\n",
    "ms"
   ]
  },
  {
   "cell_type": "code",
   "execution_count": null,
   "metadata": {},
   "outputs": [
    {
     "data": {
      "text/plain": [
       "0.9999755651253809"
      ]
     },
     "execution_count": 31,
     "metadata": {},
     "output_type": "execute_result"
    }
   ],
   "source": [
    "qutip.fidelity(opt_states[-1], ms)**2 # this should be near 1"
   ]
  },
  {
   "cell_type": "markdown",
   "metadata": {},
   "source": [
    "you can also check how discriminator's operator (D) changed over optimization"
   ]
  },
  {
   "cell_type": "code",
   "execution_count": null,
   "metadata": {
    "scrolled": true
   },
   "outputs": [
    {
     "data": {
      "text/plain": [
       "[[Quantum object: dims = [[4], [4]], shape = (4, 4), type = oper, isherm = True\n",
       "  Qobj data =\n",
       "  [[ 0.20469903 -0.02286672 -0.09451132  0.        ]\n",
       "   [-0.02286672 -0.04108228  0.         -0.09451132]\n",
       "   [-0.09451132  0.          0.04108228 -0.02286672]\n",
       "   [ 0.         -0.09451132 -0.02286672 -0.20469903]],\n",
       "  Quantum object: dims = [[4], [4]], shape = (4, 4), type = oper, isherm = True\n",
       "  Qobj data =\n",
       "  [[-0.02167526+0.j          0.01309299+0.04933836j  0.06250291+0.00856225j\n",
       "    -0.3563739 +0.0461587j ]\n",
       "   [ 0.01309299-0.04933836j  0.06329197+0.j          0.03013875-0.0721817j\n",
       "     0.00929605+0.18805589j]\n",
       "   [ 0.06250291-0.00856225j  0.03013875+0.0721817j   0.09667168+0.j\n",
       "    -0.21004277+0.10015129j]\n",
       "   [-0.3563739 -0.0461587j   0.00929605-0.18805589j -0.21004277-0.10015129j\n",
       "    -0.15301526+0.j        ]],\n",
       "  Quantum object: dims = [[4], [4]], shape = (4, 4), type = oper, isherm = True\n",
       "  Qobj data =\n",
       "  [[ 2.26140211e-04+0.j          4.83406801e-02-0.02127985j\n",
       "     1.05777180e-01-0.07620783j -2.53305447e-02+0.04814657j]\n",
       "   [ 4.83406801e-02+0.02127985j  8.37101317e-03+0.j\n",
       "     2.02100527e-02-0.0043001j   1.56026427e-01+0.07701756j]\n",
       "   [ 1.05777180e-01+0.07620783j  2.02100527e-02+0.0043001j\n",
       "     5.10018443e-02+0.j          3.37129912e-01+0.26609188j]\n",
       "   [-2.53305447e-02-0.04814657j  1.56026427e-01-0.07701756j\n",
       "     3.37129912e-01-0.26609188j -1.64277587e-01+0.j        ]],\n",
       "  Quantum object: dims = [[4], [4]], shape = (4, 4), type = oper, isherm = True\n",
       "  Qobj data =\n",
       "  [[-0.16580403+0.j          0.06250653-0.04038833j -0.01936686+0.02122894j\n",
       "    -0.30201421+0.00727703j]\n",
       "   [ 0.06250653+0.04038833j  0.02437243+0.j         -0.0091005 +0.0023973j\n",
       "     0.27991518+0.18370398j]\n",
       "   [-0.01936686-0.02122894j -0.0091005 -0.0023973j   0.00363386+0.j\n",
       "    -0.08644907-0.09612659j]\n",
       "   [-0.30201421-0.00727703j  0.27991518-0.18370398j -0.08644907+0.09612659j\n",
       "     0.13725468+0.j        ]],\n",
       "  Quantum object: dims = [[4], [4]], shape = (4, 4), type = oper, isherm = True\n",
       "  Qobj data =\n",
       "  [[-0.1051624 +0.j          0.01588102+0.04122457j  0.09316115-0.05783639j\n",
       "    -0.17722414-0.01254151j]\n",
       "   [ 0.01588102-0.04122457j  0.00419156+0.j         -0.00194319-0.01022086j\n",
       "     0.05842326-0.1549109j ]\n",
       "   [ 0.09316115+0.05783639j -0.00194319+0.01022086j  0.02582378+0.j\n",
       "     0.35065577+0.21427739j]\n",
       "   [-0.17722414+0.01254151j  0.05842326+0.1549109j   0.35065577-0.21427739j\n",
       "     0.06651681+0.j        ]],\n",
       "  Quantum object: dims = [[4], [4]], shape = (4, 4), type = oper, isherm = True\n",
       "  Qobj data =\n",
       "  [[-0.17345444+0.j          0.06934342-0.04122045j -0.01016386+0.04679065j\n",
       "    -0.28858666+0.07180169j]\n",
       "   [ 0.06934342+0.04122045j  0.0092554 +0.j         -0.0037455 +0.00401876j\n",
       "     0.25826833+0.1628853j ]\n",
       "   [-0.01016386-0.04679065j -0.0037455 -0.00401876j  0.00326072+0.j\n",
       "    -0.03379073-0.17805894j]\n",
       "   [-0.28858666-0.07180169j  0.25826833-0.1628853j  -0.03379073+0.17805894j\n",
       "     0.15217461+0.j        ]],\n",
       "  Quantum object: dims = [[4], [4]], shape = (4, 4), type = oper, isherm = True\n",
       "  Qobj data =\n",
       "  [[-0.10532096+0.j          0.02072211+0.06319794j  0.08799779-0.05498015j\n",
       "    -0.17063835+0.03918542j]\n",
       "   [ 0.02072211-0.06319794j  0.00510421+0.j         -0.00190527-0.0077319j\n",
       "     0.07698224-0.2253609j ]\n",
       "   [ 0.08799779+0.05498015j -0.00190527+0.0077319j   0.01242353+0.j\n",
       "     0.31264326+0.20073465j]\n",
       "   [-0.17063835-0.03918542j  0.07698224+0.2253609j   0.31264326-0.20073465j\n",
       "     0.08607046+0.j        ]]]]"
      ]
     },
     "execution_count": 72,
     "metadata": {},
     "output_type": "execute_result"
    }
   ],
   "source": [
    "tD"
   ]
  },
  {
   "cell_type": "code",
   "execution_count": null,
   "metadata": {},
   "outputs": [],
   "source": []
  }
 ],
 "metadata": {
  "interpreter": {
   "hash": "d67205fe6c80655c76515d3801aace8f90435b90fb2c2b5e55627754c3b52aa9"
  },
  "kernelspec": {
   "display_name": "Python 3 (ipykernel)",
   "language": "python",
   "name": "python3"
  },
  "language_info": {
   "codemirror_mode": {
    "name": "ipython",
    "version": 3
   },
   "file_extension": ".py",
   "mimetype": "text/x-python",
   "name": "python",
   "nbconvert_exporter": "python",
   "pygments_lexer": "ipython3",
   "version": "3.10.4"
  }
 },
 "nbformat": 4,
 "nbformat_minor": 4
}
