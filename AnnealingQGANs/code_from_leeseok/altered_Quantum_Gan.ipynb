{
 "cells": [
  {
   "cell_type": "code",
   "execution_count": 1,
   "source": [
    "import qutip\n",
    "import numpy as np\n",
    "import scipy\n",
    "import matplotlib\n",
    "import matplotlib.pylab as plt\n",
    "import krotov\n",
    "import random\n",
    "import math\n",
    "import picos\n",
    "import cvxopt\n",
    "import pickle\n",
    "import threadpoolctl\n",
    "from krotov.parametrization import ParametrizedFunction, SquareParametrization, TanhParametrization\n",
    "\n",
    "from discriminator import *"
   ],
   "outputs": [],
   "metadata": {}
  },
  {
   "cell_type": "markdown",
   "source": [
    "# Set Hyperparameters"
   ],
   "metadata": {}
  },
  {
   "cell_type": "markdown",
   "source": [
    "Important: one should make sure that the number of time steps (variable of \"steps\" below) is reasonably larger than the annealing time $T$. This is because if one increases annealing time $T$ and fixes number of time steps, the evolution becomes more and more inaccruate. Hence, once one evolves the Hamiltonian equipped to the pulse sequences, the final state will depend on what methods one evolves the Hamiltonian. For instance, using propagator in Krotov package will give different final state from using mesolve function in Qutip package. This will make unfair to compare with the results drawn from HOQST as well. \n",
    "\n",
    "I checked that setting the number of steps equal to $10 \\times T$ makes the evolution smooth enough so that the final states evolved from Krotov propagator and Qutip mesolve are the same.\n",
    "\n",
    "Also, make sure you increse annealing team as you increase number of qubits."
   ],
   "metadata": {}
  },
  {
   "cell_type": "code",
   "execution_count": 2,
   "source": [
    "nq = 2 #number of qubits\n",
    "T = 5 #annealing time\n",
    "steps = T*10 #time steps \n",
    "tlist = np.linspace(0, T, steps)"
   ],
   "outputs": [],
   "metadata": {}
  },
  {
   "cell_type": "markdown",
   "source": [
    "# Define Hamiltonian"
   ],
   "metadata": {}
  },
  {
   "cell_type": "markdown",
   "source": [
    "The system Hamiltonian we will be using now is in the form of: \n",
    "\n",
    "$H(t) = \\sum_{i=1}^{n} \\epsilon_i(t) X_i + \\sum_{i=1}^{n} \\epsilon_{i+n}(t) Z_i - \\sum_{i=1}^{n-1} Z_iZ_{i+1}, $\n",
    "\n",
    "where $n$ is the number of qubits. In addition, we will initiaize guess control functions equipped to the initial counditions of ${\\epsilon}_{i=1,...n} (t=0) = 0$ (pulse coefficients of $X_i$) and ${\\epsilon}_{i=n+1,...,2n} (t=0) = 1$, which gives the ground state of $\\lvert{11...11}\\rangle$."
   ],
   "metadata": {}
  },
  {
   "cell_type": "code",
   "execution_count": 3,
   "source": [
    "#set matrices for each Hamiltonian terms, X_i, Z_i, and Z_iZ_i+1\n",
    "Hx_local,Hz_local,Hz_2local=[],[],[]\n",
    "for i in range(nq):\n",
    "    argsX=[qutip.qeye(2) for _ in range(nq)]; argsX[i]=qutip.sigmax()\n",
    "    argsZ=[qutip.qeye(2) for _ in range(nq)]; argsZ[i]=qutip.sigmaz()\n",
    "    Hx_local.append(qutip.tensor(*argsX)); Hz_local.append(qutip.tensor(*argsZ))\n",
    "    \n",
    "    if i < nq-1:\n",
    "        argsZZ=[qutip.qeye(2) for _ in range(nq)]; argsZZ[i]=qutip.sigmaz(); argsZZ[i+1]=qutip.sigmaz()\n",
    "        Hz_2local.append(qutip.tensor(*argsZZ))\n",
    "\n",
    "#re-dimension\n",
    "for h in Hx_local, Hz_local, Hz_2local:\n",
    "    for g in h:\n",
    "        g.dims=[[2**nq],[2**nq]]; \n",
    "\n",
    "    "
   ],
   "outputs": [],
   "metadata": {}
  },
  {
   "cell_type": "code",
   "execution_count": 4,
   "source": [
    "def generate_ham(hamiltonian, pauli,k):\n",
    "    if pauli == 'X':\n",
    "        return [hamiltonian[k], ParametrizedFunction(lambda t, args: 0.5*np.sin(10*t/T), \n",
    "                TanhParametrization(eps_max=1.0, eps_min=-1.0))]\n",
    "    elif pauli == 'Z':\n",
    "        return [hamiltonian[k], ParametrizedFunction(lambda t, args: np.cos(10*t/T), \n",
    "                TanhParametrization(eps_max=1.0, eps_min=-1.0))]"
   ],
   "outputs": [],
   "metadata": {}
  },
  {
   "cell_type": "code",
   "execution_count": 5,
   "source": [
    "#generate the system hamiltonian\n",
    "if nq==1:\n",
    "    H = [qutip.qzero(2)] + [generate_ham(Hx_local, 'X', i) for i in range(nq)] + [generate_ham(Hz_local, 'Z', i) for i in range(nq)]\n",
    "else:\n",
    "    H = [-Hzz for Hzz in Hz_2local] + [generate_ham(Hx_local, 'X', i) for i in range(nq)] + [generate_ham(Hz_local, 'Z', i) for i in range(nq)]"
   ],
   "outputs": [],
   "metadata": {}
  },
  {
   "cell_type": "markdown",
   "source": [
    "# Customize the Cost Function"
   ],
   "metadata": {}
  },
  {
   "cell_type": "markdown",
   "source": [
    "This part is required if one tries to use specific forms of cost function other than listed in Krotov package(https://qucontrol.github.io/krotov/v1.0.0/API/krotov.functionals.html). \n",
    "\n",
    "Here, we might want to use the following form for the generator: $J_T = \\lvert \\text{Tr}(D\\sigma-D\\rho(T)) \\rvert ^2$ where $\\sigma=\\lvert \\psi_{targ} \\rangle \\langle \\psi_{targ} \\rvert$ is a target state and $\\rho(T)=\\lvert \\psi(T) \\rangle \\langle \\psi(T) \\rvert$ is a fully time-evolved state. \n",
    "\n",
    "Krotov's method requires to enter $-\\frac{\\partial J}{\\partial \\langle \\psi_k \\rvert} = -2 (\\langle \\psi(T) \\rvert D\\lvert \\psi(T)\\rangle -  \\langle \\psi_{targ} \\rvert D\\lvert \\psi_{targ}\\rangle) \\cdot D\\lvert \\psi(T)\\rangle$, which is described in chis_qubit function below. print_qubit_error function is for print out the cost function during optimization."
   ],
   "metadata": {}
  },
  {
   "cell_type": "code",
   "execution_count": 6,
   "source": [
    "def print_qubit_error(**args):\n",
    "    \"\"\"Utility function writing the qubit error to screen\"\"\"\n",
    "    taus = []\n",
    "    for state_T in args['fw_states_T']:\n",
    "        exp = qutip.expect(D, state_T)\n",
    "        taus.append(exp)\n",
    "        \n",
    "    J_T_re = np.average(taus)\n",
    "    \n",
    "    exp_D = qutip.expect(D, psi_targ)\n",
    "    \n",
    "    J = abs(J_T_re-exp_D)**2\n",
    "\n",
    "    \n",
    "    print(\"    |<psi|D|psi> - <target|D|target>|^2: %.le\"% (J) )\n",
    "    \n",
    "    return J\n",
    "        "
   ],
   "outputs": [],
   "metadata": {}
  },
  {
   "cell_type": "code",
   "execution_count": 7,
   "source": [
    "def chis_qubit(fw_states_T, objectives, tau_vals):\n",
    "    \"\"\"Calculate chis for the chosen functional\"\"\"\n",
    "    chis = []\n",
    "    #print(fw_states_T)\n",
    "    for state_i_T in fw_states_T:\n",
    "        #print(D)\n",
    "        #chi=-(D*state_i_T)\n",
    "        c = qutip.expect(D, psi_targ)\n",
    "        o = qutip.expect(D, state_i_T)\n",
    "        \n",
    "        #chi= -2*(o-c)*(D*state_i_T)\n",
    "        \n",
    "        chi=-2*(state_i_T.dag()*(D*state_i_T) - c)*(D*state_i_T)\n",
    "        chis.append(chi)\n",
    "    return chis"
   ],
   "outputs": [],
   "metadata": {}
  },
  {
   "cell_type": "markdown",
   "source": [
    "# Shape Function"
   ],
   "metadata": {}
  },
  {
   "cell_type": "markdown",
   "source": [
    "Krotov's method requires shape function, which is used to optimize pulse sequence in each time grid. The shape function should be defined in the same time grid and indicates how much pulse value (at each time grid) is changed in a single optimization. For instance, $S(t=0) = 0$ will prevent from pulse value at $t=0$ changing. (check: https://qucontrol.github.io/krotov/v1.0.0/07_krotovs_method.html?highlight=shape%20#first-order-update)\n",
    "\n",
    "The design of such shape function is completely up to the user."
   ],
   "metadata": {}
  },
  {
   "cell_type": "code",
   "execution_count": 8,
   "source": [
    "def S(t):\n",
    "    \"\"\"Shape function for the field update\"\"\"\n",
    "    #return krotov.shapes.box(t, 0, 5)\n",
    "    #return krotov.shapes.blackman(t, 0, T)\n",
    "    #return krotov.shapes.flattop(t, t_start=0, t_stop=T, t_rise=0.1, t_fall=0.1, func='sinsq')\n",
    "    \n",
    "    #return np.sin(2*np.pi*t/8)**2\n",
    "    return np.sin(2*t*5/T)**2\n",
    "    \n",
    "    #if t==0:\n",
    "    #    return 0\n",
    "    \n",
    "    #else:\n",
    "    #    return 1"
   ],
   "outputs": [],
   "metadata": {}
  },
  {
   "cell_type": "markdown",
   "source": [
    "# Initial/Target States"
   ],
   "metadata": {}
  },
  {
   "cell_type": "markdown",
   "source": [
    "Create initial state; here we want to start from the ground state of initial Hamiltomian we defined earlier. The ground state should be $\\lvert 11..11\\rangle$. "
   ],
   "metadata": {}
  },
  {
   "cell_type": "code",
   "execution_count": 9,
   "source": [
    "#produce initial hamiltonian, i.e. H(t=0)\n",
    "h0=0\n",
    "for h in Hz_local,Hz_2local:\n",
    "    for g in h:\n",
    "        if h == Hz_local:\n",
    "            h0+=g\n",
    "        else:\n",
    "            h0+=-g"
   ],
   "outputs": [],
   "metadata": {}
  },
  {
   "cell_type": "code",
   "execution_count": 10,
   "source": [
    "psi_init = h0.eigenstates()[1][0] \n",
    "rho_init=psi_init * psi_init.dag()\n",
    "psi_init"
   ],
   "outputs": [
    {
     "output_type": "execute_result",
     "data": {
      "text/latex": [
       "Quantum object: dims = [[4], [1]], shape = (4, 1), type = ket\\begin{equation*}\\left(\\begin{array}{*{11}c}0.0\\\\0.0\\\\0.0\\\\1.0\\\\\\end{array}\\right)\\end{equation*}"
      ],
      "text/plain": [
       "Quantum object: dims = [[4], [1]], shape = (4, 1), type = ket\n",
       "Qobj data =\n",
       "[[0.]\n",
       " [0.]\n",
       " [0.]\n",
       " [1.]]"
      ]
     },
     "metadata": {},
     "execution_count": 10
    }
   ],
   "metadata": {}
  },
  {
   "cell_type": "markdown",
   "source": [
    "Create target states: $\\lvert \\psi_{target} \\rangle = \\cos\\theta\\lvert0..0\\rangle + \\sin\\theta \\lvert 1..1 \\rangle$ for 50 equidistant $\\theta \\in [0, 2\\pi]$."
   ],
   "metadata": {}
  },
  {
   "cell_type": "code",
   "execution_count": 11,
   "source": [
    "thetas = np.linspace(0, 2*np.pi, 50)\n",
    "targ_states = []\n",
    "for t in thetas:\n",
    "    targ_states.append(np.cos(t)*qutip.basis(2**nq,0) + np.sin(t)*qutip.basis(2**nq, 2**nq-1))"
   ],
   "outputs": [],
   "metadata": {
    "scrolled": true
   }
  },
  {
   "cell_type": "code",
   "execution_count": 12,
   "source": [
    "objectives = [krotov.Objective(initial_state=psi_init, target=0, H=H)]"
   ],
   "outputs": [],
   "metadata": {}
  },
  {
   "cell_type": "markdown",
   "source": [
    "# Choose initial operator for discriminator, $D_0$"
   ],
   "metadata": {}
  },
  {
   "cell_type": "markdown",
   "source": [
    "Choose a random $D_0$ (initial operator for the discriminator). Here, I choose the form of $D0$ as the sum of 1-local $\\cos \\theta X + \\sin \\theta Z$ operators, i.e. $D0 = (\\cos \\theta_1 X + \\sin \\theta_1 Z) \\otimes I ... \\otimes I + .... + I \\otimes I ... \\otimes \\cos \\theta_n X + \\sin \\theta_n Z$. Then normalize $D0$ so that $||D||_p \\leq 1$, depending on what types of norm you are using. "
   ],
   "metadata": {}
  },
  {
   "cell_type": "code",
   "execution_count": 13,
   "source": [
    "phis = 2*np.pi*np.random.uniform(0,1,nq) #pick random angles\n",
    "\n",
    "D0=0\n",
    "for i in range(nq):\n",
    "    ob = np.cos(phis[i])*qutip.sigmax() + np.sin(phis[i])*qutip.sigmaz()\n",
    "    args=[qutip.qeye(2) for _ in range(nq)]; args[i] = ob\n",
    "    D0+=qutip.tensor(qutip.tensor(*args))\n",
    "    \n",
    "D0.dims=[[2**nq],[2**nq]]\n",
    "D0 = D0/(nq**2*np.sqrt(2)**(nq)) #preform proper normalization: this is not the optimal normalization. \n",
    "D0                           #you should check norms of D0 is actually bounded by 1 before running the optimization"
   ],
   "outputs": [
    {
     "output_type": "execute_result",
     "data": {
      "text/latex": [
       "Quantum object: dims = [[4], [4]], shape = (4, 4), type = oper, isherm = True\\begin{equation*}\\left(\\begin{array}{*{11}c}0.137 & 0.107 & 0.102 & 0.0\\\\0.107 & 0.008 & 0.0 & 0.102\\\\0.102 & 0.0 & -0.008 & 0.107\\\\0.0 & 0.102 & 0.107 & -0.137\\\\\\end{array}\\right)\\end{equation*}"
      ],
      "text/plain": [
       "Quantum object: dims = [[4], [4]], shape = (4, 4), type = oper, isherm = True\n",
       "Qobj data =\n",
       "[[ 0.13716178  0.10696535  0.10183954  0.        ]\n",
       " [ 0.10696535  0.00780316  0.          0.10183954]\n",
       " [ 0.10183954  0.         -0.00780316  0.10696535]\n",
       " [ 0.          0.10183954  0.10696535 -0.13716178]]"
      ]
     },
     "metadata": {},
     "execution_count": 13
    }
   ],
   "metadata": {}
  },
  {
   "cell_type": "code",
   "execution_count": 14,
   "source": [
    "#check norm and make sure it's bounded by 1\n",
    "\n",
    "print(picos.NuclearNorm(np.array(D0))) \n",
    "#print(picos.Norm(np.array(D0)))\n",
    "#print(lipschitz_dual(np.array(D0)))"
   ],
   "outputs": [
    {
     "output_type": "stream",
     "name": "stdout",
     "text": [
      "0.49999999999999983\n"
     ]
    }
   ],
   "metadata": {}
  },
  {
   "cell_type": "code",
   "execution_count": 15,
   "source": [
    "phis"
   ],
   "outputs": [
    {
     "output_type": "execute_result",
     "data": {
      "text/plain": [
       "array([0.61855655, 0.54385017])"
      ]
     },
     "metadata": {},
     "execution_count": 15
    }
   ],
   "metadata": {
    "scrolled": true
   }
  },
  {
   "cell_type": "code",
   "execution_count": 16,
   "source": [
    "targ_states = [targ_states[10]]# For this notebook, I'll only train for 1 target state"
   ],
   "outputs": [],
   "metadata": {}
  },
  {
   "cell_type": "code",
   "execution_count": 17,
   "source": [
    "targ_states"
   ],
   "outputs": [
    {
     "output_type": "execute_result",
     "data": {
      "text/plain": [
       "[Quantum object: dims = [[4], [1]], shape = (4, 1), type = ket\n",
       " Qobj data =\n",
       " [[0.28452759]\n",
       "  [0.        ]\n",
       "  [0.        ]\n",
       "  [0.95866785]]]"
      ]
     },
     "metadata": {},
     "execution_count": 17
    }
   ],
   "metadata": {
    "scrolled": true
   }
  },
  {
   "cell_type": "markdown",
   "source": [
    "# Optimization"
   ],
   "metadata": {}
  },
  {
   "cell_type": "code",
   "execution_count": 18,
   "source": [
    "def kro_expm(H, state, dt, c_ops=None, backwards=False, initialize=False):\n",
    "    \"\"\"Propagate using matrix exponentiation.\n",
    "\n",
    "    This supports `H` being a Hamiltonian (for a Hilbert space `state`) or a\n",
    "    Liouvillian (for `state` being a density matrix) in nested-list format.\n",
    "    Collapse operators `c_ops` are not supported. The propagator is not\n",
    "    stateful, thus `initialize` is ignored. The matrix exponentiation is\n",
    "    evaluated in single-threaded mode, to prevent accidental nested\n",
    "    parallelization.\n",
    "    \"\"\"\n",
    "    if c_ops is None:\n",
    "        c_ops = []\n",
    "    if len(c_ops) > 0:\n",
    "        raise NotImplementedError(\"Liouville exponentiation not implemented\")\n",
    "    assert isinstance(H, list) and len(H) > 0\n",
    "    eqm_factor = -1j  # factor in front of H on rhs of the equation of motion\n",
    "    if isinstance(H[0], list):\n",
    "        if H[0][1].type == 'super':\n",
    "            eqm_factor = 1\n",
    "        if backwards:\n",
    "            eqm_factor = eqm_factor.conjugate()\n",
    "        A = (eqm_factor * H[0][1]) * H[0][0]\n",
    "    else:\n",
    "        if H[0].type == 'super':\n",
    "            eqm_factor = 1\n",
    "        if backwards:\n",
    "            eqm_factor = eqm_factor.conjugate()\n",
    "        A = eqm_factor * H[0]\n",
    "    for part in H[1:]:\n",
    "        if isinstance(part, list):\n",
    "            A += (eqm_factor * part[1]) * part[0]\n",
    "        else:\n",
    "            A += eqm_factor * part\n",
    "    ok_types = (state.type == 'oper' and A.type == 'super') or (\n",
    "        state.type in ['ket', 'bra'] and A.type == 'oper'\n",
    "    )\n",
    "    if ok_types:\n",
    "        with threadpoolctl.threadpool_limits(limits=1):\n",
    "            return ((A * dt).expm())(state)\n",
    "    else:\n",
    "        raise NotImplementedError(\n",
    "            \"Cannot handle argument types A:%s, state:%s\"\n",
    "            % (A.type, state.type)\n",
    "        )\n",
    "\n",
    "\n",
    "def trivial_evo(H, state, dt, c_ops=None, backwards=False, initialize=False):\n",
    "    return state"
   ],
   "outputs": [],
   "metadata": {}
  },
  {
   "cell_type": "code",
   "execution_count": 18,
   "source": [
    "#it = number of iterations taken in each step of the generator; \n",
    "#lam = stepsize of generator; #total_it: iterations of QGAN\n",
    "it=1; lam =3.0; total_it = 1;\n",
    "\n",
    "#choose norm: 'trace', 'l2', 'operator', 'w'\n",
    "norm = 'trace'"
   ],
   "outputs": [],
   "metadata": {}
  },
  {
   "cell_type": "code",
   "execution_count": 19,
   "source": [
    "#D, pulse, fidelity list, states\n",
    "tD, tP, tF, tS = [],[],[],[]\n",
    "\n",
    "\n",
    "for state in targ_states: \n",
    "    \n",
    "    #set preliminaries & store initial values of D and initial pulse\n",
    "    D_list,pulse_list,fid_list,state_list=[],[],[],[]\n",
    "    \n",
    "    #rho_list, rho_diff_list=[],[]\n",
    "    \n",
    "    #define target state & set initial D as D0\n",
    "    psi_targ = state; rho_targ = psi_targ * psi_targ.dag(); D= D0; add=it\n",
    "\n",
    "    #Store initial pulse & define pulse_options\n",
    "    init_pulse=[]\n",
    "    if nq == 1:\n",
    "        pulse_options={}; H_param = [H[i][1] for i in range(1,3)]\n",
    "        for h in H_param:\n",
    "            pulse_options[h] = dict(lambda_a=lam, update_shape=S)\n",
    "        for i in range(1,3):\n",
    "            init_pulse.append(np.array([H[i][1](t, args=None) for t in tlist]))\n",
    "    \n",
    "    else:\n",
    "        pulse_options={}; H_param = [H[i][1] for i in range(nq-1, 2*nq+(nq-1))]\n",
    "        for h in H_param:\n",
    "            pulse_options[h] = dict(lambda_a=lam, update_shape=S)\n",
    "        for i in range(nq-1,2*nq+(nq-1)):\n",
    "            init_pulse.append(np.array([H[i][1](t, args=None) for t in tlist]))\n",
    "    \n",
    "    D_list.append(D); pulse_list.append(init_pulse)\n",
    "\n",
    "    \n",
    "    #Generator\n",
    "\n",
    "\n",
    "    for i in range(total_it):\n",
    "\n",
    "        print(str(i)+'th step of QGAN begins')\n",
    "        \n",
    "        #optimize pulse\n",
    "\n",
    "        if i == 0:\n",
    "            print(\"About to perform krotov optim\\n\")\n",
    "            opt_result = krotov.optimize_pulses(\n",
    "            objectives,\n",
    "            pulse_options,\n",
    "            tlist,\n",
    "            propagator=krotov.propagators.DensityMatrixODEPropagator(),\n",
    "            chi_constructor=chis_qubit,\n",
    "            iter_stop = it,\n",
    "            info_hook=krotov.info_hooks.chain(print_qubit_error),)\n",
    "            #check_convergence = krotov.convergence.value_below(limit='1e-22'))\n",
    "            print(\"Done with Krotov\")\n",
    "        else:\n",
    "\n",
    "            opt_result = krotov.optimize_pulses(\n",
    "            objectives,\n",
    "            pulse_options,\n",
    "            tlist,\n",
    "            propagator=krotov.propagators.DensityMatrixODEPropagator(),\n",
    "            chi_constructor=chis_qubit,\n",
    "            iter_stop = it,\n",
    "            info_hook=krotov.info_hooks.chain(print_qubit_error),\n",
    "            #check_convergence = krotov.convergence.value_below(limit='1e-22'),\n",
    "            continue_from=opt_result)\n",
    "\n",
    "        pulse_list.append(opt_result.optimized_controls)\n",
    "        #cost_list.append(opt_result.info_vals[-1])\n",
    "\n",
    "        final_state = opt_result.states[0] #final state\n",
    "        state_list.append(final_state)\n",
    "\n",
    "        rhot = final_state * final_state.dag() #rho_optimized\n",
    "\n",
    "        it+=add\n",
    "\n",
    "        #print results\n",
    "        print(str(i) + 'th step finished: ' + 'psi(t) = ', final_state)\n",
    "\n",
    "        fid_list.append(qutip.fidelity(psi_targ, final_state)**2)\n",
    "\n",
    "        print('fidelity: ' + str(qutip.fidelity(psi_targ, final_state)**2))\n",
    "\n",
    "        #convergence check: fidelity > 0.999\n",
    "        if qutip.fidelity(psi_targ, final_state)**2 > 0.999: \n",
    "            print('converged at ' + str(i) + 'th step') \n",
    "            break\n",
    "\n",
    "        \n",
    "        #rho_list.append(rhot)\n",
    "        #rho_diff_list.append(rhot-rho_targ)\n",
    "        \n",
    "        # Discriminator\n",
    "        if norm == 'w': #when 'w' distance\n",
    "            O,x =wass_distance_dual(np.array(rhot.full()),np.array(rho_targ.full()),True)\n",
    "        else:\n",
    "            O = discriminator(rhot.full(), rho_targ.full(), norm = norm, nq=nq)\n",
    "        \n",
    "        D=qutip.Qobj(O)\n",
    "        D_list.append(D)\n",
    "\n",
    "    tD.append(D_list); tP.append(pulse_list); tF.append(fid_list); tS.append(state_list)\n",
    "    \n"
   ],
   "outputs": [
    {
     "output_type": "stream",
     "name": "stdout",
     "text": [
      "0th step of QGAN begins\n",
      "About to perform krotov optim\n",
      "\n"
     ]
    },
    {
     "output_type": "error",
     "ename": "ValueError",
     "evalue": "Incorrect specification of time-dependent Liouvillian",
     "traceback": [
      "\u001b[0;31m---------------------------------------------------------------------------\u001b[0m",
      "\u001b[0;31mValueError\u001b[0m                                Traceback (most recent call last)",
      "\u001b[0;32m/var/folders/2w/_70fq7w11c36fkhz8pnqp8gw0000gp/T/ipykernel_26762/2163353972.py\u001b[0m in \u001b[0;36m<module>\u001b[0;34m\u001b[0m\n\u001b[1;32m     43\u001b[0m         \u001b[0;32mif\u001b[0m \u001b[0mi\u001b[0m \u001b[0;34m==\u001b[0m \u001b[0;36m0\u001b[0m\u001b[0;34m:\u001b[0m\u001b[0;34m\u001b[0m\u001b[0;34m\u001b[0m\u001b[0m\n\u001b[1;32m     44\u001b[0m             \u001b[0mprint\u001b[0m\u001b[0;34m(\u001b[0m\u001b[0;34m\"About to perform krotov optim\\n\"\u001b[0m\u001b[0;34m)\u001b[0m\u001b[0;34m\u001b[0m\u001b[0;34m\u001b[0m\u001b[0m\n\u001b[0;32m---> 45\u001b[0;31m             opt_result = krotov.optimize_pulses(\n\u001b[0m\u001b[1;32m     46\u001b[0m             \u001b[0mobjectives\u001b[0m\u001b[0;34m,\u001b[0m\u001b[0;34m\u001b[0m\u001b[0;34m\u001b[0m\u001b[0m\n\u001b[1;32m     47\u001b[0m             \u001b[0mpulse_options\u001b[0m\u001b[0;34m,\u001b[0m\u001b[0;34m\u001b[0m\u001b[0;34m\u001b[0m\u001b[0m\n",
      "\u001b[0;32m~/opt/anaconda3/envs/aqgan/lib/python3.9/site-packages/krotov/optimize.py\u001b[0m in \u001b[0;36moptimize_pulses\u001b[0;34m(objectives, pulse_options, tlist, propagator, chi_constructor, mu, sigma, iter_start, iter_stop, check_convergence, info_hook, modify_params_after_iter, storage, parallel_map, store_all_pulses, continue_from, skip_initial_forward_propagation, norm, overlap, limit_thread_pool)\u001b[0m\n\u001b[1;32m    301\u001b[0m         )\n\u001b[1;32m    302\u001b[0m     \u001b[0;32melse\u001b[0m\u001b[0;34m:\u001b[0m\u001b[0;34m\u001b[0m\u001b[0;34m\u001b[0m\u001b[0m\n\u001b[0;32m--> 303\u001b[0;31m         forward_states = parallel_map[0](\n\u001b[0m\u001b[1;32m    304\u001b[0m             \u001b[0m_forward_propagation\u001b[0m\u001b[0;34m,\u001b[0m\u001b[0;34m\u001b[0m\u001b[0;34m\u001b[0m\u001b[0m\n\u001b[1;32m    305\u001b[0m             \u001b[0mlist\u001b[0m\u001b[0;34m(\u001b[0m\u001b[0mrange\u001b[0m\u001b[0;34m(\u001b[0m\u001b[0mlen\u001b[0m\u001b[0;34m(\u001b[0m\u001b[0mobjectives\u001b[0m\u001b[0;34m)\u001b[0m\u001b[0;34m)\u001b[0m\u001b[0;34m)\u001b[0m\u001b[0;34m,\u001b[0m\u001b[0;34m\u001b[0m\u001b[0;34m\u001b[0m\u001b[0m\n",
      "\u001b[0;32m~/opt/anaconda3/envs/aqgan/lib/python3.9/site-packages/qutip/parallel.py\u001b[0m in \u001b[0;36mserial_map\u001b[0;34m(task, values, task_args, task_kwargs, **kwargs)\u001b[0m\n\u001b[1;32m    187\u001b[0m     \u001b[0;32mfor\u001b[0m \u001b[0mn\u001b[0m\u001b[0;34m,\u001b[0m \u001b[0mvalue\u001b[0m \u001b[0;32min\u001b[0m \u001b[0menumerate\u001b[0m\u001b[0;34m(\u001b[0m\u001b[0mvalues\u001b[0m\u001b[0;34m)\u001b[0m\u001b[0;34m:\u001b[0m\u001b[0;34m\u001b[0m\u001b[0;34m\u001b[0m\u001b[0m\n\u001b[1;32m    188\u001b[0m         \u001b[0mprogress_bar\u001b[0m\u001b[0;34m.\u001b[0m\u001b[0mupdate\u001b[0m\u001b[0;34m(\u001b[0m\u001b[0mn\u001b[0m\u001b[0;34m)\u001b[0m\u001b[0;34m\u001b[0m\u001b[0;34m\u001b[0m\u001b[0m\n\u001b[0;32m--> 189\u001b[0;31m         \u001b[0mresult\u001b[0m \u001b[0;34m=\u001b[0m \u001b[0mtask\u001b[0m\u001b[0;34m(\u001b[0m\u001b[0mvalue\u001b[0m\u001b[0;34m,\u001b[0m \u001b[0;34m*\u001b[0m\u001b[0mtask_args\u001b[0m\u001b[0;34m,\u001b[0m \u001b[0;34m**\u001b[0m\u001b[0mtask_kwargs\u001b[0m\u001b[0;34m)\u001b[0m\u001b[0;34m\u001b[0m\u001b[0;34m\u001b[0m\u001b[0m\n\u001b[0m\u001b[1;32m    190\u001b[0m         \u001b[0mresults\u001b[0m\u001b[0;34m.\u001b[0m\u001b[0mappend\u001b[0m\u001b[0;34m(\u001b[0m\u001b[0mresult\u001b[0m\u001b[0;34m)\u001b[0m\u001b[0;34m\u001b[0m\u001b[0;34m\u001b[0m\u001b[0m\n\u001b[1;32m    191\u001b[0m     \u001b[0mprogress_bar\u001b[0m\u001b[0;34m.\u001b[0m\u001b[0mfinished\u001b[0m\u001b[0;34m(\u001b[0m\u001b[0;34m)\u001b[0m\u001b[0;34m\u001b[0m\u001b[0;34m\u001b[0m\u001b[0m\n",
      "\u001b[0;32m~/opt/anaconda3/envs/aqgan/lib/python3.9/site-packages/krotov/optimize.py\u001b[0m in \u001b[0;36m_forward_propagation\u001b[0;34m(i_objective, objectives, pulses, pulses_mapping, tlist, propagators, storage, store_all)\u001b[0m\n\u001b[1;32m    832\u001b[0m         ]\n\u001b[1;32m    833\u001b[0m         \u001b[0mdt\u001b[0m \u001b[0;34m=\u001b[0m \u001b[0mtlist\u001b[0m\u001b[0;34m[\u001b[0m\u001b[0mtime_index\u001b[0m \u001b[0;34m+\u001b[0m \u001b[0;36m1\u001b[0m\u001b[0;34m]\u001b[0m \u001b[0;34m-\u001b[0m \u001b[0mtlist\u001b[0m\u001b[0;34m[\u001b[0m\u001b[0mtime_index\u001b[0m\u001b[0;34m]\u001b[0m\u001b[0;34m\u001b[0m\u001b[0;34m\u001b[0m\u001b[0m\n\u001b[0;32m--> 834\u001b[0;31m         state = propagators[i_objective](\n\u001b[0m\u001b[1;32m    835\u001b[0m             \u001b[0mH\u001b[0m\u001b[0;34m,\u001b[0m \u001b[0mstate\u001b[0m\u001b[0;34m,\u001b[0m \u001b[0mdt\u001b[0m\u001b[0;34m,\u001b[0m \u001b[0mc_ops\u001b[0m\u001b[0;34m,\u001b[0m \u001b[0minitialize\u001b[0m\u001b[0;34m=\u001b[0m\u001b[0;34m(\u001b[0m\u001b[0mtime_index\u001b[0m \u001b[0;34m==\u001b[0m \u001b[0;36m0\u001b[0m\u001b[0;34m)\u001b[0m\u001b[0;34m\u001b[0m\u001b[0;34m\u001b[0m\u001b[0m\n\u001b[1;32m    836\u001b[0m         )\n",
      "\u001b[0;32m~/opt/anaconda3/envs/aqgan/lib/python3.9/site-packages/krotov/propagators.py\u001b[0m in \u001b[0;36m__call__\u001b[0;34m(self, H, state, dt, c_ops, backwards, initialize)\u001b[0m\n\u001b[1;32m    242\u001b[0m         \u001b[0;31m# Internally, however, we'll use L instead of H\u001b[0m\u001b[0;34m\u001b[0m\u001b[0;34m\u001b[0m\u001b[0m\n\u001b[1;32m    243\u001b[0m         \u001b[0;32mif\u001b[0m \u001b[0minitialize\u001b[0m \u001b[0;32mor\u001b[0m \u001b[0mself\u001b[0m\u001b[0;34m.\u001b[0m\u001b[0mreentrant\u001b[0m\u001b[0;34m:\u001b[0m\u001b[0;34m\u001b[0m\u001b[0;34m\u001b[0m\u001b[0m\n\u001b[0;32m--> 244\u001b[0;31m             \u001b[0mself\u001b[0m\u001b[0;34m.\u001b[0m\u001b[0m_initialize\u001b[0m\u001b[0;34m(\u001b[0m\u001b[0mH\u001b[0m\u001b[0;34m,\u001b[0m \u001b[0mstate\u001b[0m\u001b[0;34m,\u001b[0m \u001b[0mdt\u001b[0m\u001b[0;34m,\u001b[0m \u001b[0mc_ops\u001b[0m\u001b[0;34m,\u001b[0m \u001b[0mbackwards\u001b[0m\u001b[0;34m)\u001b[0m\u001b[0;34m\u001b[0m\u001b[0;34m\u001b[0m\u001b[0m\n\u001b[0m\u001b[1;32m    245\u001b[0m         \u001b[0;32melse\u001b[0m\u001b[0;34m:\u001b[0m\u001b[0;34m\u001b[0m\u001b[0;34m\u001b[0m\u001b[0m\n\u001b[1;32m    246\u001b[0m             \u001b[0;32mif\u001b[0m \u001b[0mself\u001b[0m\u001b[0;34m.\u001b[0m\u001b[0mreentrant\u001b[0m\u001b[0;34m:\u001b[0m\u001b[0;34m\u001b[0m\u001b[0;34m\u001b[0m\u001b[0m\n",
      "\u001b[0;32m~/opt/anaconda3/envs/aqgan/lib/python3.9/site-packages/krotov/propagators.py\u001b[0m in \u001b[0;36m_initialize\u001b[0;34m(self, L, rho, dt, c_ops, backwards)\u001b[0m\n\u001b[1;32m    275\u001b[0m \u001b[0;34m\u001b[0m\u001b[0m\n\u001b[1;32m    276\u001b[0m     \u001b[0;32mdef\u001b[0m \u001b[0m_initialize\u001b[0m\u001b[0;34m(\u001b[0m\u001b[0mself\u001b[0m\u001b[0;34m,\u001b[0m \u001b[0mL\u001b[0m\u001b[0;34m,\u001b[0m \u001b[0mrho\u001b[0m\u001b[0;34m,\u001b[0m \u001b[0mdt\u001b[0m\u001b[0;34m,\u001b[0m \u001b[0mc_ops\u001b[0m\u001b[0;34m,\u001b[0m \u001b[0mbackwards\u001b[0m\u001b[0;34m)\u001b[0m\u001b[0;34m:\u001b[0m\u001b[0;34m\u001b[0m\u001b[0;34m\u001b[0m\u001b[0m\n\u001b[0;32m--> 277\u001b[0;31m         \u001b[0mself\u001b[0m\u001b[0;34m.\u001b[0m\u001b[0m_initialize_data\u001b[0m\u001b[0;34m(\u001b[0m\u001b[0mL\u001b[0m\u001b[0;34m,\u001b[0m \u001b[0mrho\u001b[0m\u001b[0;34m,\u001b[0m \u001b[0mdt\u001b[0m\u001b[0;34m,\u001b[0m \u001b[0mc_ops\u001b[0m\u001b[0;34m,\u001b[0m \u001b[0mbackwards\u001b[0m\u001b[0;34m)\u001b[0m\u001b[0;34m\u001b[0m\u001b[0;34m\u001b[0m\u001b[0m\n\u001b[0m\u001b[1;32m    278\u001b[0m         \u001b[0mself\u001b[0m\u001b[0;34m.\u001b[0m\u001b[0m_initialize_integrator\u001b[0m\u001b[0;34m(\u001b[0m\u001b[0mself\u001b[0m\u001b[0;34m.\u001b[0m\u001b[0m_y\u001b[0m\u001b[0;34m)\u001b[0m\u001b[0;34m\u001b[0m\u001b[0;34m\u001b[0m\u001b[0m\n\u001b[1;32m    279\u001b[0m \u001b[0;34m\u001b[0m\u001b[0m\n",
      "\u001b[0;32m~/opt/anaconda3/envs/aqgan/lib/python3.9/site-packages/krotov/propagators.py\u001b[0m in \u001b[0;36m_initialize_data\u001b[0;34m(self, L, rho, dt, c_ops, backwards)\u001b[0m\n\u001b[1;32m    299\u001b[0m                 \u001b[0mL_list\u001b[0m\u001b[0;34m.\u001b[0m\u001b[0mappend\u001b[0m\u001b[0;34m(\u001b[0m\u001b[0;34m[\u001b[0m\u001b[0ml_op\u001b[0m\u001b[0;34m.\u001b[0m\u001b[0mdata\u001b[0m\u001b[0;34m,\u001b[0m \u001b[0ml_coeff\u001b[0m\u001b[0;34m,\u001b[0m \u001b[0;32mFalse\u001b[0m\u001b[0;34m]\u001b[0m\u001b[0;34m)\u001b[0m\u001b[0;34m\u001b[0m\u001b[0;34m\u001b[0m\u001b[0m\n\u001b[1;32m    300\u001b[0m             \u001b[0;32melse\u001b[0m\u001b[0;34m:\u001b[0m\u001b[0;34m\u001b[0m\u001b[0;34m\u001b[0m\u001b[0m\n\u001b[0;32m--> 301\u001b[0;31m                 raise ValueError(\n\u001b[0m\u001b[1;32m    302\u001b[0m                     \u001b[0;34m\"Incorrect specification of time-dependent Liouvillian\"\u001b[0m\u001b[0;34m\u001b[0m\u001b[0;34m\u001b[0m\u001b[0m\n\u001b[1;32m    303\u001b[0m                 )\n",
      "\u001b[0;31mValueError\u001b[0m: Incorrect specification of time-dependent Liouvillian"
     ]
    }
   ],
   "metadata": {
    "scrolled": true
   }
  },
  {
   "cell_type": "markdown",
   "source": [
    "# Results"
   ],
   "metadata": {}
  },
  {
   "cell_type": "markdown",
   "source": [
    "Plot to see how pulse sequences and fidelity changed over optimization"
   ],
   "metadata": {}
  },
  {
   "cell_type": "code",
   "execution_count": 22,
   "source": [
    "def plot_pulse(pulse, tlist):\n",
    "    fig, ax = plt.subplots()\n",
    "    Ham = ['amps of X1', 'amps of X2', 'amps of Z1', 'amps of Z2']\n",
    "    for i in range(len(pulse)):\n",
    "        ax.plot(tlist, pulse[i])#, label=str(Ham[i]))\n",
    "    ax.set_xlabel('time')\n",
    "    ax.set_ylabel('pulse amplitude')\n",
    "    ax.legend(Ham, bbox_to_anchor=(0.9, 0.3))\n",
    "    plt.show(fig)"
   ],
   "outputs": [],
   "metadata": {}
  },
  {
   "cell_type": "code",
   "execution_count": 23,
   "source": [
    "for i in range(len(state_list)):\n",
    "    plot_pulse(pulse_list[i], tlist)"
   ],
   "outputs": [
    {
     "output_type": "display_data",
     "data": {
      "image/png": "[encoded data removed]",
      "text/plain": [
       "<Figure size 432x288 with 1 Axes>"
      ]
     },
     "metadata": {
      "needs_background": "light"
     }
    }
   ],
   "metadata": {
    "scrolled": true
   }
  },
  {
   "cell_type": "code",
   "execution_count": 24,
   "source": [
    "def plot_fid(fid_list):\n",
    "    fig, ax = plt.subplots()\n",
    "    f = len(fid_list)\n",
    "    \n",
    "    ax.plot(np.linspace(1,f, f), fid_list)\n",
    "    ax.tick_params(axis='x', labelsize=15)\n",
    "    ax.tick_params(axis='y', labelsize=15)\n",
    "          \n",
    "    ax.set_xlabel('iteration', fontsize = 18)\n",
    "    ax.set_ylabel('fidelity', fontsize = 18)\n",
    "    fig.show()"
   ],
   "outputs": [],
   "metadata": {}
  },
  {
   "cell_type": "code",
   "execution_count": 25,
   "source": [
    "tF #how fidelity changed"
   ],
   "outputs": [
    {
     "output_type": "execute_result",
     "data": {
      "text/plain": [
       "[[0.2640930671071674]]"
      ]
     },
     "metadata": {},
     "execution_count": 25
    }
   ],
   "metadata": {
    "scrolled": true
   }
  },
  {
   "cell_type": "code",
   "execution_count": 26,
   "source": [
    "plot_fid(tF[0])"
   ],
   "outputs": [
    {
     "output_type": "stream",
     "name": "stderr",
     "text": [
      "/var/folders/2w/_70fq7w11c36fkhz8pnqp8gw0000gp/T/ipykernel_26092/3072373806.py:11: UserWarning: Matplotlib is currently using module://matplotlib_inline.backend_inline, which is a non-GUI backend, so cannot show the figure.\n",
      "  fig.show()\n"
     ]
    },
    {
     "output_type": "display_data",
     "data": {
      "image/png": "[encoded data removed]",
      "text/plain": [
       "<Figure size 432x288 with 1 Axes>"
      ]
     },
     "metadata": {
      "needs_background": "light"
     }
    }
   ],
   "metadata": {}
  },
  {
   "cell_type": "markdown",
   "source": [
    "# Sanity Check"
   ],
   "metadata": {}
  },
  {
   "cell_type": "markdown",
   "source": [
    "Check whether the state is accurate"
   ],
   "metadata": {}
  },
  {
   "cell_type": "code",
   "execution_count": 29,
   "source": [
    "opt_states = opt_result.optimized_objectives[0].propagate(tlist, propagator=krotov.propagators.expm).states"
   ],
   "outputs": [],
   "metadata": {}
  },
  {
   "cell_type": "code",
   "execution_count": 30,
   "source": [
    "opt_states[-1]"
   ],
   "outputs": [
    {
     "output_type": "execute_result",
     "data": {
      "text/latex": [
       "Quantum object: dims = [[4], [1]], shape = (4, 1), type = ket\\begin{equation*}\\left(\\begin{array}{*{11}c}(-0.574+0.104j)\\\\(0.076+0.392j)\\\\(0.076+0.392j)\\\\(0.181-0.555j)\\\\\\end{array}\\right)\\end{equation*}"
      ],
      "text/plain": [
       "Quantum object: dims = [[4], [1]], shape = (4, 1), type = ket\n",
       "Qobj data =\n",
       "[[-0.57414307+0.10383756j]\n",
       " [ 0.07566676+0.39218142j]\n",
       " [ 0.07566676+0.39218142j]\n",
       " [ 0.18088435-0.55479267j]]"
      ]
     },
     "metadata": {},
     "execution_count": 30
    }
   ],
   "metadata": {}
  },
  {
   "cell_type": "code",
   "execution_count": 43,
   "source": [
    "tS[0][-1]"
   ],
   "outputs": [
    {
     "output_type": "execute_result",
     "data": {
      "text/latex": [
       "Quantum object: dims = [[4], [1]], shape = (4, 1), type = ket\\begin{equation*}\\left(\\begin{array}{*{11}c}0.0\\\\0.0\\\\0.0\\\\1.0\\\\\\end{array}\\right)\\end{equation*}"
      ],
      "text/plain": [
       "Quantum object: dims = [[4], [1]], shape = (4, 1), type = ket\n",
       "Qobj data =\n",
       "[[0.]\n",
       " [0.]\n",
       " [0.]\n",
       " [1.]]"
      ]
     },
     "metadata": {},
     "execution_count": 43
    }
   ],
   "metadata": {}
  },
  {
   "cell_type": "code",
   "execution_count": 44,
   "source": [
    "tS[0][-1]"
   ],
   "outputs": [
    {
     "output_type": "execute_result",
     "data": {
      "text/latex": [
       "Quantum object: dims = [[4], [1]], shape = (4, 1), type = ket\\begin{equation*}\\left(\\begin{array}{*{11}c}0.0\\\\0.0\\\\0.0\\\\1.0\\\\\\end{array}\\right)\\end{equation*}"
      ],
      "text/plain": [
       "Quantum object: dims = [[4], [1]], shape = (4, 1), type = ket\n",
       "Qobj data =\n",
       "[[0.]\n",
       " [0.]\n",
       " [0.]\n",
       " [1.]]"
      ]
     },
     "metadata": {},
     "execution_count": 44
    }
   ],
   "metadata": {}
  },
  {
   "cell_type": "markdown",
   "source": [
    "Another way to check is whether this state is correct is by using mesolve: (mesolve might give a very slightly different state since calculation method is different: check(https://qucontrol.github.io/krotov/v1.2.0/API/krotov.propagators.html and https://qutip.org/docs/latest/apidoc/functions.html#qutip.mesolve.mesolve)"
   ],
   "metadata": {}
  },
  {
   "cell_type": "code",
   "execution_count": 32,
   "source": [
    "def generate_ham_check(hamiltonian, pauli,k,j):\n",
    "    if pauli == 'X':\n",
    "        return [hamiltonian[k], np.array(pulse_list[-1][j])]\n",
    "    elif pauli == 'Z':\n",
    "        return [hamiltonian[k], np.array(pulse_list[-1][j])]"
   ],
   "outputs": [],
   "metadata": {}
  },
  {
   "cell_type": "code",
   "execution_count": 33,
   "source": [
    "H_check = [-Hzz for Hzz in Hz_2local] + \\\n",
    "[generate_ham_check(Hx_local, 'X', i, i) for i in range(nq)] + [generate_ham_check(Hz_local, 'Z', i, i+nq) for i in range(nq)]"
   ],
   "outputs": [],
   "metadata": {}
  },
  {
   "cell_type": "code",
   "execution_count": 34,
   "source": [
    "ms = qutip.mesolve(H_check, psi_init, tlist).states[-1]\n",
    "ms"
   ],
   "outputs": [
    {
     "output_type": "execute_result",
     "data": {
      "text/latex": [
       "Quantum object: dims = [[4], [1]], shape = (4, 1), type = ket\\begin{equation*}\\left(\\begin{array}{*{11}c}(-0.571+0.107j)\\\\(0.075+0.394j)\\\\(0.075+0.394j)\\\\(0.180-0.556j)\\\\\\end{array}\\right)\\end{equation*}"
      ],
      "text/plain": [
       "Quantum object: dims = [[4], [1]], shape = (4, 1), type = ket\n",
       "Qobj data =\n",
       "[[-0.57099261+0.10672086j]\n",
       " [ 0.07476947+0.39355764j]\n",
       " [ 0.07476947+0.39355764j]\n",
       " [ 0.17993795-0.55609734j]]"
      ]
     },
     "metadata": {},
     "execution_count": 34
    }
   ],
   "metadata": {}
  },
  {
   "cell_type": "code",
   "execution_count": 35,
   "source": [
    "qutip.fidelity(opt_states[-1], ms)**2 # this should be near 1"
   ],
   "outputs": [
    {
     "output_type": "execute_result",
     "data": {
      "text/plain": [
       "0.9999771516823452"
      ]
     },
     "metadata": {},
     "execution_count": 35
    }
   ],
   "metadata": {}
  },
  {
   "cell_type": "code",
   "execution_count": 37,
   "source": [
    "opt_states[-1]"
   ],
   "outputs": [
    {
     "output_type": "execute_result",
     "data": {
      "text/latex": [
       "Quantum object: dims = [[4], [1]], shape = (4, 1), type = ket\\begin{equation*}\\left(\\begin{array}{*{11}c}(-0.574+0.104j)\\\\(0.076+0.392j)\\\\(0.076+0.392j)\\\\(0.181-0.555j)\\\\\\end{array}\\right)\\end{equation*}"
      ],
      "text/plain": [
       "Quantum object: dims = [[4], [1]], shape = (4, 1), type = ket\n",
       "Qobj data =\n",
       "[[-0.57414307+0.10383756j]\n",
       " [ 0.07566676+0.39218142j]\n",
       " [ 0.07566676+0.39218142j]\n",
       " [ 0.18088435-0.55479267j]]"
      ]
     },
     "metadata": {},
     "execution_count": 37
    }
   ],
   "metadata": {}
  },
  {
   "cell_type": "code",
   "execution_count": 38,
   "source": [
    "tS"
   ],
   "outputs": [
    {
     "output_type": "execute_result",
     "data": {
      "text/plain": [
       "[[Quantum object: dims = [[4], [1]], shape = (4, 1), type = ket\n",
       "  Qobj data =\n",
       "  [[0.]\n",
       "   [0.]\n",
       "   [0.]\n",
       "   [1.]]]]"
      ]
     },
     "metadata": {},
     "execution_count": 38
    }
   ],
   "metadata": {}
  },
  {
   "cell_type": "markdown",
   "source": [
    "you can also check how discriminator's operator (D) changed over optimization"
   ],
   "metadata": {}
  },
  {
   "cell_type": "code",
   "execution_count": null,
   "source": [
    "tD"
   ],
   "outputs": [],
   "metadata": {
    "scrolled": true
   }
  },
  {
   "cell_type": "code",
   "execution_count": null,
   "source": [],
   "outputs": [],
   "metadata": {}
  }
 ],
 "metadata": {
  "kernelspec": {
   "name": "python3",
   "display_name": "Python 3.9.7 64-bit ('aqgan': conda)"
  },
  "language_info": {
   "codemirror_mode": {
    "name": "ipython",
    "version": 3
   },
   "file_extension": ".py",
   "mimetype": "text/x-python",
   "name": "python",
   "nbconvert_exporter": "python",
   "pygments_lexer": "ipython3",
   "version": "3.9.7"
  },
  "interpreter": {
   "hash": "d67205fe6c80655c76515d3801aace8f90435b90fb2c2b5e55627754c3b52aa9"
  }
 },
 "nbformat": 4,
 "nbformat_minor": 2
}