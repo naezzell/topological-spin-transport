{
 "cells": [
  {
   "cell_type": "markdown",
   "source": [
    "## Jupyter Notebook for converting hard-coded state/Hamiltonian I/O to data file readable by Julia"
   ],
   "metadata": {}
  },
  {
   "cell_type": "code",
   "execution_count": 1,
   "source": [
    "from result_generators import *"
   ],
   "outputs": [],
   "metadata": {}
  },
  {
   "cell_type": "code",
   "execution_count": 2,
   "source": [
    "with open(\"test_states.txt\", \"w\") as f:\n",
    "    for state in targ_states:\n",
    "        vec = state.full().flatten()\n",
    "        vec_str = \",\".join([f\"{vec[i]}\".strip(\"()\") for i in range(len(vec))]) + \"\\n\"\n",
    "        f.write(vec_str)"
   ],
   "outputs": [],
   "metadata": {}
  },
  {
   "cell_type": "code",
   "execution_count": 3,
   "source": [
    "print(targ_states[1].full())"
   ],
   "outputs": [
    {
     "output_type": "stream",
     "name": "stdout",
     "text": [
      "[[0.70710678+0.j]\n",
      " [0.        +0.j]\n",
      " [0.        +0.j]\n",
      " [0.        +0.j]\n",
      " [0.        +0.j]\n",
      " [0.        +0.j]\n",
      " [0.        +0.j]\n",
      " [0.70710678+0.j]]\n"
     ]
    }
   ],
   "metadata": {}
  },
  {
   "cell_type": "code",
   "execution_count": 4,
   "source": [
    "for state in targ_states:\n",
    "    vec = state.full().flatten()\n",
    "    vec_str = \",\".join([f\"{vec[i]}\".strip(\"()\") for i in range(len(vec))])\n",
    "    print(vec_str)"
   ],
   "outputs": [
    {
     "output_type": "stream",
     "name": "stdout",
     "text": [
      "0.9238795325112867+0j,0j,0j,0j,0j,0j,0j,0.3826834323650898+0j\n",
      "0.7071067811865476+0j,0j,0j,0j,0j,0j,0j,0.7071067811865475+0j\n",
      "0.38268343236508984+0j,0j,0j,0j,0j,0j,0j,0.9238795325112867+0j\n",
      "0j,0j,0j,0j,0j,0j,0j,1+0j\n",
      "-0.3826834323650897+0j,0j,0j,0j,0j,0j,0j,0.9238795325112867+0j\n",
      "-0.7071067811865475+0j,0j,0j,0j,0j,0j,0j,0.7071067811865476+0j\n",
      "-0.9238795325112867+0j,0j,0j,0j,0j,0j,0j,0.38268343236508984+0j\n"
     ]
    }
   ],
   "metadata": {}
  },
  {
   "cell_type": "code",
   "execution_count": 36,
   "source": [
    "type(vec.flatten()[0])"
   ],
   "outputs": [
    {
     "output_type": "execute_result",
     "data": {
      "text/plain": [
       "numpy.complex128"
      ]
     },
     "metadata": {},
     "execution_count": 36
    }
   ],
   "metadata": {}
  },
  {
   "cell_type": "code",
   "execution_count": 5,
   "source": [
    "len(p1)"
   ],
   "outputs": [
    {
     "output_type": "execute_result",
     "data": {
      "text/plain": [
       "6"
      ]
     },
     "metadata": {},
     "execution_count": 5
    }
   ],
   "metadata": {}
  },
  {
   "cell_type": "code",
   "execution_count": 6,
   "source": [
    "r = [p1, p2, p3, p4, p5, p6, p7]"
   ],
   "outputs": [],
   "metadata": {}
  },
  {
   "cell_type": "code",
   "execution_count": 9,
   "source": [
    "n = 3\n",
    "x_line = \",\".join([f\"X_{j}\" for j in range(n)])\n",
    "z_line = \",\".join([f\"Z_{j}\" for j in range(n)])\n",
    "header = f\"t,{x_line},{z_line}\\n\"\n",
    "start = str(t) + \",\"\n",
    "mid = \",\".join([str(r[l][j][0]) for j in range(2 * n)])\n",
    "line = start + mid + \"\\n\""
   ],
   "outputs": [],
   "metadata": {}
  },
  {
   "cell_type": "code",
   "execution_count": 10,
   "source": [
    "mid"
   ],
   "outputs": [
    {
     "output_type": "execute_result",
     "data": {
      "text/plain": [
       "'0.0,0.0,0.0,1.0,1.0,1.0'"
      ]
     },
     "metadata": {},
     "execution_count": 10
    }
   ],
   "metadata": {}
  },
  {
   "cell_type": "code",
   "execution_count": 53,
   "source": [
    "for p in r:\n",
    "    for c_list in p:\n",
    "        c_str = \",\".join([str(x) for x in c_list])"
   ],
   "outputs": [],
   "metadata": {}
  },
  {
   "cell_type": "code",
   "execution_count": 15,
   "source": [
    "n = 3\n",
    "x_line = \",\".join([f\"X_{j}\" for j in range(n)])\n",
    "z_line = \",\".join([f\"Z_{j}\" for j in range(n)])\n",
    "header = f\"t,{x_line},{z_line}\\n\"\n",
    "T = 5 #annealing time\n",
    "steps = T*10 #time steps \n",
    "tlist = np.linspace(0, T, steps)\n",
    "\n",
    "for l in range(len(r)):\n",
    "    fname = f\"3qubit_test_state_{l}.csv\"\n",
    "    with open(fname, \"w\") as f:\n",
    "        f.write(header)\n",
    "        for k in range(steps):\n",
    "            t = tlist[k]\n",
    "            start = str(t) + \",\"\n",
    "            mid = \",\".join([str(r[l][j][k]) for j in range(2 * n)])\n",
    "            line = start + mid + \"\\n\"\n",
    "            f.write(line)"
   ],
   "outputs": [],
   "metadata": {}
  },
  {
   "cell_type": "code",
   "execution_count": 54,
   "source": [
    "with open(\"hamiltonian_coefficients.txt\", \"w\") as f:\n",
    "    for p in r:\n",
    "        for c_list in p:\n",
    "            c_str = \",\".join([str(x) for x in c_list]) + \"\\n\"\n",
    "            f.write(c_str)"
   ],
   "outputs": [],
   "metadata": {}
  },
  {
   "cell_type": "code",
   "execution_count": 56,
   "source": [
    "with open(\"hamiltonian_coefficients.txt\", \"r\") as f:\n",
    "    print(f.readline())"
   ],
   "outputs": [
    {
     "output_type": "stream",
     "name": "stdout",
     "text": [
      "0.0,0.10518173,0.35519724,0.61190325,0.77388663,0.84309162,0.86698176,0.86779726,0.85145625,0.81604204,0.75516727,0.65914046,0.51849588,0.34305515,0.17448483,0.04404944,-0.06454447,-0.18090038,-0.30413137,-0.41087737,-0.49151276,-0.55631315,-0.61073505,-0.6470507,-0.65683814,-0.63669377,-0.58577713,-0.50340993,-0.38809747,-0.24565502,-0.1004811,0.01298031,0.07227408,0.08075939,0.07871168,0.1483889,0.34765734,0.59018081,0.74944734,0.8166188,0.82852044,0.79361652,0.68790563,0.48256536,0.2437068,0.09159392,0.00431302,-0.15890863,-0.47363248,-0.66939958\n",
      "\n"
     ]
    }
   ],
   "metadata": {}
  },
  {
   "cell_type": "code",
   "execution_count": null,
   "source": [],
   "outputs": [],
   "metadata": {}
  }
 ],
 "metadata": {
  "orig_nbformat": 4,
  "language_info": {
   "name": "python",
   "version": "3.9.7",
   "mimetype": "text/x-python",
   "codemirror_mode": {
    "name": "ipython",
    "version": 3
   },
   "pygments_lexer": "ipython3",
   "nbconvert_exporter": "python",
   "file_extension": ".py"
  },
  "kernelspec": {
   "name": "python3",
   "display_name": "Python 3.9.7 64-bit ('aqgan': conda)"
  },
  "interpreter": {
   "hash": "d67205fe6c80655c76515d3801aace8f90435b90fb2c2b5e55627754c3b52aa9"
  }
 },
 "nbformat": 4,
 "nbformat_minor": 2
}