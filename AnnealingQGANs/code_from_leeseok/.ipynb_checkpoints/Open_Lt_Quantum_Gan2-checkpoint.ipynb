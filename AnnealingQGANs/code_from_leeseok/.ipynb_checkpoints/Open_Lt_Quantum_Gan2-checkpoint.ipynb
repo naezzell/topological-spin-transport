{
 "cells": [
  {
   "cell_type": "code",
   "execution_count": 1,
   "source": [
    "import qutip\n",
    "import numpy as np\n",
    "import scipy\n",
    "import matplotlib\n",
    "import matplotlib.pylab as plt\n",
    "import krotov\n",
    "import random\n",
    "import math\n",
    "import picos\n",
    "import cvxopt\n",
    "import pickle\n",
    "from krotov.parametrization import ParametrizedFunction, SquareParametrization, TanhParametrization\n",
    "\n",
    "from discriminator import *"
   ],
   "outputs": [],
   "metadata": {}
  },
  {
   "cell_type": "markdown",
   "source": [
    "# Set Hyperparameters"
   ],
   "metadata": {}
  },
  {
   "cell_type": "markdown",
   "source": [
    "Important: one should make sure that the number of time steps (variable of \"steps\" below) is reasonably larger than the annealing time $T$. This is because if one increases annealing time $T$ and fixes number of time steps, the evolution becomes more and more inaccruate. Hence, once one evolves the Hamiltonian equipped to the pulse sequences, the final state will depend on what methods one evolves the Hamiltonian. For instance, using propagator in Krotov package will give different final state from using mesolve function in Qutip package. This will make unfair to compare with the results drawn from HOQST as well. \n",
    "\n",
    "I checked that setting the number of steps equal to $10 \\times T$ makes the evolution smooth enough so that the final states evolved from Krotov propagator and Qutip mesolve are the same.\n",
    "\n",
    "Also, make sure you increse annealing team as you increase number of qubits."
   ],
   "metadata": {}
  },
  {
   "cell_type": "code",
   "execution_count": 10,
   "source": [
    "nq = 2 #number of qubits\n",
    "T = 1 #annealing time\n",
    "steps = T*10 #time steps \n",
    "tlist = np.linspace(0, T, steps)"
   ],
   "outputs": [],
   "metadata": {}
  },
  {
   "cell_type": "markdown",
   "source": [
    "# Define Hamiltonian"
   ],
   "metadata": {}
  },
  {
   "cell_type": "markdown",
   "source": [
    "The system Hamiltonian we will be using now is in the form of: \n",
    "\n",
    "$H(t) = \\sum_{i=1}^{n} \\epsilon_i(t) X_i + \\sum_{i=1}^{n} \\epsilon_{i+n}(t) Z_i - \\sum_{i=1}^{n-1} Z_iZ_{i+1}, $\n",
    "\n",
    "where $n$ is the number of qubits. In addition, we will initiaize guess control functions equipped to the initial counditions of ${\\epsilon}_{i=1,...n} (t=0) = 0$ (pulse coefficients of $X_i$) and ${\\epsilon}_{i=n+1,...,2n} (t=0) = 1$, which gives the ground state of $\\lvert{11...11}\\rangle$."
   ],
   "metadata": {}
  },
  {
   "cell_type": "code",
   "execution_count": 11,
   "source": [
    "#set matrices for each Hamiltonian terms, X_i, Z_i, and Z_iZ_i+1\n",
    "Hx_local,Hz_local,Hz_2local=[],[],[]\n",
    "for i in range(nq):\n",
    "    argsX=[qutip.qeye(2) for _ in range(nq)]; argsX[i]=qutip.sigmax()\n",
    "    argsZ=[qutip.qeye(2) for _ in range(nq)]; argsZ[i]=qutip.sigmaz()\n",
    "    Hx_local.append(qutip.tensor(*argsX)); Hz_local.append(qutip.tensor(*argsZ))\n",
    "    \n",
    "    if i < nq-1:\n",
    "        argsZZ=[qutip.qeye(2) for _ in range(nq)]; argsZZ[i]=qutip.sigmaz(); argsZZ[i+1]=qutip.sigmaz()\n",
    "        Hz_2local.append(qutip.tensor(*argsZZ))\n",
    "\n",
    "#re-dimension\n",
    "for h in Hx_local, Hz_local, Hz_2local:\n",
    "    for g in h:\n",
    "        g.dims=[[2**nq],[2**nq]];"
   ],
   "outputs": [],
   "metadata": {}
  },
  {
   "cell_type": "code",
   "execution_count": 12,
   "source": [
    "def generate_ham(hamiltonian, pauli,k):\n",
    "    if pauli == 'X':\n",
    "        return [hamiltonian[k], ParametrizedFunction(lambda t, args: 0.5*np.sin(10*t/T), \n",
    "                TanhParametrization(eps_max=1.0, eps_min=-1.0))]\n",
    "    elif pauli == 'Z':\n",
    "        return [hamiltonian[k], ParametrizedFunction(lambda t, args: np.cos(10*t/T), \n",
    "                TanhParametrization(eps_max=1.0, eps_min=-1.0))]"
   ],
   "outputs": [],
   "metadata": {}
  },
  {
   "cell_type": "code",
   "execution_count": 13,
   "source": [
    "#generate the system hamiltonian\n",
    "if nq==1:\n",
    "    H = [qutip.qzero(2)] + [generate_ham(Hx_local, 'X', i) for i in range(nq)] + [generate_ham(Hz_local, 'Z', i) for i in range(nq)]\n",
    "else:\n",
    "    H = [-Hzz for Hzz in Hz_2local] + [generate_ham(Hx_local, 'X', i) for i in range(nq)] + [generate_ham(Hz_local, 'Z', i) for i in range(nq)]"
   ],
   "outputs": [],
   "metadata": {}
  },
  {
   "cell_type": "code",
   "execution_count": 154,
   "source": [
    "def liouvillian(Hs, rates):\n",
    "    \"\"\"Create Liouvillian of Hs + iid Dephasing.\"\"\"\n",
    "    L1 = rates[0] * qutip.tensor(qutip.sigmaz(), qutip.identity(2))\n",
    "    L2 = rates[1] * qutip.tensor(qutip.identity(2), qutip.sigmaz())\n",
    "\n",
    "    # cast obects as Liovuillians\n",
    "    L_list = Hs + [L1, L2]\n",
    "    for i in range(len(L_list)):\n",
    "        Linfo = L_list[i]\n",
    "        if type(Linfo) != list:\n",
    "            L = Linfo\n",
    "            L_list[i] = qutip.liouvillian(L)\n",
    "        else:\n",
    "            L, c = Linfo\n",
    "            L_list[i] = [qutip.liouvillian(L), c]\n",
    "            \n",
    "    return L_list\n",
    "\n",
    "\n",
    "L = liouvillian(H, [1e-4, 1e-4])"
   ],
   "outputs": [],
   "metadata": {}
  },
  {
   "cell_type": "markdown",
   "source": [
    "# Customize the Cost Function"
   ],
   "metadata": {}
  },
  {
   "cell_type": "markdown",
   "source": [
    "This part is required if one tries to use specific forms of cost function other than listed in Krotov package(https://qucontrol.github.io/krotov/v1.0.0/API/krotov.functionals.html). \n",
    "\n",
    "Here, we might want to use the following form for the generator: $J_T = \\lvert \\text{Tr}(D\\sigma-D\\rho(T)) \\rvert ^2$ where $\\sigma=\\lvert \\psi_{targ} \\rangle \\langle \\psi_{targ} \\rvert$ is a target state and $\\rho(T)=\\lvert \\psi(T) \\rangle \\langle \\psi(T) \\rvert$ is a fully time-evolved state. \n",
    "\n",
    "Krotov's method requires to enter $-\\frac{\\partial J}{\\partial \\langle \\psi_k \\rvert} = -2 (\\langle \\psi(T) \\rvert D\\lvert \\psi(T)\\rangle -  \\langle \\psi_{targ} \\rvert D\\lvert \\psi_{targ}\\rangle) \\cdot D\\lvert \\psi(T)\\rangle$, which is described in chis_qubit function below. print_qubit_error function is for print out the cost function during optimization."
   ],
   "metadata": {}
  },
  {
   "cell_type": "code",
   "execution_count": 155,
   "source": [
    "def print_qubit_error(**args):\n",
    "    \"\"\"Utility function writing the qubit error to screen\"\"\"\n",
    "    taus = []\n",
    "    for state_T in args['fw_states_T']:\n",
    "        exp = qutip.expect(D, state_T)\n",
    "        taus.append(exp)\n",
    "        \n",
    "    J_T_re = np.average(taus)\n",
    "    \n",
    "    exp_D = qutip.expect(D, psi_targ)\n",
    "    \n",
    "    J = abs(J_T_re-exp_D)**2\n",
    "\n",
    "    \n",
    "    print(\"    |<psi|D|psi> - <target|D|target>|^2: %.le\"% (J) )\n",
    "    \n",
    "    return J\n",
    "        "
   ],
   "outputs": [],
   "metadata": {}
  },
  {
   "cell_type": "code",
   "execution_count": 156,
   "source": [
    "def chis_qubit(fw_states_T, objectives, tau_vals):\n",
    "    \"\"\"Calculate chis for the chosen functional\"\"\"\n",
    "    chis = []\n",
    "    #print(fw_states_T)\n",
    "    for state_i_T in fw_states_T:\n",
    "        #print(D)\n",
    "        #chi=-(D*state_i_T)\n",
    "        c = qutip.expect(D, psi_targ)\n",
    "        o = qutip.expect(D, state_i_T)\n",
    "        \n",
    "        #chi= -2*(o-c)*(D*state_i_T)\n",
    "        \n",
    "        chi=-2*(state_i_T.dag()*(D*state_i_T) - c)*(D*state_i_T)\n",
    "        chis.append(chi)\n",
    "    return chis"
   ],
   "outputs": [],
   "metadata": {}
  },
  {
   "cell_type": "markdown",
   "source": [
    "# Shape Function"
   ],
   "metadata": {}
  },
  {
   "cell_type": "markdown",
   "source": [
    "Krotov's method requires shape function, which is used to optimize pulse sequence in each time grid. The shape function should be defined in the same time grid and indicates how much pulse value (at each time grid) is changed in a single optimization. For instance, $S(t=0) = 0$ will prevent from pulse value at $t=0$ changing. (check: https://qucontrol.github.io/krotov/v1.0.0/07_krotovs_method.html?highlight=shape%20#first-order-update)\n",
    "\n",
    "The design of such shape function is completely up to the user."
   ],
   "metadata": {}
  },
  {
   "cell_type": "code",
   "execution_count": 157,
   "source": [
    "def S(t):\n",
    "    \"\"\"Shape function for the field update\"\"\"\n",
    "    #return krotov.shapes.box(t, 0, 5)\n",
    "    #return krotov.shapes.blackman(t, 0, T)\n",
    "    #return krotov.shapes.flattop(t, t_start=0, t_stop=T, t_rise=0.1, t_fall=0.1, func='sinsq')\n",
    "    \n",
    "    #return np.sin(2*np.pi*t/8)**2\n",
    "    return np.sin(2*t*5/T)**2\n",
    "    \n",
    "    #if t==0:\n",
    "    #    return 0\n",
    "    \n",
    "    #else:\n",
    "    #    return 1"
   ],
   "outputs": [],
   "metadata": {}
  },
  {
   "cell_type": "markdown",
   "source": [
    "# Initial/Target States"
   ],
   "metadata": {}
  },
  {
   "cell_type": "markdown",
   "source": [
    "Create initial state; here we want to start from the ground state of initial Hamiltomian we defined earlier. The ground state should be $\\lvert 11..11\\rangle$. "
   ],
   "metadata": {}
  },
  {
   "cell_type": "code",
   "execution_count": 158,
   "source": [
    "#produce initial hamiltonian, i.e. H(t=0)\n",
    "h0=0\n",
    "for h in Hz_local,Hz_2local:\n",
    "    for g in h:\n",
    "        if h == Hz_local:\n",
    "            h0+=g\n",
    "        else:\n",
    "            h0+=-g"
   ],
   "outputs": [],
   "metadata": {}
  },
  {
   "cell_type": "code",
   "execution_count": 159,
   "source": [
    "psi_init = h0.eigenstates()[1][0] \n",
    "rho_init=psi_init * psi_init.dag()\n",
    "psi_init"
   ],
   "outputs": [
    {
     "output_type": "execute_result",
     "data": {
      "text/latex": [
       "Quantum object: dims = [[4], [1]], shape = (4, 1), type = ket\\begin{equation*}\\left(\\begin{array}{*{11}c}0.0\\\\0.0\\\\0.0\\\\1.0\\\\\\end{array}\\right)\\end{equation*}"
      ],
      "text/plain": [
       "Quantum object: dims = [[4], [1]], shape = (4, 1), type = ket\n",
       "Qobj data =\n",
       "[[0.]\n",
       " [0.]\n",
       " [0.]\n",
       " [1.]]"
      ]
     },
     "metadata": {},
     "execution_count": 159
    }
   ],
   "metadata": {}
  },
  {
   "cell_type": "markdown",
   "source": [
    "Create target states: $\\lvert \\psi_{target} \\rangle = \\cos\\theta\\lvert0..0\\rangle + \\sin\\theta \\lvert 1..1 \\rangle$ for 50 equidistant $\\theta \\in [0, 2\\pi]$."
   ],
   "metadata": {}
  },
  {
   "cell_type": "code",
   "execution_count": 160,
   "source": [
    "thetas = np.linspace(0, 2*np.pi, 50)\n",
    "targ_states = []\n",
    "for t in thetas:\n",
    "    targ_states.append(np.cos(t)*qutip.basis(2**nq,0) + np.sin(t)*qutip.basis(2**nq, 2**nq-1))"
   ],
   "outputs": [],
   "metadata": {
    "scrolled": true
   }
  },
  {
   "cell_type": "code",
   "execution_count": 161,
   "source": [
    "objectives = [krotov.Objective(initial_state=rho_init, target=0, H=L)]"
   ],
   "outputs": [],
   "metadata": {}
  },
  {
   "cell_type": "code",
   "execution_count": 162,
   "source": [
    "np.cos(np.pi / 4) * qutip.basis(2**nq, 0) + np.sin(np.pi / 4) * qutip.basis(2**nq, 2**nq-1)"
   ],
   "outputs": [
    {
     "output_type": "execute_result",
     "data": {
      "text/latex": [
       "Quantum object: dims = [[4], [1]], shape = (4, 1), type = ket\\begin{equation*}\\left(\\begin{array}{*{11}c}0.707\\\\0.0\\\\0.0\\\\0.707\\\\\\end{array}\\right)\\end{equation*}"
      ],
      "text/plain": [
       "Quantum object: dims = [[4], [1]], shape = (4, 1), type = ket\n",
       "Qobj data =\n",
       "[[0.70710678]\n",
       " [0.        ]\n",
       " [0.        ]\n",
       " [0.70710678]]"
      ]
     },
     "metadata": {},
     "execution_count": 162
    }
   ],
   "metadata": {}
  },
  {
   "cell_type": "markdown",
   "source": [
    "# Choose initial operator for discriminator, $D_0$"
   ],
   "metadata": {}
  },
  {
   "cell_type": "markdown",
   "source": [
    "Choose a random $D_0$ (initial operator for the discriminator). Here, I choose the form of $D0$ as the sum of 1-local $\\cos \\theta X + \\sin \\theta Z$ operators, i.e. $D0 = (\\cos \\theta_1 X + \\sin \\theta_1 Z) \\otimes I ... \\otimes I + .... + I \\otimes I ... \\otimes \\cos \\theta_n X + \\sin \\theta_n Z$. Then normalize $D0$ so that $||D||_p \\leq 1$, depending on what types of norm you are using. "
   ],
   "metadata": {}
  },
  {
   "cell_type": "code",
   "execution_count": 163,
   "source": [
    "phis = 2*np.pi*np.random.uniform(0,1,nq) #pick random angles\n",
    "\n",
    "D0=0\n",
    "for i in range(nq):\n",
    "    ob = np.cos(phis[i])*qutip.sigmax() + np.sin(phis[i])*qutip.sigmaz()\n",
    "    args=[qutip.qeye(2) for _ in range(nq)]; args[i] = ob\n",
    "    D0+=qutip.tensor(qutip.tensor(*args))\n",
    "    \n",
    "D0.dims=[[2**nq],[2**nq]]\n",
    "D0 = D0/(nq**2*np.sqrt(2)**(nq)) #preform proper normalization: this is not the optimal normalization. \n",
    "D0                           #you should check norms of D0 is actually bounded by 1 before running the optimization"
   ],
   "outputs": [
    {
     "output_type": "execute_result",
     "data": {
      "text/latex": [
       "Quantum object: dims = [[4], [4]], shape = (4, 4), type = oper, isherm = True\\begin{equation*}\\left(\\begin{array}{*{11}c}0.075 & 0.123 & -0.112 & 0.0\\\\0.123 & 0.034 & 0.0 & -0.112\\\\-0.112 & 0.0 & -0.034 & 0.123\\\\0.0 & -0.112 & 0.123 & -0.075\\\\\\end{array}\\right)\\end{equation*}"
      ],
      "text/plain": [
       "Quantum object: dims = [[4], [4]], shape = (4, 4), type = oper, isherm = True\n",
       "Qobj data =\n",
       "[[ 0.07477974  0.12335869 -0.11244977  0.        ]\n",
       " [ 0.12335869  0.0343999   0.         -0.11244977]\n",
       " [-0.11244977  0.         -0.0343999   0.12335869]\n",
       " [ 0.         -0.11244977  0.12335869 -0.07477974]]"
      ]
     },
     "metadata": {},
     "execution_count": 163
    }
   ],
   "metadata": {}
  },
  {
   "cell_type": "code",
   "execution_count": 164,
   "source": [
    "#check norm and make sure it's bounded by 1\n",
    "\n",
    "print(picos.NuclearNorm(np.array(D0))) \n",
    "#print(picos.Norm(np.array(D0)))\n",
    "#print(lipschitz_dual(np.array(D0)))"
   ],
   "outputs": [
    {
     "output_type": "stream",
     "name": "stdout",
     "text": [
      "0.49999999999999994\n"
     ]
    }
   ],
   "metadata": {}
  },
  {
   "cell_type": "code",
   "execution_count": 165,
   "source": [
    "thetas[10]"
   ],
   "outputs": [
    {
     "output_type": "execute_result",
     "data": {
      "text/plain": [
       "1.2822827157509358"
      ]
     },
     "metadata": {},
     "execution_count": 165
    }
   ],
   "metadata": {}
  },
  {
   "cell_type": "code",
   "execution_count": 166,
   "source": [
    "phis"
   ],
   "outputs": [
    {
     "output_type": "execute_result",
     "data": {
      "text/plain": [
       "array([2.68964487, 0.16223003])"
      ]
     },
     "metadata": {},
     "execution_count": 166
    }
   ],
   "metadata": {
    "scrolled": true
   }
  },
  {
   "cell_type": "code",
   "execution_count": 167,
   "source": [
    "targ_states = [np.cos(np.pi / 4) * qutip.basis(2**nq, 0) + np.sin(np.pi / 4) * qutip.basis(2**nq, 2**nq-1)]# For this notebook, I'll only train for 1 target state"
   ],
   "outputs": [],
   "metadata": {}
  },
  {
   "cell_type": "code",
   "execution_count": 168,
   "source": [
    "targ_states"
   ],
   "outputs": [
    {
     "output_type": "execute_result",
     "data": {
      "text/plain": [
       "[Quantum object: dims = [[4], [1]], shape = (4, 1), type = ket\n",
       " Qobj data =\n",
       " [[0.70710678]\n",
       "  [0.        ]\n",
       "  [0.        ]\n",
       "  [0.70710678]]]"
      ]
     },
     "metadata": {},
     "execution_count": 168
    }
   ],
   "metadata": {}
  },
  {
   "cell_type": "code",
   "execution_count": 169,
   "source": [
    "#for i in range(len(targ_states)):\n",
    "#    state = targ_states[i]\n",
    "##    state = qutip.ket2dm(state)\n",
    " #   targ_states[i] = state"
   ],
   "outputs": [],
   "metadata": {}
  },
  {
   "cell_type": "markdown",
   "source": [
    "# Optimization"
   ],
   "metadata": {}
  },
  {
   "cell_type": "code",
   "execution_count": 170,
   "source": [
    "#it = number of iterations taken in each step of the generator; \n",
    "#lam = stepsize of generator; #total_it: iterations of QGAN\n",
    "it=25; lam =3.0; total_it = 25;\n",
    "\n",
    "#choose norm: 'trace', 'l2', 'operator', 'w'\n",
    "norm = 'trace'"
   ],
   "outputs": [],
   "metadata": {}
  },
  {
   "cell_type": "code",
   "execution_count": 171,
   "source": [
    "#D, pulse, fidelity list, states\n",
    "tD, tP, tF, tS = [],[],[],[]\n",
    "\n",
    "\n",
    "for state in targ_states: \n",
    "    \n",
    "    #set preliminaries & store initial values of D and initial pulse\n",
    "    D_list,pulse_list,fid_list,state_list=[],[],[],[]\n",
    "    \n",
    "    #rho_list, rho_diff_list=[],[]\n",
    "    \n",
    "    #define target state & set initial D as D0\n",
    "    psi_targ = state; rho_targ = psi_targ * psi_targ.dag(); D= D0; add=it\n",
    "\n",
    "    #Store initial pulse & define pulse_options\n",
    "    init_pulse=[]\n",
    "    if nq == 1:\n",
    "        pulse_options={}; H_param = [H[i][1] for i in range(1,3)]\n",
    "        for h in H_param:\n",
    "            pulse_options[h] = dict(lambda_a=lam, update_shape=S)\n",
    "        for i in range(1,3):\n",
    "            init_pulse.append(np.array([H[i][1](t, args=None) for t in tlist]))\n",
    "    \n",
    "    else:\n",
    "        pulse_options={}; H_param = [H[i][1] for i in range(nq-1, 2*nq+(nq-1))]\n",
    "        for h in H_param:\n",
    "            pulse_options[h] = dict(lambda_a=lam, update_shape=S)\n",
    "        for i in range(nq-1,2*nq+(nq-1)):\n",
    "            init_pulse.append(np.array([H[i][1](t, args=None) for t in tlist]))\n",
    "    \n",
    "    D_list.append(D); pulse_list.append(init_pulse)\n",
    "\n",
    "    \n",
    "    #Generator\n",
    "\n",
    "\n",
    "    for i in range(total_it):\n",
    "\n",
    "        print(str(i)+'th step of QGAN begins')\n",
    "        \n",
    "        #optimize pulse\n",
    "\n",
    "        if i == 0:\n",
    "            \n",
    "            opt_result = krotov.optimize_pulses(\n",
    "            objectives,\n",
    "            pulse_options,\n",
    "            tlist,\n",
    "            propagator=krotov.propagators.DensityMatrixODEPropagator(atol=1e-10, rtol=1e-8), \n",
    "            chi_constructor=chis_qubit,\n",
    "            iter_stop = it,\n",
    "            info_hook=krotov.info_hooks.chain(print_qubit_error),)\n",
    "            #check_convergence = krotov.convergence.value_below(limit='1e-22'))\n",
    "\n",
    "        else:\n",
    "\n",
    "            opt_result = krotov.optimize_pulses(\n",
    "            objectives,\n",
    "            pulse_options,\n",
    "            tlist,\n",
    "            propagator=krotov.propagators.DensityMatrixODEPropagator(atol=1e-10, rtol=1e-8),\n",
    "            chi_constructor=chis_qubit,\n",
    "            iter_stop = it,\n",
    "            info_hook=krotov.info_hooks.chain(print_qubit_error),\n",
    "            #check_convergence = krotov.convergence.value_below(limit='1e-22'),\n",
    "            continue_from=opt_result)\n",
    "\n",
    "        pulse_list.append(opt_result.optimized_controls)\n",
    "        #cost_list.append(opt_result.info_vals[-1])\n",
    "\n",
    "        final_state = opt_result.states[0] #final state\n",
    "        state_list.append(final_state)\n",
    "\n",
    "        rhot = final_state * final_state.dag() #rho_optimized\n",
    "\n",
    "        it+=add\n",
    "\n",
    "        #print results\n",
    "        print(str(i) + 'th step finished: ' + 'psi(t) = ', final_state)\n",
    "\n",
    "        fid_list.append(qutip.fidelity(psi_targ, final_state)**2)\n",
    "\n",
    "        print('fidelity: ' + str(qutip.fidelity(psi_targ, final_state)**2))\n",
    "\n",
    "        #convergence check: fidelity > 0.999\n",
    "        if qutip.fidelity(psi_targ, final_state)**2 > 0.999: \n",
    "            print('converged at ' + str(i) + 'th step') \n",
    "            break\n",
    "\n",
    "        \n",
    "        #rho_list.append(rhot)\n",
    "        #rho_diff_list.append(rhot-rho_targ)\n",
    "        \n",
    "        # Discriminator\n",
    "        if norm == 'w': #when 'w' distance\n",
    "            O,x =wass_distance_dual(np.array(rhot.full()),np.array(rho_targ.full()),True)\n",
    "        else:\n",
    "            O = discriminator(rhot.full(), rho_targ.full(), norm = norm, nq=nq)\n",
    "        \n",
    "        D=qutip.Qobj(O)\n",
    "        D_list.append(D)\n",
    "\n",
    "    tD.append(D_list); tP.append(pulse_list); tF.append(fid_list); tS.append(state_list)\n",
    "    \n"
   ],
   "outputs": [
    {
     "output_type": "stream",
     "name": "stdout",
     "text": [
      "0th step of QGAN begins\n",
      "    |<psi|D|psi> - <target|D|target>|^2: 5e-03\n",
      "    |<psi|D|psi> - <target|D|target>|^2: 5e-03\n",
      "    |<psi|D|psi> - <target|D|target>|^2: 5e-03\n",
      "    |<psi|D|psi> - <target|D|target>|^2: 5e-03\n",
      "    |<psi|D|psi> - <target|D|target>|^2: 5e-03\n",
      "    |<psi|D|psi> - <target|D|target>|^2: 5e-03\n",
      "    |<psi|D|psi> - <target|D|target>|^2: 5e-03\n",
      "    |<psi|D|psi> - <target|D|target>|^2: 5e-03\n",
      "    |<psi|D|psi> - <target|D|target>|^2: 5e-03"
     ]
    },
    {
     "output_type": "stream",
     "name": "stderr",
     "text": [
      "/Users/worknic/opt/anaconda3/envs/aqgan/lib/python3.9/site-packages/krotov/parametrization.py:66: UserWarning: Pulse value 1.0 out of range (-1.0, 1.0) for TanhParametrization. Value will be clipped.\n",
      "  warnings.warn(\n"
     ]
    },
    {
     "output_type": "stream",
     "name": "stdout",
     "text": [
      "\n",
      "    |<psi|D|psi> - <target|D|target>|^2: 5e-03\n",
      "    |<psi|D|psi> - <target|D|target>|^2: 5e-03\n",
      "    |<psi|D|psi> - <target|D|target>|^2: 5e-03\n",
      "    |<psi|D|psi> - <target|D|target>|^2: 5e-03\n",
      "    |<psi|D|psi> - <target|D|target>|^2: 5e-03\n",
      "    |<psi|D|psi> - <target|D|target>|^2: 5e-03\n",
      "    |<psi|D|psi> - <target|D|target>|^2: 5e-03\n",
      "    |<psi|D|psi> - <target|D|target>|^2: 5e-03\n",
      "    |<psi|D|psi> - <target|D|target>|^2: 5e-03\n",
      "    |<psi|D|psi> - <target|D|target>|^2: 5e-03\n",
      "    |<psi|D|psi> - <target|D|target>|^2: 5e-03\n",
      "    |<psi|D|psi> - <target|D|target>|^2: 5e-03\n",
      "    |<psi|D|psi> - <target|D|target>|^2: 5e-03\n",
      "    |<psi|D|psi> - <target|D|target>|^2: 5e-03\n",
      "    |<psi|D|psi> - <target|D|target>|^2: 5e-03\n",
      "    |<psi|D|psi> - <target|D|target>|^2: 5e-03\n",
      "    |<psi|D|psi> - <target|D|target>|^2: 5e-03\n",
      "0th step finished: psi(t) =  Quantum object: dims = [[4], [4]], shape = (4, 4), type = oper, isherm = True\n",
      "Qobj data =\n",
      "[[1.66752427e-05+0.00000000e+00j 1.48478753e-04-1.76773768e-04j\n",
      "  1.48478753e-04-1.76773768e-04j 4.16975258e-04-4.04901150e-03j]\n",
      " [1.48478753e-04+1.76773768e-04j 3.19605400e-03+0.00000000e+00j\n",
      "  3.19605400e-03-1.15907245e-18j 4.66362996e-02-3.16326830e-02j]\n",
      " [1.48478753e-04+1.76773768e-04j 3.19605400e-03+1.15907245e-18j\n",
      "  3.19605400e-03+0.00000000e+00j 4.66362996e-02-3.16326830e-02j]\n",
      " [4.16975258e-04+4.04901150e-03j 4.66362996e-02+3.16326830e-02j\n",
      "  4.66362996e-02+3.16326830e-02j 9.93591217e-01+0.00000000e+00j]]\n",
      "fidelity: 0.4972209286864256\n",
      "maximum Trace is : 0.7091\n",
      "1th step of QGAN begins\n",
      "    |<psi|D|psi> - <target|D|target>|^2: 5e-01\n",
      "    |<psi|D|psi> - <target|D|target>|^2: 5e-01\n",
      "    |<psi|D|psi> - <target|D|target>|^2: 5e-01\n",
      "    |<psi|D|psi> - <target|D|target>|^2: 5e-01\n",
      "    |<psi|D|psi> - <target|D|target>|^2: 5e-01\n",
      "    |<psi|D|psi> - <target|D|target>|^2: 5e-01\n",
      "    |<psi|D|psi> - <target|D|target>|^2: 5e-01\n",
      "    |<psi|D|psi> - <target|D|target>|^2: 5e-01\n",
      "    |<psi|D|psi> - <target|D|target>|^2: 5e-01\n",
      "    |<psi|D|psi> - <target|D|target>|^2: 5e-01\n",
      "    |<psi|D|psi> - <target|D|target>|^2: 5e-01\n",
      "    |<psi|D|psi> - <target|D|target>|^2: 5e-01\n",
      "    |<psi|D|psi> - <target|D|target>|^2: 5e-01\n",
      "    |<psi|D|psi> - <target|D|target>|^2: 5e-01\n",
      "    |<psi|D|psi> - <target|D|target>|^2: 5e-01\n",
      "    |<psi|D|psi> - <target|D|target>|^2: 5e-01\n",
      "    |<psi|D|psi> - <target|D|target>|^2: 5e-01\n",
      "    |<psi|D|psi> - <target|D|target>|^2: 5e-01\n",
      "    |<psi|D|psi> - <target|D|target>|^2: 5e-01\n",
      "    |<psi|D|psi> - <target|D|target>|^2: 5e-01\n",
      "    |<psi|D|psi> - <target|D|target>|^2: 5e-01\n",
      "    |<psi|D|psi> - <target|D|target>|^2: 5e-01\n",
      "    |<psi|D|psi> - <target|D|target>|^2: 5e-01\n",
      "    |<psi|D|psi> - <target|D|target>|^2: 5e-01\n",
      "    |<psi|D|psi> - <target|D|target>|^2: 5e-01\n",
      "    |<psi|D|psi> - <target|D|target>|^2: 5e-01\n",
      "1th step finished: psi(t) =  Quantum object: dims = [[4], [4]], shape = (4, 4), type = oper, isherm = True\n",
      "Qobj data =\n",
      "[[4.56970574e-06+0.00000000e+00j 6.28831203e-05-6.36060866e-05j\n",
      "  6.28831203e-05-6.36060866e-05j 7.90318534e-04-1.98217493e-03j]\n",
      " [6.28831203e-05+6.36060866e-05j 1.75069973e-03+0.00000000e+00j\n",
      "  1.75069973e-03+3.66776162e-16j 3.84661373e-02-1.62763043e-02j]\n",
      " [6.28831203e-05+6.36060866e-05j 1.75069973e-03-3.66776162e-16j\n",
      "  1.75069973e-03+0.00000000e+00j 3.84661373e-02-1.62763043e-02j]\n",
      " [7.90318534e-04+1.98217493e-03j 3.84661373e-02+1.62763043e-02j\n",
      "  3.84661373e-02+1.62763043e-02j 9.96494031e-01+0.00000000e+00j]]\n",
      "fidelity: 0.4990396188007375\n",
      "maximum Trace is : 0.7078\n",
      "2th step of QGAN begins\n",
      "    |<psi|D|psi> - <target|D|target>|^2: 5e-01\n",
      "    |<psi|D|psi> - <target|D|target>|^2: 5e-01\n",
      "    |<psi|D|psi> - <target|D|target>|^2: 5e-01\n",
      "    |<psi|D|psi> - <target|D|target>|^2: 5e-01\n",
      "    |<psi|D|psi> - <target|D|target>|^2: 5e-01\n",
      "    |<psi|D|psi> - <target|D|target>|^2: 5e-01\n",
      "    |<psi|D|psi> - <target|D|target>|^2: 5e-01\n",
      "    |<psi|D|psi> - <target|D|target>|^2: 5e-01\n",
      "    |<psi|D|psi> - <target|D|target>|^2: 5e-01\n",
      "    |<psi|D|psi> - <target|D|target>|^2: 5e-01\n",
      "    |<psi|D|psi> - <target|D|target>|^2: 5e-01\n",
      "    |<psi|D|psi> - <target|D|target>|^2: 5e-01\n",
      "    |<psi|D|psi> - <target|D|target>|^2: 5e-01\n",
      "    |<psi|D|psi> - <target|D|target>|^2: 5e-01\n",
      "    |<psi|D|psi> - <target|D|target>|^2: 5e-01\n",
      "    |<psi|D|psi> - <target|D|target>|^2: 5e-01\n",
      "    |<psi|D|psi> - <target|D|target>|^2: 5e-01\n",
      "    |<psi|D|psi> - <target|D|target>|^2: 5e-01\n",
      "    |<psi|D|psi> - <target|D|target>|^2: 5e-01\n",
      "    |<psi|D|psi> - <target|D|target>|^2: 5e-01\n",
      "    |<psi|D|psi> - <target|D|target>|^2: 5e-01\n",
      "    |<psi|D|psi> - <target|D|target>|^2: 5e-01\n",
      "    |<psi|D|psi> - <target|D|target>|^2: 5e-01\n",
      "    |<psi|D|psi> - <target|D|target>|^2: 5e-01\n",
      "    |<psi|D|psi> - <target|D|target>|^2: 5e-01\n",
      "    |<psi|D|psi> - <target|D|target>|^2: 5e-01\n",
      "2th step finished: psi(t) =  Quantum object: dims = [[4], [4]], shape = (4, 4), type = oper, isherm = True\n",
      "Qobj data =\n",
      "[[2.30313343e-06+0.00000000e+00j 3.96192392e-05-3.94559881e-05j\n",
      "  3.96192392e-05-3.94559881e-05j 6.87615595e-04-1.35057230e-03j]\n",
      " [3.96192392e-05+3.94559881e-05j 1.35750089e-03+0.00000000e+00j\n",
      "  1.35750089e-03+4.42826753e-16j 3.49661970e-02-1.14532567e-02j]\n",
      " [3.96192392e-05+3.94559881e-05j 1.35750089e-03-4.42826753e-16j\n",
      "  1.35750089e-03+0.00000000e+00j 3.49661970e-02-1.14532567e-02j]\n",
      " [6.87615595e-04+1.35057230e-03j 3.49661970e-02+1.14532567e-02j\n",
      "  3.49661970e-02+1.14532567e-02j 9.97282695e-01+0.00000000e+00j]]\n",
      "fidelity: 0.49933012214789013\n",
      "maximum Trace is : 0.7076\n",
      "3th step of QGAN begins\n",
      "    |<psi|D|psi> - <target|D|target>|^2: 5e-01\n",
      "    |<psi|D|psi> - <target|D|target>|^2: 5e-01\n",
      "    |<psi|D|psi> - <target|D|target>|^2: 5e-01\n",
      "    |<psi|D|psi> - <target|D|target>|^2: 5e-01\n",
      "    |<psi|D|psi> - <target|D|target>|^2: 5e-01\n",
      "    |<psi|D|psi> - <target|D|target>|^2: 5e-01\n",
      "    |<psi|D|psi> - <target|D|target>|^2: 5e-01\n",
      "    |<psi|D|psi> - <target|D|target>|^2: 5e-01\n",
      "    |<psi|D|psi> - <target|D|target>|^2: 5e-01\n",
      "    |<psi|D|psi> - <target|D|target>|^2: 5e-01\n",
      "    |<psi|D|psi> - <target|D|target>|^2: 5e-01\n",
      "    |<psi|D|psi> - <target|D|target>|^2: 5e-01\n",
      "    |<psi|D|psi> - <target|D|target>|^2: 5e-01\n",
      "    |<psi|D|psi> - <target|D|target>|^2: 5e-01\n",
      "    |<psi|D|psi> - <target|D|target>|^2: 5e-01\n",
      "    |<psi|D|psi> - <target|D|target>|^2: 5e-01\n",
      "    |<psi|D|psi> - <target|D|target>|^2: 5e-01\n",
      "    |<psi|D|psi> - <target|D|target>|^2: 5e-01\n",
      "    |<psi|D|psi> - <target|D|target>|^2: 5e-01\n",
      "    |<psi|D|psi> - <target|D|target>|^2: 5e-01\n",
      "    |<psi|D|psi> - <target|D|target>|^2: 5e-01\n",
      "    |<psi|D|psi> - <target|D|target>|^2: 5e-01\n",
      "    |<psi|D|psi> - <target|D|target>|^2: 5e-01\n",
      "    |<psi|D|psi> - <target|D|target>|^2: 5e-01\n",
      "    |<psi|D|psi> - <target|D|target>|^2: 5e-01\n",
      "    |<psi|D|psi> - <target|D|target>|^2: 5e-01\n",
      "3th step finished: psi(t) =  Quantum object: dims = [[4], [4]], shape = (4, 4), type = oper, isherm = True\n",
      "Qobj data =\n",
      "[[6.47086810e-07+0.00000000e+00j 1.91686501e-05-1.79930459e-05j\n",
      "  1.91686501e-05-1.79930459e-05j 5.36793683e-04-5.97940168e-04j]\n",
      " [1.91686501e-05+1.79930459e-05j 1.06821028e-03+0.00000000e+00j\n",
      "  1.06821028e-03-3.13077131e-17j 3.25293962e-02-2.78670765e-03j]\n",
      " [1.91686501e-05+1.79930459e-05j 1.06821028e-03+3.13077131e-17j\n",
      "  1.06821028e-03+0.00000000e+00j 3.25293962e-02-2.78670765e-03j]\n",
      " [5.36793683e-04+5.97940168e-04j 3.25293962e-02+2.78670765e-03j\n",
      "  3.25293962e-02+2.78670765e-03j 9.97862932e-01+0.00000000e+00j]]\n",
      "fidelity: 0.4994685908475235\n",
      "maximum Trace is : 0.7075\n",
      "4th step of QGAN begins\n",
      "    |<psi|D|psi> - <target|D|target>|^2: 5e-01\n",
      "    |<psi|D|psi> - <target|D|target>|^2: 5e-01\n",
      "    |<psi|D|psi> - <target|D|target>|^2: 5e-01\n",
      "    |<psi|D|psi> - <target|D|target>|^2: 5e-01\n",
      "    |<psi|D|psi> - <target|D|target>|^2: 5e-01\n",
      "    |<psi|D|psi> - <target|D|target>|^2: 5e-01\n",
      "    |<psi|D|psi> - <target|D|target>|^2: 5e-01\n",
      "    |<psi|D|psi> - <target|D|target>|^2: 5e-01\n",
      "    |<psi|D|psi> - <target|D|target>|^2: 5e-01\n",
      "    |<psi|D|psi> - <target|D|target>|^2: 5e-01\n",
      "    |<psi|D|psi> - <target|D|target>|^2: 5e-01\n",
      "    |<psi|D|psi> - <target|D|target>|^2: 5e-01\n",
      "    |<psi|D|psi> - <target|D|target>|^2: 5e-01\n",
      "    |<psi|D|psi> - <target|D|target>|^2: 5e-01\n",
      "    |<psi|D|psi> - <target|D|target>|^2: 5e-01\n",
      "    |<psi|D|psi> - <target|D|target>|^2: 5e-01\n",
      "    |<psi|D|psi> - <target|D|target>|^2: 5e-01\n",
      "    |<psi|D|psi> - <target|D|target>|^2: 5e-01\n",
      "    |<psi|D|psi> - <target|D|target>|^2: 5e-01\n",
      "    |<psi|D|psi> - <target|D|target>|^2: 5e-01\n",
      "    |<psi|D|psi> - <target|D|target>|^2: 5e-01\n",
      "    |<psi|D|psi> - <target|D|target>|^2: 5e-01\n",
      "    |<psi|D|psi> - <target|D|target>|^2: 5e-01\n",
      "    |<psi|D|psi> - <target|D|target>|^2: 5e-01\n",
      "    |<psi|D|psi> - <target|D|target>|^2: 5e-01\n",
      "    |<psi|D|psi> - <target|D|target>|^2: 5e-01\n",
      "4th step finished: psi(t) =  Quantum object: dims = [[4], [4]], shape = (4, 4), type = oper, isherm = True\n",
      "Qobj data =\n",
      "[[4.29082070e-06+0.00000000e+00j 5.83341237e-05-2.34621499e-05j\n",
      "  5.83341237e-05-2.34621499e-05j 5.57463318e-04-1.99301830e-03j]\n",
      " [5.83341237e-05+2.34621499e-05j 9.21358040e-04+0.00000000e+00j\n",
      "  9.21358040e-04-4.22055221e-19j 1.84766948e-02-2.40472022e-02j]\n",
      " [5.83341237e-05+2.34621499e-05j 9.21358040e-04+4.22055221e-19j\n",
      "  9.21358040e-04+0.00000000e+00j 1.84766948e-02-2.40472022e-02j]\n",
      " [5.57463318e-04+1.99301830e-03j 1.84766948e-02+2.40472022e-02j\n",
      "  1.84766948e-02+2.40472022e-02j 9.98152993e-01+0.00000000e+00j]]\n",
      "fidelity: 0.49963611272562225\n",
      "maximum Trace is : 0.7074\n",
      "5th step of QGAN begins\n",
      "    |<psi|D|psi> - <target|D|target>|^2: 5e-01\n",
      "    |<psi|D|psi> - <target|D|target>|^2: 5e-01\n",
      "    |<psi|D|psi> - <target|D|target>|^2: 5e-01\n",
      "    |<psi|D|psi> - <target|D|target>|^2: 5e-01\n",
      "    |<psi|D|psi> - <target|D|target>|^2: 5e-01\n",
      "    |<psi|D|psi> - <target|D|target>|^2: 5e-01\n",
      "    |<psi|D|psi> - <target|D|target>|^2: 5e-01\n",
      "    |<psi|D|psi> - <target|D|target>|^2: 5e-01\n",
      "    |<psi|D|psi> - <target|D|target>|^2: 5e-01\n",
      "    |<psi|D|psi> - <target|D|target>|^2: 5e-01\n",
      "    |<psi|D|psi> - <target|D|target>|^2: 5e-01\n",
      "    |<psi|D|psi> - <target|D|target>|^2: 5e-01\n",
      "    |<psi|D|psi> - <target|D|target>|^2: 5e-01\n",
      "    |<psi|D|psi> - <target|D|target>|^2: 5e-01\n",
      "    |<psi|D|psi> - <target|D|target>|^2: 5e-01\n",
      "    |<psi|D|psi> - <target|D|target>|^2: 5e-01\n",
      "    |<psi|D|psi> - <target|D|target>|^2: 5e-01\n",
      "    |<psi|D|psi> - <target|D|target>|^2: 5e-01\n",
      "    |<psi|D|psi> - <target|D|target>|^2: 5e-01\n",
      "    |<psi|D|psi> - <target|D|target>|^2: 5e-01\n",
      "    |<psi|D|psi> - <target|D|target>|^2: 5e-01\n",
      "    |<psi|D|psi> - <target|D|target>|^2: 5e-01\n",
      "    |<psi|D|psi> - <target|D|target>|^2: 5e-01\n",
      "    |<psi|D|psi> - <target|D|target>|^2: 5e-01\n",
      "    |<psi|D|psi> - <target|D|target>|^2: 5e-01\n",
      "    |<psi|D|psi> - <target|D|target>|^2: 5e-01\n",
      "5th step finished: psi(t) =  Quantum object: dims = [[4], [4]], shape = (4, 4), type = oper, isherm = True\n",
      "Qobj data =\n",
      "[[3.63212674e-07+0.00000000e+00j 1.22623711e-05-8.14262582e-06j\n",
      "  1.22623711e-05-8.14262582e-06j 4.73325052e-04-3.72395635e-04j]\n",
      " [1.22623711e-05+8.14262582e-06j 5.96643881e-04+0.00000000e+00j\n",
      "  5.96643881e-04-7.01122814e-17j 2.43327724e-02-1.96161539e-03j]\n",
      " [1.22623711e-05+8.14262582e-06j 5.96643881e-04+7.01122814e-17j\n",
      "  5.96643881e-04+0.00000000e+00j 2.43327724e-02-1.96161539e-03j]\n",
      " [4.73325052e-04+3.72395635e-04j 2.43327724e-02+1.96161539e-03j\n",
      "  2.43327724e-02+1.96161539e-03j 9.98806349e-01+0.00000000e+00j]]\n",
      "fidelity: 0.4998766811712214\n",
      "maximum Trace is : 0.7072\n",
      "6th step of QGAN begins\n",
      "    |<psi|D|psi> - <target|D|target>|^2: 5e-01\n",
      "    |<psi|D|psi> - <target|D|target>|^2: 5e-01\n",
      "    |<psi|D|psi> - <target|D|target>|^2: 5e-01\n",
      "    |<psi|D|psi> - <target|D|target>|^2: 5e-01\n",
      "    |<psi|D|psi> - <target|D|target>|^2: 5e-01\n",
      "    |<psi|D|psi> - <target|D|target>|^2: 5e-01\n",
      "    |<psi|D|psi> - <target|D|target>|^2: 5e-01\n",
      "    |<psi|D|psi> - <target|D|target>|^2: 5e-01\n",
      "    |<psi|D|psi> - <target|D|target>|^2: 5e-01\n",
      "    |<psi|D|psi> - <target|D|target>|^2: 5e-01\n",
      "    |<psi|D|psi> - <target|D|target>|^2: 5e-01\n",
      "    |<psi|D|psi> - <target|D|target>|^2: 5e-01\n",
      "    |<psi|D|psi> - <target|D|target>|^2: 5e-01\n",
      "    |<psi|D|psi> - <target|D|target>|^2: 5e-01\n",
      "    |<psi|D|psi> - <target|D|target>|^2: 5e-01\n",
      "    |<psi|D|psi> - <target|D|target>|^2: 5e-01\n",
      "    |<psi|D|psi> - <target|D|target>|^2: 5e-01\n",
      "    |<psi|D|psi> - <target|D|target>|^2: 5e-01\n",
      "    |<psi|D|psi> - <target|D|target>|^2: 5e-01\n",
      "    |<psi|D|psi> - <target|D|target>|^2: 5e-01\n",
      "    |<psi|D|psi> - <target|D|target>|^2: 5e-01\n",
      "    |<psi|D|psi> - <target|D|target>|^2: 5e-01\n",
      "    |<psi|D|psi> - <target|D|target>|^2: 5e-01\n",
      "    |<psi|D|psi> - <target|D|target>|^2: 5e-01\n",
      "    |<psi|D|psi> - <target|D|target>|^2: 5e-01\n",
      "    |<psi|D|psi> - <target|D|target>|^2: 5e-01\n",
      "6th step finished: psi(t) =  Quantum object: dims = [[4], [4]], shape = (4, 4), type = oper, isherm = True\n",
      "Qobj data =\n",
      "[[2.03838786e-07+0.00000000e+00j 7.26032015e-06-4.81175833e-06j\n",
      "  7.26032015e-06-4.81175833e-06j 4.17369302e-04-1.71604056e-04j]\n",
      " [7.26032015e-06+4.81175833e-06j 3.72262064e-04+0.00000000e+00j\n",
      "  3.72262064e-04-1.45803760e-16j 1.89206256e-02+3.74095035e-03j]\n",
      " [7.26032015e-06+4.81175833e-06j 3.72262064e-04+1.45803760e-16j\n",
      "  3.72262064e-04+0.00000000e+00j 1.89206256e-02+3.74095035e-03j]\n",
      " [4.17369302e-04+1.71604056e-04j 1.89206256e-02-3.74095035e-03j\n",
      "  1.89206256e-02-3.74095035e-03j 9.99255272e-01+0.00000000e+00j]]\n",
      "fidelity: 0.5000451072380899\n",
      "maximum Trace is : 0.7071\n",
      "7th step of QGAN begins\n",
      "    |<psi|D|psi> - <target|D|target>|^2: 5e-01\n",
      "    |<psi|D|psi> - <target|D|target>|^2: 5e-01\n",
      "    |<psi|D|psi> - <target|D|target>|^2: 5e-01\n",
      "    |<psi|D|psi> - <target|D|target>|^2: 5e-01\n",
      "    |<psi|D|psi> - <target|D|target>|^2: 5e-01\n",
      "    |<psi|D|psi> - <target|D|target>|^2: 5e-01\n",
      "    |<psi|D|psi> - <target|D|target>|^2: 5e-01\n",
      "    |<psi|D|psi> - <target|D|target>|^2: 5e-01\n",
      "    |<psi|D|psi> - <target|D|target>|^2: 5e-01\n",
      "    |<psi|D|psi> - <target|D|target>|^2: 5e-01\n",
      "    |<psi|D|psi> - <target|D|target>|^2: 5e-01\n",
      "    |<psi|D|psi> - <target|D|target>|^2: 5e-01\n",
      "    |<psi|D|psi> - <target|D|target>|^2: 5e-01\n",
      "    |<psi|D|psi> - <target|D|target>|^2: 5e-01\n",
      "    |<psi|D|psi> - <target|D|target>|^2: 5e-01\n",
      "    |<psi|D|psi> - <target|D|target>|^2: 5e-01\n",
      "    |<psi|D|psi> - <target|D|target>|^2: 5e-01\n",
      "    |<psi|D|psi> - <target|D|target>|^2: 5e-01\n",
      "    |<psi|D|psi> - <target|D|target>|^2: 5e-01\n",
      "    |<psi|D|psi> - <target|D|target>|^2: 5e-01\n",
      "    |<psi|D|psi> - <target|D|target>|^2: 5e-01\n",
      "    |<psi|D|psi> - <target|D|target>|^2: 5e-01\n",
      "    |<psi|D|psi> - <target|D|target>|^2: 5e-01\n",
      "    |<psi|D|psi> - <target|D|target>|^2: 5e-01\n",
      "    |<psi|D|psi> - <target|D|target>|^2: 5e-01\n",
      "    |<psi|D|psi> - <target|D|target>|^2: 5e-01\n",
      "7th step finished: psi(t) =  Quantum object: dims = [[4], [4]], shape = (4, 4), type = oper, isherm = True\n",
      "Qobj data =\n",
      "[[1.08945585e-07+0.00000000e+00j 5.95576123e-06-2.74743218e-06j\n",
      "  5.95576123e-06-2.74743218e-06j 3.27704729e-04-3.77209650e-05j]\n",
      " [5.95576123e-06+2.74743218e-06j 3.95041299e-04+0.00000000e+00j\n",
      "  3.95041299e-04+5.81754821e-17j 1.88740610e-02+6.20475451e-03j]\n",
      " [5.95576123e-06+2.74743218e-06j 3.95041299e-04-5.81754821e-17j\n",
      "  3.95041299e-04+0.00000000e+00j 1.88740610e-02+6.20475451e-03j]\n",
      " [3.27704729e-04+3.77209650e-05j 1.88740610e-02-6.20475451e-03j\n",
      "  1.88740610e-02-6.20475451e-03j 9.99209808e-01+0.00000000e+00j]]\n",
      "fidelity: 0.4999326634294538\n",
      "maximum Trace is : 0.7072\n",
      "8th step of QGAN begins\n",
      "    |<psi|D|psi> - <target|D|target>|^2: 5e-01\n",
      "    |<psi|D|psi> - <target|D|target>|^2: 5e-01\n",
      "    |<psi|D|psi> - <target|D|target>|^2: 5e-01\n",
      "    |<psi|D|psi> - <target|D|target>|^2: 5e-01\n",
      "    |<psi|D|psi> - <target|D|target>|^2: 5e-01\n",
      "    |<psi|D|psi> - <target|D|target>|^2: 5e-01\n",
      "    |<psi|D|psi> - <target|D|target>|^2: 5e-01\n",
      "    |<psi|D|psi> - <target|D|target>|^2: 5e-01\n",
      "    |<psi|D|psi> - <target|D|target>|^2: 5e-01\n",
      "    |<psi|D|psi> - <target|D|target>|^2: 5e-01\n",
      "    |<psi|D|psi> - <target|D|target>|^2: 5e-01\n",
      "    |<psi|D|psi> - <target|D|target>|^2: 5e-01\n",
      "    |<psi|D|psi> - <target|D|target>|^2: 5e-01\n",
      "    |<psi|D|psi> - <target|D|target>|^2: 5e-01\n",
      "    |<psi|D|psi> - <target|D|target>|^2: 5e-01\n",
      "    |<psi|D|psi> - <target|D|target>|^2: 5e-01\n",
      "    |<psi|D|psi> - <target|D|target>|^2: 5e-01\n",
      "    |<psi|D|psi> - <target|D|target>|^2: 5e-01\n",
      "    |<psi|D|psi> - <target|D|target>|^2: 5e-01\n",
      "    |<psi|D|psi> - <target|D|target>|^2: 5e-01\n",
      "    |<psi|D|psi> - <target|D|target>|^2: 5e-01\n",
      "    |<psi|D|psi> - <target|D|target>|^2: 5e-01\n",
      "    |<psi|D|psi> - <target|D|target>|^2: 5e-01\n",
      "    |<psi|D|psi> - <target|D|target>|^2: 5e-01\n",
      "    |<psi|D|psi> - <target|D|target>|^2: 5e-01\n",
      "    |<psi|D|psi> - <target|D|target>|^2: 5e-01\n",
      "8th step finished: psi(t) =  Quantum object: dims = [[4], [4]], shape = (4, 4), type = oper, isherm = True\n",
      "Qobj data =\n",
      "[[1.10387913e-07+0.00000000e+00j 4.05362320e-06-3.47104805e-06j\n",
      "  4.05362320e-06-3.47104805e-06j 3.13862723e-04-1.08537590e-04j]\n",
      " [4.05362320e-06+3.47104805e-06j 2.58096638e-04+0.00000000e+00j\n",
      "  2.58096638e-04-1.02264388e-16j 1.49439736e-02+5.88566035e-03j]\n",
      " [4.05362320e-06+3.47104805e-06j 2.58096638e-04+1.02264388e-16j\n",
      "  2.58096638e-04+0.00000000e+00j 1.49439736e-02+5.88566035e-03j]\n",
      " [3.13862723e-04+1.08537590e-04j 1.49439736e-02-5.88566035e-03j\n",
      "  1.49439736e-02-5.88566035e-03j 9.99483696e-01+0.00000000e+00j]]\n",
      "fidelity: 0.5000557660846002\n",
      "maximum Trace is : 0.7071\n",
      "9th step of QGAN begins\n",
      "    |<psi|D|psi> - <target|D|target>|^2: 5e-01\n",
      "    |<psi|D|psi> - <target|D|target>|^2: 5e-01\n",
      "    |<psi|D|psi> - <target|D|target>|^2: 5e-01\n",
      "    |<psi|D|psi> - <target|D|target>|^2: 5e-01\n",
      "    |<psi|D|psi> - <target|D|target>|^2: 5e-01\n",
      "    |<psi|D|psi> - <target|D|target>|^2: 5e-01\n",
      "    |<psi|D|psi> - <target|D|target>|^2: 5e-01\n",
      "    |<psi|D|psi> - <target|D|target>|^2: 5e-01\n",
      "    |<psi|D|psi> - <target|D|target>|^2: 5e-01\n",
      "    |<psi|D|psi> - <target|D|target>|^2: 5e-01\n",
      "    |<psi|D|psi> - <target|D|target>|^2: 5e-01\n",
      "    |<psi|D|psi> - <target|D|target>|^2: 5e-01\n",
      "    |<psi|D|psi> - <target|D|target>|^2: 5e-01\n",
      "    |<psi|D|psi> - <target|D|target>|^2: 5e-01\n",
      "    |<psi|D|psi> - <target|D|target>|^2: 5e-01\n",
      "    |<psi|D|psi> - <target|D|target>|^2: 5e-01\n",
      "    |<psi|D|psi> - <target|D|target>|^2: 5e-01\n",
      "    |<psi|D|psi> - <target|D|target>|^2: 5e-01\n",
      "    |<psi|D|psi> - <target|D|target>|^2: 5e-01\n",
      "    |<psi|D|psi> - <target|D|target>|^2: 5e-01\n",
      "    |<psi|D|psi> - <target|D|target>|^2: 5e-01\n",
      "    |<psi|D|psi> - <target|D|target>|^2: 5e-01\n",
      "    |<psi|D|psi> - <target|D|target>|^2: 5e-01\n",
      "    |<psi|D|psi> - <target|D|target>|^2: 5e-01\n",
      "    |<psi|D|psi> - <target|D|target>|^2: 5e-01\n",
      "    |<psi|D|psi> - <target|D|target>|^2: 5e-01\n",
      "9th step finished: psi(t) =  Quantum object: dims = [[4], [4]], shape = (4, 4), type = oper, isherm = True\n",
      "Qobj data =\n",
      "[[8.22872099e-07+0.00000000e+00j 7.89855536e-06-2.99844561e-06j\n",
      "  7.89855536e-06-2.99844561e-06j 4.81109157e-04-7.68910615e-04j]\n",
      " [7.89855536e-06+2.99844561e-06j 8.67473265e-05+0.00000000e+00j\n",
      "  8.67473265e-05-1.38295509e-16j 7.42026644e-03-5.62776946e-03j]\n",
      " [7.89855536e-06+2.99844561e-06j 8.67473265e-05+1.38295509e-16j\n",
      "  8.67473265e-05+0.00000000e+00j 7.42026644e-03-5.62776946e-03j]\n",
      " [4.81109157e-04+7.68910615e-04j 7.42026644e-03+5.62776946e-03j\n",
      "  7.42026644e-03+5.62776946e-03j 9.99825682e-01+0.00000000e+00j]]\n",
      "fidelity: 0.5003943618304352\n",
      "maximum Trace is : 0.7068\n",
      "10th step of QGAN begins\n",
      "    |<psi|D|psi> - <target|D|target>|^2: 5e-01\n",
      "    |<psi|D|psi> - <target|D|target>|^2: 5e-01\n",
      "    |<psi|D|psi> - <target|D|target>|^2: 5e-01\n",
      "    |<psi|D|psi> - <target|D|target>|^2: 5e-01\n",
      "    |<psi|D|psi> - <target|D|target>|^2: 5e-01\n",
      "    |<psi|D|psi> - <target|D|target>|^2: 5e-01\n",
      "    |<psi|D|psi> - <target|D|target>|^2: 5e-01\n",
      "    |<psi|D|psi> - <target|D|target>|^2: 5e-01\n",
      "    |<psi|D|psi> - <target|D|target>|^2: 5e-01\n",
      "    |<psi|D|psi> - <target|D|target>|^2: 5e-01\n",
      "    |<psi|D|psi> - <target|D|target>|^2: 5e-01\n",
      "    |<psi|D|psi> - <target|D|target>|^2: 5e-01\n",
      "    |<psi|D|psi> - <target|D|target>|^2: 5e-01\n",
      "    |<psi|D|psi> - <target|D|target>|^2: 5e-01\n",
      "    |<psi|D|psi> - <target|D|target>|^2: 5e-01\n",
      "    |<psi|D|psi> - <target|D|target>|^2: 5e-01\n",
      "    |<psi|D|psi> - <target|D|target>|^2: 5e-01\n",
      "    |<psi|D|psi> - <target|D|target>|^2: 5e-01\n",
      "    |<psi|D|psi> - <target|D|target>|^2: 5e-01\n",
      "    |<psi|D|psi> - <target|D|target>|^2: 5e-01\n",
      "    |<psi|D|psi> - <target|D|target>|^2: 5e-01\n",
      "    |<psi|D|psi> - <target|D|target>|^2: 5e-01\n",
      "    |<psi|D|psi> - <target|D|target>|^2: 5e-01\n",
      "    |<psi|D|psi> - <target|D|target>|^2: 5e-01\n",
      "    |<psi|D|psi> - <target|D|target>|^2: 5e-01\n",
      "    |<psi|D|psi> - <target|D|target>|^2: 5e-01\n",
      "10th step finished: psi(t) =  Quantum object: dims = [[4], [4]], shape = (4, 4), type = oper, isherm = True\n",
      "Qobj data =\n",
      "[[1.91411096e-07+0.00000000e+00j 3.01233989e-06-3.54860837e-06j\n",
      "  3.01233989e-06-3.54860837e-06j 3.21421840e-04-2.96687104e-04j]\n",
      " [3.01233989e-06+3.54860837e-06j 1.13214810e-04+0.00000000e+00j\n",
      "  1.13214810e-04-9.65945944e-17j 1.05605593e-02+1.28983046e-03j]\n",
      " [3.01233989e-06+3.54860837e-06j 1.13214810e-04+9.65945944e-17j\n",
      "  1.13214810e-04+0.00000000e+00j 1.05605593e-02+1.28983046e-03j]\n",
      " [3.21421840e-04+2.96687104e-04j 1.05605593e-02-1.28983046e-03j\n",
      "  1.05605593e-02-1.28983046e-03j 9.99773379e-01+0.00000000e+00j]]\n",
      "fidelity: 0.5002082070305474\n",
      "maximum Trace is : 0.707\n",
      "11th step of QGAN begins\n",
      "    |<psi|D|psi> - <target|D|target>|^2: 5e-01\n",
      "    |<psi|D|psi> - <target|D|target>|^2: 5e-01\n",
      "    |<psi|D|psi> - <target|D|target>|^2: 5e-01\n",
      "    |<psi|D|psi> - <target|D|target>|^2: 5e-01\n",
      "    |<psi|D|psi> - <target|D|target>|^2: 5e-01\n",
      "    |<psi|D|psi> - <target|D|target>|^2: 5e-01\n",
      "    |<psi|D|psi> - <target|D|target>|^2: 5e-01\n",
      "    |<psi|D|psi> - <target|D|target>|^2: 5e-01\n",
      "    |<psi|D|psi> - <target|D|target>|^2: 5e-01\n",
      "    |<psi|D|psi> - <target|D|target>|^2: 5e-01\n",
      "    |<psi|D|psi> - <target|D|target>|^2: 5e-01\n",
      "    |<psi|D|psi> - <target|D|target>|^2: 5e-01\n",
      "    |<psi|D|psi> - <target|D|target>|^2: 5e-01\n",
      "    |<psi|D|psi> - <target|D|target>|^2: 5e-01\n",
      "    |<psi|D|psi> - <target|D|target>|^2: 5e-01\n",
      "    |<psi|D|psi> - <target|D|target>|^2: 5e-01\n",
      "    |<psi|D|psi> - <target|D|target>|^2: 5e-01\n",
      "    |<psi|D|psi> - <target|D|target>|^2: 5e-01\n",
      "    |<psi|D|psi> - <target|D|target>|^2: 5e-01\n",
      "    |<psi|D|psi> - <target|D|target>|^2: 5e-01\n",
      "    |<psi|D|psi> - <target|D|target>|^2: 5e-01\n",
      "    |<psi|D|psi> - <target|D|target>|^2: 5e-01\n",
      "    |<psi|D|psi> - <target|D|target>|^2: 5e-01\n",
      "    |<psi|D|psi> - <target|D|target>|^2: 5e-01\n",
      "    |<psi|D|psi> - <target|D|target>|^2: 5e-01\n",
      "    |<psi|D|psi> - <target|D|target>|^2: 5e-01\n",
      "11th step finished: psi(t) =  Quantum object: dims = [[4], [4]], shape = (4, 4), type = oper, isherm = True\n",
      "Qobj data =\n",
      "[[ 5.34904968e-08+0.00000000e+00j -1.39187806e-07-2.63952041e-06j\n",
      "  -1.39187806e-07-2.63952041e-06j  1.55195346e-04-1.71349805e-04j]\n",
      " [-1.39187806e-07+2.63952041e-06j  1.30677178e-04+0.00000000e+00j\n",
      "   1.30677178e-04-1.07485899e-17j  8.05592041e-03+8.10833470e-03j]\n",
      " [-1.39187806e-07+2.63952041e-06j  1.30677178e-04+1.07485899e-17j\n",
      "   1.30677178e-04+0.00000000e+00j  8.05592041e-03+8.10833470e-03j]\n",
      " [ 1.55195346e-04+1.71349805e-04j  8.05592041e-03-8.10833470e-03j\n",
      "   8.05592041e-03-8.10833470e-03j  9.99738592e-01+0.00000000e+00j]]\n",
      "fidelity: 0.5000245181682267\n",
      "maximum Trace is : 0.7071\n",
      "12th step of QGAN begins\n",
      "    |<psi|D|psi> - <target|D|target>|^2: 5e-01\n",
      "    |<psi|D|psi> - <target|D|target>|^2: 5e-01\n",
      "    |<psi|D|psi> - <target|D|target>|^2: 5e-01\n",
      "    |<psi|D|psi> - <target|D|target>|^2: 5e-01\n",
      "    |<psi|D|psi> - <target|D|target>|^2: 5e-01\n",
      "    |<psi|D|psi> - <target|D|target>|^2: 5e-01\n",
      "    |<psi|D|psi> - <target|D|target>|^2: 5e-01\n",
      "    |<psi|D|psi> - <target|D|target>|^2: 5e-01\n",
      "    |<psi|D|psi> - <target|D|target>|^2: 5e-01\n",
      "    |<psi|D|psi> - <target|D|target>|^2: 5e-01\n",
      "    |<psi|D|psi> - <target|D|target>|^2: 5e-01\n",
      "    |<psi|D|psi> - <target|D|target>|^2: 5e-01\n",
      "    |<psi|D|psi> - <target|D|target>|^2: 5e-01\n",
      "    |<psi|D|psi> - <target|D|target>|^2: 5e-01\n",
      "    |<psi|D|psi> - <target|D|target>|^2: 5e-01\n",
      "    |<psi|D|psi> - <target|D|target>|^2: 5e-01\n",
      "    |<psi|D|psi> - <target|D|target>|^2: 5e-01\n",
      "    |<psi|D|psi> - <target|D|target>|^2: 5e-01\n",
      "    |<psi|D|psi> - <target|D|target>|^2: 5e-01\n",
      "    |<psi|D|psi> - <target|D|target>|^2: 5e-01\n",
      "    |<psi|D|psi> - <target|D|target>|^2: 5e-01\n",
      "    |<psi|D|psi> - <target|D|target>|^2: 5e-01\n",
      "    |<psi|D|psi> - <target|D|target>|^2: 5e-01\n",
      "    |<psi|D|psi> - <target|D|target>|^2: 5e-01\n",
      "    |<psi|D|psi> - <target|D|target>|^2: 5e-01\n",
      "    |<psi|D|psi> - <target|D|target>|^2: 5e-01\n",
      "12th step finished: psi(t) =  Quantum object: dims = [[4], [4]], shape = (4, 4), type = oper, isherm = True\n",
      "Qobj data =\n",
      "[[ 1.58841402e-07+0.00000000e+00j  3.18507002e-07+9.26701470e-06j\n",
      "   3.18507002e-07+9.26701470e-06j -3.59525510e-04+1.71430262e-04j]\n",
      " [ 3.18507002e-07-9.26701470e-06j  5.41372690e-04+0.00000000e+00j\n",
      "   5.41372690e-04+3.88062245e-17j  9.28190500e-03+2.13221154e-02j]\n",
      " [ 3.18507002e-07-9.26701470e-06j  5.41372690e-04-3.88062245e-17j\n",
      "   5.41372690e-04+0.00000000e+00j  9.28190500e-03+2.13221154e-02j]\n",
      " [-3.59525510e-04-1.71430262e-04j  9.28190500e-03-2.13221154e-02j\n",
      "   9.28190500e-03-2.13221154e-02j  9.98917096e-01+0.00000000e+00j]]\n",
      "fidelity: 0.4990991092439156\n",
      "maximum Trace is : 0.7077\n",
      "13th step of QGAN begins\n",
      "    |<psi|D|psi> - <target|D|target>|^2: 5e-01\n",
      "    |<psi|D|psi> - <target|D|target>|^2: 5e-01\n",
      "    |<psi|D|psi> - <target|D|target>|^2: 5e-01\n",
      "    |<psi|D|psi> - <target|D|target>|^2: 5e-01\n",
      "    |<psi|D|psi> - <target|D|target>|^2: 5e-01\n",
      "    |<psi|D|psi> - <target|D|target>|^2: 5e-01\n",
      "    |<psi|D|psi> - <target|D|target>|^2: 5e-01\n",
      "    |<psi|D|psi> - <target|D|target>|^2: 5e-01\n",
      "    |<psi|D|psi> - <target|D|target>|^2: 5e-01\n",
      "    |<psi|D|psi> - <target|D|target>|^2: 5e-01\n",
      "    |<psi|D|psi> - <target|D|target>|^2: 5e-01\n",
      "    |<psi|D|psi> - <target|D|target>|^2: 5e-01\n",
      "    |<psi|D|psi> - <target|D|target>|^2: 5e-01\n",
      "    |<psi|D|psi> - <target|D|target>|^2: 5e-01\n",
      "    |<psi|D|psi> - <target|D|target>|^2: 5e-01\n",
      "    |<psi|D|psi> - <target|D|target>|^2: 5e-01\n",
      "    |<psi|D|psi> - <target|D|target>|^2: 5e-01\n",
      "    |<psi|D|psi> - <target|D|target>|^2: 5e-01\n",
      "    |<psi|D|psi> - <target|D|target>|^2: 5e-01\n",
      "    |<psi|D|psi> - <target|D|target>|^2: 5e-01\n",
      "    |<psi|D|psi> - <target|D|target>|^2: 5e-01\n",
      "    |<psi|D|psi> - <target|D|target>|^2: 5e-01\n",
      "    |<psi|D|psi> - <target|D|target>|^2: 5e-01\n",
      "    |<psi|D|psi> - <target|D|target>|^2: 5e-01\n",
      "    |<psi|D|psi> - <target|D|target>|^2: 5e-01\n",
      "    |<psi|D|psi> - <target|D|target>|^2: 5e-01\n",
      "13th step finished: psi(t) =  Quantum object: dims = [[4], [4]], shape = (4, 4), type = oper, isherm = True\n",
      "Qobj data =\n",
      "[[3.94692394e-08+0.00000000e+00j 9.36747947e-08-2.02302295e-06j\n",
      "  9.36747947e-08-2.02302295e-06j 1.32665827e-04-1.47743072e-04j]\n",
      " [9.36747947e-08+2.02302295e-06j 1.03992146e-04+0.00000000e+00j\n",
      "  1.03992146e-04-1.66366728e-16j 7.89389925e-03+6.45420799e-03j]\n",
      " [9.36747947e-08+2.02302295e-06j 1.03992146e-04+1.66366728e-16j\n",
      "  1.03992146e-04+0.00000000e+00j 7.89389925e-03+6.45420799e-03j]\n",
      " [1.32665827e-04+1.47743072e-04j 7.89389925e-03-6.45420799e-03j\n",
      "  7.89389925e-03-6.45420799e-03j 9.99791976e-01+0.00000000e+00j]]\n",
      "fidelity: 0.5000286736810573\n",
      "maximum Trace is : 0.7071\n",
      "14th step of QGAN begins\n",
      "    |<psi|D|psi> - <target|D|target>|^2: 5e-01\n",
      "    |<psi|D|psi> - <target|D|target>|^2: 5e-01\n",
      "    |<psi|D|psi> - <target|D|target>|^2: 5e-01\n",
      "    |<psi|D|psi> - <target|D|target>|^2: 5e-01\n",
      "    |<psi|D|psi> - <target|D|target>|^2: 5e-01\n",
      "    |<psi|D|psi> - <target|D|target>|^2: 5e-01\n",
      "    |<psi|D|psi> - <target|D|target>|^2: 5e-01\n",
      "    |<psi|D|psi> - <target|D|target>|^2: 5e-01\n",
      "    |<psi|D|psi> - <target|D|target>|^2: 5e-01\n",
      "    |<psi|D|psi> - <target|D|target>|^2: 5e-01\n",
      "    |<psi|D|psi> - <target|D|target>|^2: 5e-01\n",
      "    |<psi|D|psi> - <target|D|target>|^2: 5e-01\n",
      "    |<psi|D|psi> - <target|D|target>|^2: 5e-01\n",
      "    |<psi|D|psi> - <target|D|target>|^2: 5e-01\n",
      "    |<psi|D|psi> - <target|D|target>|^2: 5e-01\n",
      "    |<psi|D|psi> - <target|D|target>|^2: 5e-01\n",
      "    |<psi|D|psi> - <target|D|target>|^2: 5e-01\n",
      "    |<psi|D|psi> - <target|D|target>|^2: 5e-01\n",
      "    |<psi|D|psi> - <target|D|target>|^2: 5e-01\n",
      "    |<psi|D|psi> - <target|D|target>|^2: 5e-01\n",
      "    |<psi|D|psi> - <target|D|target>|^2: 5e-01\n",
      "    |<psi|D|psi> - <target|D|target>|^2: 5e-01\n",
      "    |<psi|D|psi> - <target|D|target>|^2: 5e-01\n",
      "    |<psi|D|psi> - <target|D|target>|^2: 5e-01\n",
      "    |<psi|D|psi> - <target|D|target>|^2: 5e-01\n",
      "    |<psi|D|psi> - <target|D|target>|^2: 5e-01\n",
      "14th step finished: psi(t) =  Quantum object: dims = [[4], [4]], shape = (4, 4), type = oper, isherm = True\n",
      "Qobj data =\n",
      "[[ 1.45756371e-07+0.00000000e+00j  1.66753519e-06+7.30615113e-06j\n",
      "   1.66753519e-06+7.30615113e-06j -2.46336905e-04+2.91429663e-04j]\n",
      " [ 1.66753519e-06-7.30615113e-06j  3.85393876e-04+0.00000000e+00j\n",
      "   3.85393876e-04-1.48179056e-16j  1.17925063e-02+1.56854540e-02j]\n",
      " [ 1.66753519e-06-7.30615113e-06j  3.85393876e-04+1.48179056e-16j\n",
      "   3.85393876e-04+0.00000000e+00j  1.17925063e-02+1.56854540e-02j]\n",
      " [-2.46336905e-04-2.91429663e-04j  1.17925063e-02-1.56854540e-02j\n",
      "   1.17925063e-02-1.56854540e-02j  9.99229066e-01+0.00000000e+00j]]\n",
      "fidelity: 0.499368269219625\n",
      "maximum Trace is : 0.7076\n",
      "15th step of QGAN begins\n",
      "    |<psi|D|psi> - <target|D|target>|^2: 5e-01\n",
      "    |<psi|D|psi> - <target|D|target>|^2: 5e-01\n",
      "    |<psi|D|psi> - <target|D|target>|^2: 5e-01\n",
      "    |<psi|D|psi> - <target|D|target>|^2: 5e-01\n",
      "    |<psi|D|psi> - <target|D|target>|^2: 5e-01\n",
      "    |<psi|D|psi> - <target|D|target>|^2: 5e-01\n",
      "    |<psi|D|psi> - <target|D|target>|^2: 5e-01\n",
      "    |<psi|D|psi> - <target|D|target>|^2: 5e-01\n",
      "    |<psi|D|psi> - <target|D|target>|^2: 5e-01\n",
      "    |<psi|D|psi> - <target|D|target>|^2: 5e-01\n",
      "    |<psi|D|psi> - <target|D|target>|^2: 5e-01\n",
      "    |<psi|D|psi> - <target|D|target>|^2: 5e-01\n",
      "    |<psi|D|psi> - <target|D|target>|^2: 5e-01\n",
      "    |<psi|D|psi> - <target|D|target>|^2: 5e-01\n",
      "    |<psi|D|psi> - <target|D|target>|^2: 5e-01\n",
      "    |<psi|D|psi> - <target|D|target>|^2: 5e-01\n",
      "    |<psi|D|psi> - <target|D|target>|^2: 5e-01\n",
      "    |<psi|D|psi> - <target|D|target>|^2: 5e-01\n",
      "    |<psi|D|psi> - <target|D|target>|^2: 5e-01\n",
      "    |<psi|D|psi> - <target|D|target>|^2: 5e-01\n",
      "    |<psi|D|psi> - <target|D|target>|^2: 5e-01\n",
      "    |<psi|D|psi> - <target|D|target>|^2: 5e-01\n",
      "    |<psi|D|psi> - <target|D|target>|^2: 5e-01\n",
      "    |<psi|D|psi> - <target|D|target>|^2: 5e-01\n",
      "    |<psi|D|psi> - <target|D|target>|^2: 5e-01\n",
      "    |<psi|D|psi> - <target|D|target>|^2: 5e-01\n",
      "15th step finished: psi(t) =  Quantum object: dims = [[4], [4]], shape = (4, 4), type = oper, isherm = True\n",
      "Qobj data =\n",
      "[[ 1.88124874e-07+0.00000000e+00j  7.18726021e-07+9.92999463e-06j\n",
      "   7.18726021e-07+9.92999463e-06j -3.74761639e-04+2.17850465e-04j]\n",
      " [ 7.18726021e-07-9.92999463e-06j  5.26958397e-04+0.00000000e+00j\n",
      "   5.26958397e-04-1.62496607e-17j  1.00685020e-02+2.06162095e-02j]\n",
      " [ 7.18726021e-07-9.92999463e-06j  5.26958397e-04+1.62496607e-17j\n",
      "   5.26958397e-04+0.00000000e+00j  1.00685020e-02+2.06162095e-02j]\n",
      " [-3.74761639e-04-2.17850465e-04j  1.00685020e-02-2.06162095e-02j\n",
      "   1.00685020e-02-2.06162095e-02j  9.98945895e-01+0.00000000e+00j]]\n",
      "fidelity: 0.4990982799645482\n",
      "maximum Trace is : 0.7077\n",
      "16th step of QGAN begins\n",
      "    |<psi|D|psi> - <target|D|target>|^2: 5e-01\n",
      "    |<psi|D|psi> - <target|D|target>|^2: 5e-01\n",
      "    |<psi|D|psi> - <target|D|target>|^2: 5e-01\n",
      "    |<psi|D|psi> - <target|D|target>|^2: 5e-01\n",
      "    |<psi|D|psi> - <target|D|target>|^2: 5e-01\n",
      "    |<psi|D|psi> - <target|D|target>|^2: 5e-01\n",
      "    |<psi|D|psi> - <target|D|target>|^2: 5e-01\n",
      "    |<psi|D|psi> - <target|D|target>|^2: 5e-01\n",
      "    |<psi|D|psi> - <target|D|target>|^2: 5e-01\n",
      "    |<psi|D|psi> - <target|D|target>|^2: 5e-01\n",
      "    |<psi|D|psi> - <target|D|target>|^2: 5e-01\n",
      "    |<psi|D|psi> - <target|D|target>|^2: 5e-01\n",
      "    |<psi|D|psi> - <target|D|target>|^2: 5e-01\n",
      "    |<psi|D|psi> - <target|D|target>|^2: 5e-01\n",
      "    |<psi|D|psi> - <target|D|target>|^2: 5e-01\n",
      "    |<psi|D|psi> - <target|D|target>|^2: 5e-01\n",
      "    |<psi|D|psi> - <target|D|target>|^2: 5e-01\n",
      "    |<psi|D|psi> - <target|D|target>|^2: 5e-01\n",
      "    |<psi|D|psi> - <target|D|target>|^2: 5e-01\n",
      "    |<psi|D|psi> - <target|D|target>|^2: 5e-01\n",
      "    |<psi|D|psi> - <target|D|target>|^2: 5e-01\n",
      "    |<psi|D|psi> - <target|D|target>|^2: 5e-01\n",
      "    |<psi|D|psi> - <target|D|target>|^2: 5e-01\n",
      "    |<psi|D|psi> - <target|D|target>|^2: 5e-01\n",
      "    |<psi|D|psi> - <target|D|target>|^2: 5e-01\n",
      "    |<psi|D|psi> - <target|D|target>|^2: 5e-01\n",
      "16th step finished: psi(t) =  Quantum object: dims = [[4], [4]], shape = (4, 4), type = oper, isherm = True\n",
      "Qobj data =\n",
      "[[2.94476054e-07+0.00000000e+00j 1.36490140e-06-1.43352709e-06j\n",
      "  1.36490140e-06-1.43352709e-06j 2.31267831e-04-4.90860895e-04j]\n",
      " [1.36490140e-06+1.43352709e-06j 1.33060636e-05+0.00000000e+00j\n",
      "  1.33060636e-05-1.75232294e-16j 3.46180854e-03-1.14959802e-03j]\n",
      " [1.36490140e-06+1.43352709e-06j 1.33060636e-05+1.75232294e-16j\n",
      "  1.33060636e-05+0.00000000e+00j 3.46180854e-03-1.14959802e-03j]\n",
      " [2.31267831e-04+4.90860895e-04j 3.46180854e-03+1.14959802e-03j\n",
      "  3.46180854e-03+1.14959802e-03j 9.99973093e-01+0.00000000e+00j]]\n",
      "fidelity: 0.5002179617672081\n",
      "maximum Trace is : 0.707\n",
      "17th step of QGAN begins\n",
      "    |<psi|D|psi> - <target|D|target>|^2: 5e-01\n",
      "    |<psi|D|psi> - <target|D|target>|^2: 5e-01\n",
      "    |<psi|D|psi> - <target|D|target>|^2: 5e-01\n",
      "    |<psi|D|psi> - <target|D|target>|^2: 5e-01\n",
      "    |<psi|D|psi> - <target|D|target>|^2: 5e-01\n",
      "    |<psi|D|psi> - <target|D|target>|^2: 5e-01\n",
      "    |<psi|D|psi> - <target|D|target>|^2: 5e-01\n",
      "    |<psi|D|psi> - <target|D|target>|^2: 5e-01\n",
      "    |<psi|D|psi> - <target|D|target>|^2: 5e-01\n",
      "    |<psi|D|psi> - <target|D|target>|^2: 5e-01\n",
      "    |<psi|D|psi> - <target|D|target>|^2: 5e-01\n",
      "    |<psi|D|psi> - <target|D|target>|^2: 5e-01\n",
      "    |<psi|D|psi> - <target|D|target>|^2: 5e-01\n",
      "    |<psi|D|psi> - <target|D|target>|^2: 5e-01\n",
      "    |<psi|D|psi> - <target|D|target>|^2: 5e-01\n",
      "    |<psi|D|psi> - <target|D|target>|^2: 5e-01\n",
      "    |<psi|D|psi> - <target|D|target>|^2: 5e-01\n",
      "    |<psi|D|psi> - <target|D|target>|^2: 5e-01\n",
      "    |<psi|D|psi> - <target|D|target>|^2: 5e-01\n",
      "    |<psi|D|psi> - <target|D|target>|^2: 5e-01\n",
      "    |<psi|D|psi> - <target|D|target>|^2: 5e-01\n",
      "    |<psi|D|psi> - <target|D|target>|^2: 5e-01\n",
      "    |<psi|D|psi> - <target|D|target>|^2: 5e-01\n",
      "    |<psi|D|psi> - <target|D|target>|^2: 5e-01\n",
      "    |<psi|D|psi> - <target|D|target>|^2: 5e-01\n",
      "    |<psi|D|psi> - <target|D|target>|^2: 5e-01\n",
      "17th step finished: psi(t) =  Quantum object: dims = [[4], [4]], shape = (4, 4), type = oper, isherm = True\n",
      "Qobj data =\n",
      "[[ 4.92538120e-08+0.00000000e+00j -3.59033125e-06+1.46233632e-06j\n",
      "  -3.59033125e-06+1.46233632e-06j -1.33304825e-04-1.77282708e-04j]\n",
      " [-3.59033125e-06-1.46233632e-06j  3.05290223e-04+0.00000000e+00j\n",
      "   3.05290223e-04+1.67340375e-16j  4.45561879e-03+1.68893822e-02j]\n",
      " [-3.59033125e-06-1.46233632e-06j  3.05290223e-04-1.67340375e-16j\n",
      "   3.05290223e-04+0.00000000e+00j  4.45561879e-03+1.68893822e-02j]\n",
      " [-1.33304825e-04+1.77282708e-04j  4.45561879e-03-1.68893822e-02j\n",
      "   4.45561879e-03-1.68893822e-02j  9.99389370e-01+0.00000000e+00j]]\n",
      "fidelity: 0.49956141239990076\n",
      "maximum Trace is : 0.7074\n",
      "18th step of QGAN begins\n",
      "    |<psi|D|psi> - <target|D|target>|^2: 5e-01\n",
      "    |<psi|D|psi> - <target|D|target>|^2: 5e-01\n",
      "    |<psi|D|psi> - <target|D|target>|^2: 5e-01\n",
      "    |<psi|D|psi> - <target|D|target>|^2: 5e-01\n",
      "    |<psi|D|psi> - <target|D|target>|^2: 5e-01\n",
      "    |<psi|D|psi> - <target|D|target>|^2: 5e-01\n",
      "    |<psi|D|psi> - <target|D|target>|^2: 5e-01\n",
      "    |<psi|D|psi> - <target|D|target>|^2: 5e-01\n",
      "    |<psi|D|psi> - <target|D|target>|^2: 5e-01\n",
      "    |<psi|D|psi> - <target|D|target>|^2: 5e-01\n",
      "    |<psi|D|psi> - <target|D|target>|^2: 5e-01\n",
      "    |<psi|D|psi> - <target|D|target>|^2: 5e-01\n",
      "    |<psi|D|psi> - <target|D|target>|^2: 5e-01\n",
      "    |<psi|D|psi> - <target|D|target>|^2: 5e-01\n",
      "    |<psi|D|psi> - <target|D|target>|^2: 5e-01\n",
      "    |<psi|D|psi> - <target|D|target>|^2: 5e-01\n",
      "    |<psi|D|psi> - <target|D|target>|^2: 5e-01\n",
      "    |<psi|D|psi> - <target|D|target>|^2: 5e-01\n",
      "    |<psi|D|psi> - <target|D|target>|^2: 5e-01\n",
      "    |<psi|D|psi> - <target|D|target>|^2: 5e-01\n",
      "    |<psi|D|psi> - <target|D|target>|^2: 5e-01\n",
      "    |<psi|D|psi> - <target|D|target>|^2: 5e-01\n",
      "    |<psi|D|psi> - <target|D|target>|^2: 5e-01\n",
      "    |<psi|D|psi> - <target|D|target>|^2: 5e-01\n",
      "    |<psi|D|psi> - <target|D|target>|^2: 5e-01\n",
      "    |<psi|D|psi> - <target|D|target>|^2: 5e-01\n",
      "18th step finished: psi(t) =  Quantum object: dims = [[4], [4]], shape = (4, 4), type = oper, isherm = True\n",
      "Qobj data =\n",
      "[[ 4.62384042e-07+0.00000000e+00j  2.26795906e-06+1.77844736e-06j\n",
      "   2.26795906e-06+1.77844736e-06j  1.61455435e-04-6.60501027e-04j]\n",
      " [ 2.26795906e-06-1.77844736e-06j  1.79670013e-05+0.00000000e+00j\n",
      "   1.79670013e-05-1.44681789e-17j -1.74878144e-03-3.86109475e-03j]\n",
      " [ 2.26795906e-06-1.77844736e-06j  1.79670013e-05+1.44681789e-17j\n",
      "   1.79670013e-05+0.00000000e+00j -1.74878144e-03-3.86109475e-03j]\n",
      " [ 1.61455435e-04+6.60501027e-04j -1.74878144e-03+3.86109475e-03j\n",
      "  -1.74878144e-03+3.86109475e-03j  9.99963604e-01+0.00000000e+00j]]\n",
      "fidelity: 0.5001434884340841\n",
      "maximum Trace is : 0.707\n",
      "19th step of QGAN begins\n",
      "    |<psi|D|psi> - <target|D|target>|^2: 5e-01\n",
      "    |<psi|D|psi> - <target|D|target>|^2: 5e-01\n",
      "    |<psi|D|psi> - <target|D|target>|^2: 5e-01\n",
      "    |<psi|D|psi> - <target|D|target>|^2: 5e-01\n",
      "    |<psi|D|psi> - <target|D|target>|^2: 5e-01\n",
      "    |<psi|D|psi> - <target|D|target>|^2: 5e-01\n",
      "    |<psi|D|psi> - <target|D|target>|^2: 5e-01\n",
      "    |<psi|D|psi> - <target|D|target>|^2: 5e-01\n",
      "    |<psi|D|psi> - <target|D|target>|^2: 5e-01\n",
      "    |<psi|D|psi> - <target|D|target>|^2: 5e-01\n",
      "    |<psi|D|psi> - <target|D|target>|^2: 5e-01\n",
      "    |<psi|D|psi> - <target|D|target>|^2: 5e-01\n",
      "    |<psi|D|psi> - <target|D|target>|^2: 5e-01\n",
      "    |<psi|D|psi> - <target|D|target>|^2: 5e-01\n",
      "    |<psi|D|psi> - <target|D|target>|^2: 5e-01\n",
      "    |<psi|D|psi> - <target|D|target>|^2: 5e-01\n",
      "    |<psi|D|psi> - <target|D|target>|^2: 5e-01\n",
      "    |<psi|D|psi> - <target|D|target>|^2: 5e-01\n",
      "    |<psi|D|psi> - <target|D|target>|^2: 5e-01\n",
      "    |<psi|D|psi> - <target|D|target>|^2: 5e-01\n",
      "    |<psi|D|psi> - <target|D|target>|^2: 5e-01\n",
      "    |<psi|D|psi> - <target|D|target>|^2: 5e-01\n",
      "    |<psi|D|psi> - <target|D|target>|^2: 5e-01\n",
      "    |<psi|D|psi> - <target|D|target>|^2: 5e-01\n",
      "    |<psi|D|psi> - <target|D|target>|^2: 5e-01\n",
      "    |<psi|D|psi> - <target|D|target>|^2: 5e-01\n",
      "19th step finished: psi(t) =  Quantum object: dims = [[4], [4]], shape = (4, 4), type = oper, isherm = True\n",
      "Qobj data =\n",
      "[[ 1.36495881e-07+0.00000000e+00j -5.22397843e-06+3.61762146e-07j\n",
      "  -5.22397843e-06+3.61762146e-07j -5.74909387e-05-3.64840692e-04j]\n",
      " [-5.22397843e-06-3.61762146e-07j  2.00932441e-04+0.00000000e+00j\n",
      "   2.00932441e-04+1.95058239e-16j  1.23339429e-03+1.41184392e-02j]\n",
      " [-5.22397843e-06-3.61762146e-07j  2.00932441e-04-1.95058239e-16j\n",
      "   2.00932441e-04+0.00000000e+00j  1.23339429e-03+1.41184392e-02j]\n",
      " [-5.74909387e-05+3.64840692e-04j  1.23339429e-03-1.41184392e-02j\n",
      "   1.23339429e-03-1.41184392e-02j  9.99597999e-01+0.00000000e+00j]]\n",
      "fidelity: 0.4997415766204419\n",
      "maximum Trace is : 0.7073\n",
      "20th step of QGAN begins\n",
      "    |<psi|D|psi> - <target|D|target>|^2: 5e-01\n",
      "    |<psi|D|psi> - <target|D|target>|^2: 5e-01\n",
      "    |<psi|D|psi> - <target|D|target>|^2: 5e-01\n",
      "    |<psi|D|psi> - <target|D|target>|^2: 5e-01\n",
      "    |<psi|D|psi> - <target|D|target>|^2: 5e-01\n",
      "    |<psi|D|psi> - <target|D|target>|^2: 5e-01\n",
      "    |<psi|D|psi> - <target|D|target>|^2: 5e-01\n",
      "    |<psi|D|psi> - <target|D|target>|^2: 5e-01\n",
      "    |<psi|D|psi> - <target|D|target>|^2: 5e-01\n",
      "    |<psi|D|psi> - <target|D|target>|^2: 5e-01\n",
      "    |<psi|D|psi> - <target|D|target>|^2: 5e-01\n",
      "    |<psi|D|psi> - <target|D|target>|^2: 5e-01\n",
      "    |<psi|D|psi> - <target|D|target>|^2: 5e-01\n",
      "    |<psi|D|psi> - <target|D|target>|^2: 5e-01\n",
      "    |<psi|D|psi> - <target|D|target>|^2: 5e-01\n",
      "    |<psi|D|psi> - <target|D|target>|^2: 5e-01\n",
      "    |<psi|D|psi> - <target|D|target>|^2: 5e-01\n",
      "    |<psi|D|psi> - <target|D|target>|^2: 5e-01\n",
      "    |<psi|D|psi> - <target|D|target>|^2: 5e-01\n",
      "    |<psi|D|psi> - <target|D|target>|^2: 5e-01\n",
      "    |<psi|D|psi> - <target|D|target>|^2: 5e-01\n",
      "    |<psi|D|psi> - <target|D|target>|^2: 5e-01\n",
      "    |<psi|D|psi> - <target|D|target>|^2: 5e-01\n",
      "    |<psi|D|psi> - <target|D|target>|^2: 5e-01\n",
      "    |<psi|D|psi> - <target|D|target>|^2: 5e-01\n",
      "    |<psi|D|psi> - <target|D|target>|^2: 5e-01\n",
      "20th step finished: psi(t) =  Quantum object: dims = [[4], [4]], shape = (4, 4), type = oper, isherm = True\n",
      "Qobj data =\n",
      "[[ 3.63793107e-07+0.00000000e+00j  1.17109774e-07+7.10102841e-07j\n",
      "   1.17109774e-07+7.10102841e-07j  1.64493408e-04-5.80255125e-04j]\n",
      " [ 1.17109774e-07-7.10102841e-07j  1.42429136e-06+0.00000000e+00j\n",
      "   1.42429136e-06+2.78574017e-17j -1.07989489e-03-5.07978947e-04j]\n",
      " [ 1.17109774e-07-7.10102841e-07j  1.42429136e-06-2.78574017e-17j\n",
      "   1.42429136e-06+0.00000000e+00j -1.07989489e-03-5.07978947e-04j]\n",
      " [ 1.64493408e-04+5.80255125e-04j -1.07989489e-03+5.07978947e-04j\n",
      "  -1.07989489e-03+5.07978947e-04j  9.99996788e-01+0.00000000e+00j]]\n",
      "fidelity: 0.5001630691170137\n",
      "maximum Trace is : 0.707\n",
      "21th step of QGAN begins\n",
      "    |<psi|D|psi> - <target|D|target>|^2: 5e-01\n",
      "    |<psi|D|psi> - <target|D|target>|^2: 5e-01\n",
      "    |<psi|D|psi> - <target|D|target>|^2: 5e-01\n",
      "    |<psi|D|psi> - <target|D|target>|^2: 5e-01\n",
      "    |<psi|D|psi> - <target|D|target>|^2: 5e-01\n",
      "    |<psi|D|psi> - <target|D|target>|^2: 5e-01\n",
      "    |<psi|D|psi> - <target|D|target>|^2: 5e-01\n",
      "    |<psi|D|psi> - <target|D|target>|^2: 5e-01\n",
      "    |<psi|D|psi> - <target|D|target>|^2: 5e-01\n",
      "    |<psi|D|psi> - <target|D|target>|^2: 5e-01\n",
      "    |<psi|D|psi> - <target|D|target>|^2: 5e-01\n",
      "    |<psi|D|psi> - <target|D|target>|^2: 5e-01\n",
      "    |<psi|D|psi> - <target|D|target>|^2: 5e-01\n",
      "    |<psi|D|psi> - <target|D|target>|^2: 5e-01\n",
      "    |<psi|D|psi> - <target|D|target>|^2: 5e-01\n",
      "    |<psi|D|psi> - <target|D|target>|^2: 5e-01\n",
      "    |<psi|D|psi> - <target|D|target>|^2: 5e-01\n",
      "    |<psi|D|psi> - <target|D|target>|^2: 5e-01\n",
      "    |<psi|D|psi> - <target|D|target>|^2: 5e-01\n",
      "    |<psi|D|psi> - <target|D|target>|^2: 5e-01\n",
      "    |<psi|D|psi> - <target|D|target>|^2: 5e-01\n",
      "    |<psi|D|psi> - <target|D|target>|^2: 5e-01\n",
      "    |<psi|D|psi> - <target|D|target>|^2: 5e-01\n",
      "    |<psi|D|psi> - <target|D|target>|^2: 5e-01\n",
      "    |<psi|D|psi> - <target|D|target>|^2: 5e-01\n",
      "    |<psi|D|psi> - <target|D|target>|^2: 5e-01\n",
      "21th step finished: psi(t) =  Quantum object: dims = [[4], [4]], shape = (4, 4), type = oper, isherm = True\n",
      "Qobj data =\n",
      "[[ 1.40767343e-07+0.00000000e+00j -5.65509280e-06+1.02695635e-06j\n",
      "  -5.65509280e-06+1.02695635e-06j -9.30339421e-05-3.63343861e-04j]\n",
      " [-5.65509280e-06-1.02695635e-06j  2.34723392e-04+0.00000000e+00j\n",
      "   2.34723392e-04+2.22764084e-16j  1.08678427e-03+1.52784813e-02j]\n",
      " [-5.65509280e-06-1.02695635e-06j  2.34723392e-04-2.22764084e-16j\n",
      "   2.34723392e-04+0.00000000e+00j  1.08678427e-03+1.52784813e-02j]\n",
      " [-9.30339421e-05+3.63343861e-04j  1.08678427e-03-1.52784813e-02j\n",
      "   1.08678427e-03-1.52784813e-02j  9.99530412e-01+0.00000000e+00j]]\n",
      "fidelity: 0.49967224266638244\n",
      "maximum Trace is : 0.7073\n",
      "22th step of QGAN begins\n",
      "    |<psi|D|psi> - <target|D|target>|^2: 5e-01\n",
      "    |<psi|D|psi> - <target|D|target>|^2: 5e-01\n",
      "    |<psi|D|psi> - <target|D|target>|^2: 5e-01\n",
      "    |<psi|D|psi> - <target|D|target>|^2: 5e-01\n",
      "    |<psi|D|psi> - <target|D|target>|^2: 5e-01\n",
      "    |<psi|D|psi> - <target|D|target>|^2: 5e-01\n",
      "    |<psi|D|psi> - <target|D|target>|^2: 5e-01\n",
      "    |<psi|D|psi> - <target|D|target>|^2: 5e-01\n",
      "    |<psi|D|psi> - <target|D|target>|^2: 5e-01\n",
      "    |<psi|D|psi> - <target|D|target>|^2: 5e-01\n",
      "    |<psi|D|psi> - <target|D|target>|^2: 5e-01\n",
      "    |<psi|D|psi> - <target|D|target>|^2: 5e-01\n",
      "    |<psi|D|psi> - <target|D|target>|^2: 5e-01\n",
      "    |<psi|D|psi> - <target|D|target>|^2: 5e-01\n",
      "    |<psi|D|psi> - <target|D|target>|^2: 5e-01\n",
      "    |<psi|D|psi> - <target|D|target>|^2: 5e-01\n",
      "    |<psi|D|psi> - <target|D|target>|^2: 5e-01\n",
      "    |<psi|D|psi> - <target|D|target>|^2: 5e-01\n",
      "    |<psi|D|psi> - <target|D|target>|^2: 5e-01\n",
      "    |<psi|D|psi> - <target|D|target>|^2: 5e-01\n",
      "    |<psi|D|psi> - <target|D|target>|^2: 5e-01\n",
      "    |<psi|D|psi> - <target|D|target>|^2: 5e-01\n",
      "    |<psi|D|psi> - <target|D|target>|^2: 5e-01\n",
      "    |<psi|D|psi> - <target|D|target>|^2: 5e-01\n",
      "    |<psi|D|psi> - <target|D|target>|^2: 5e-01\n",
      "    |<psi|D|psi> - <target|D|target>|^2: 5e-01\n",
      "22th step finished: psi(t) =  Quantum object: dims = [[4], [4]], shape = (4, 4), type = oper, isherm = True\n",
      "Qobj data =\n",
      "[[ 2.58596684e-07+0.00000000e+00j -1.46195637e-06-2.04679859e-07j\n",
      "  -1.46195637e-06-2.04679859e-07j  1.36711571e-04-4.89759177e-04j]\n",
      " [-1.46195637e-06+2.04679859e-07j  8.42815606e-06+0.00000000e+00j\n",
      "   8.42815606e-06+6.37516272e-17j -3.85401799e-04+2.87739569e-03j]\n",
      " [-1.46195637e-06+2.04679859e-07j  8.42815606e-06-6.37516272e-17j\n",
      "   8.42815606e-06+0.00000000e+00j -3.85401799e-04+2.87739569e-03j]\n",
      " [ 1.36711571e-04+4.89759177e-04j -3.85401799e-04-2.87739569e-03j\n",
      "  -3.85401799e-04-2.87739569e-03j  9.99982885e-01+0.00000000e+00j]]\n",
      "fidelity: 0.5001282834146868\n",
      "maximum Trace is : 0.707\n",
      "23th step of QGAN begins\n",
      "    |<psi|D|psi> - <target|D|target>|^2: 5e-01\n",
      "    |<psi|D|psi> - <target|D|target>|^2: 5e-01\n",
      "    |<psi|D|psi> - <target|D|target>|^2: 5e-01\n",
      "    |<psi|D|psi> - <target|D|target>|^2: 5e-01\n",
      "    |<psi|D|psi> - <target|D|target>|^2: 5e-01\n",
      "    |<psi|D|psi> - <target|D|target>|^2: 5e-01\n",
      "    |<psi|D|psi> - <target|D|target>|^2: 5e-01\n",
      "    |<psi|D|psi> - <target|D|target>|^2: 5e-01\n",
      "    |<psi|D|psi> - <target|D|target>|^2: 5e-01\n",
      "    |<psi|D|psi> - <target|D|target>|^2: 5e-01\n",
      "    |<psi|D|psi> - <target|D|target>|^2: 5e-01\n",
      "    |<psi|D|psi> - <target|D|target>|^2: 5e-01\n",
      "    |<psi|D|psi> - <target|D|target>|^2: 5e-01\n",
      "    |<psi|D|psi> - <target|D|target>|^2: 5e-01\n",
      "    |<psi|D|psi> - <target|D|target>|^2: 5e-01\n",
      "    |<psi|D|psi> - <target|D|target>|^2: 5e-01\n",
      "    |<psi|D|psi> - <target|D|target>|^2: 5e-01\n",
      "    |<psi|D|psi> - <target|D|target>|^2: 5e-01\n",
      "    |<psi|D|psi> - <target|D|target>|^2: 5e-01\n",
      "    |<psi|D|psi> - <target|D|target>|^2: 5e-01\n",
      "    |<psi|D|psi> - <target|D|target>|^2: 5e-01\n",
      "    |<psi|D|psi> - <target|D|target>|^2: 5e-01\n",
      "    |<psi|D|psi> - <target|D|target>|^2: 5e-01\n",
      "    |<psi|D|psi> - <target|D|target>|^2: 5e-01\n",
      "    |<psi|D|psi> - <target|D|target>|^2: 5e-01\n",
      "    |<psi|D|psi> - <target|D|target>|^2: 5e-01\n",
      "23th step finished: psi(t) =  Quantum object: dims = [[4], [4]], shape = (4, 4), type = oper, isherm = True\n",
      "Qobj data =\n",
      "[[ 1.03490435e-07+0.00000000e+00j -4.94564157e-06+1.85936746e-06j\n",
      "  -4.94564157e-06+1.85936746e-06j -1.47429190e-04-2.85782121e-04j]\n",
      " [-4.94564157e-06-1.85936746e-06j  2.69826274e-04+0.00000000e+00j\n",
      "   2.69826274e-04+2.46809219e-16j  1.91123447e-03+1.63103569e-02j]\n",
      " [-4.94564157e-06-1.85936746e-06j  2.69826274e-04-2.46809219e-16j\n",
      "   2.69826274e-04+0.00000000e+00j  1.91123447e-03+1.63103569e-02j]\n",
      " [-1.47429190e-04+2.85782121e-04j  1.91123447e-03-1.63103569e-02j\n",
      "   1.91123447e-03-1.63103569e-02j  9.99460244e-01+0.00000000e+00j]]\n",
      "fidelity: 0.49958275198338764\n",
      "maximum Trace is : 0.7074\n",
      "24th step of QGAN begins\n",
      "    |<psi|D|psi> - <target|D|target>|^2: 5e-01\n",
      "    |<psi|D|psi> - <target|D|target>|^2: 5e-01\n",
      "    |<psi|D|psi> - <target|D|target>|^2: 5e-01\n",
      "    |<psi|D|psi> - <target|D|target>|^2: 5e-01\n",
      "    |<psi|D|psi> - <target|D|target>|^2: 5e-01\n",
      "    |<psi|D|psi> - <target|D|target>|^2: 5e-01\n",
      "    |<psi|D|psi> - <target|D|target>|^2: 5e-01\n",
      "    |<psi|D|psi> - <target|D|target>|^2: 5e-01\n",
      "    |<psi|D|psi> - <target|D|target>|^2: 5e-01\n",
      "    |<psi|D|psi> - <target|D|target>|^2: 5e-01\n",
      "    |<psi|D|psi> - <target|D|target>|^2: 5e-01\n",
      "    |<psi|D|psi> - <target|D|target>|^2: 5e-01\n",
      "    |<psi|D|psi> - <target|D|target>|^2: 5e-01\n",
      "    |<psi|D|psi> - <target|D|target>|^2: 5e-01\n",
      "    |<psi|D|psi> - <target|D|target>|^2: 5e-01\n",
      "    |<psi|D|psi> - <target|D|target>|^2: 5e-01\n",
      "    |<psi|D|psi> - <target|D|target>|^2: 5e-01\n",
      "    |<psi|D|psi> - <target|D|target>|^2: 5e-01\n",
      "    |<psi|D|psi> - <target|D|target>|^2: 5e-01\n",
      "    |<psi|D|psi> - <target|D|target>|^2: 5e-01\n",
      "    |<psi|D|psi> - <target|D|target>|^2: 5e-01\n",
      "    |<psi|D|psi> - <target|D|target>|^2: 5e-01\n",
      "    |<psi|D|psi> - <target|D|target>|^2: 5e-01\n",
      "    |<psi|D|psi> - <target|D|target>|^2: 5e-01\n",
      "    |<psi|D|psi> - <target|D|target>|^2: 5e-01\n",
      "    |<psi|D|psi> - <target|D|target>|^2: 5e-01\n",
      "24th step finished: psi(t) =  Quantum object: dims = [[4], [4]], shape = (4, 4), type = oper, isherm = True\n",
      "Qobj data =\n",
      "[[ 3.15055135e-07+0.00000000e+00j  1.10431481e-07+4.88807742e-07j\n",
      "   1.10431481e-07+4.88807742e-07j  1.55966356e-04-5.39157900e-04j]\n",
      " [ 1.10431481e-07-4.88807742e-07j  7.97480254e-07+0.00000000e+00j\n",
      "   7.97480254e-07+1.05578258e-17j -7.82038863e-04-4.31068070e-04j]\n",
      " [ 1.10431481e-07-4.88807742e-07j  7.97480254e-07-1.05578258e-17j\n",
      "   7.97480254e-07+0.00000000e+00j -7.82038863e-04-4.31068070e-04j]\n",
      " [ 1.55966356e-04+5.39157900e-04j -7.82038863e-04+4.31068070e-04j\n",
      "  -7.82038863e-04+4.31068070e-04j  9.99998090e-01+0.00000000e+00j]]\n",
      "fidelity: 0.5001551688762409\n",
      "maximum Trace is : 0.707\n"
     ]
    }
   ],
   "metadata": {
    "scrolled": true
   }
  },
  {
   "cell_type": "code",
   "execution_count": 172,
   "source": [
    "psi_targ"
   ],
   "outputs": [
    {
     "output_type": "execute_result",
     "data": {
      "text/latex": [
       "Quantum object: dims = [[4], [1]], shape = (4, 1), type = ket\\begin{equation*}\\left(\\begin{array}{*{11}c}0.707\\\\0.0\\\\0.0\\\\0.707\\\\\\end{array}\\right)\\end{equation*}"
      ],
      "text/plain": [
       "Quantum object: dims = [[4], [1]], shape = (4, 1), type = ket\n",
       "Qobj data =\n",
       "[[0.70710678]\n",
       " [0.        ]\n",
       " [0.        ]\n",
       " [0.70710678]]"
      ]
     },
     "metadata": {},
     "execution_count": 172
    }
   ],
   "metadata": {}
  },
  {
   "cell_type": "code",
   "execution_count": 179,
   "source": [
    "final_state"
   ],
   "outputs": [
    {
     "output_type": "execute_result",
     "data": {
      "text/latex": [
       "Quantum object: dims = [[4], [4]], shape = (4, 4), type = oper, isherm = True\\begin{equation*}\\left(\\begin{array}{*{11}c}3.151\\times10^{-07} & (1.104\\times10^{-07}+4.888\\times10^{-07}j) & (1.104\\times10^{-07}+4.888\\times10^{-07}j) & (1.560\\times10^{-04}-5.392\\times10^{-04}j)\\\\(1.104\\times10^{-07}-4.888\\times10^{-07}j) & 7.975\\times10^{-07} & 7.975\\times10^{-07} & (-7.820\\times10^{-04}-4.311\\times10^{-04}j)\\\\(1.104\\times10^{-07}-4.888\\times10^{-07}j) & 7.975\\times10^{-07} & 7.975\\times10^{-07} & (-7.820\\times10^{-04}-4.311\\times10^{-04}j)\\\\(1.560\\times10^{-04}+5.392\\times10^{-04}j) & (-7.820\\times10^{-04}+4.311\\times10^{-04}j) & (-7.820\\times10^{-04}+4.311\\times10^{-04}j) & 1.000\\\\\\end{array}\\right)\\end{equation*}"
      ],
      "text/plain": [
       "Quantum object: dims = [[4], [4]], shape = (4, 4), type = oper, isherm = True\n",
       "Qobj data =\n",
       "[[ 3.15055135e-07+0.00000000e+00j  1.10431481e-07+4.88807742e-07j\n",
       "   1.10431481e-07+4.88807742e-07j  1.55966356e-04-5.39157900e-04j]\n",
       " [ 1.10431481e-07-4.88807742e-07j  7.97480254e-07+0.00000000e+00j\n",
       "   7.97480254e-07+1.05578258e-17j -7.82038863e-04-4.31068070e-04j]\n",
       " [ 1.10431481e-07-4.88807742e-07j  7.97480254e-07-1.05578258e-17j\n",
       "   7.97480254e-07+0.00000000e+00j -7.82038863e-04-4.31068070e-04j]\n",
       " [ 1.55966356e-04+5.39157900e-04j -7.82038863e-04+4.31068070e-04j\n",
       "  -7.82038863e-04+4.31068070e-04j  9.99998090e-01+0.00000000e+00j]]"
      ]
     },
     "metadata": {},
     "execution_count": 179
    }
   ],
   "metadata": {}
  },
  {
   "cell_type": "markdown",
   "source": [
    "# Results"
   ],
   "metadata": {}
  },
  {
   "cell_type": "markdown",
   "source": [
    "Plot to see how pulse sequences and fidelity changed over optimization"
   ],
   "metadata": {}
  },
  {
   "cell_type": "code",
   "execution_count": 180,
   "source": [
    "def plot_pulse(pulse, tlist):\n",
    "    fig, ax = plt.subplots()\n",
    "    Ham = ['amps of X1', 'amps of X2', 'amps of Z1', 'amps of Z2']\n",
    "    for i in range(len(pulse)):\n",
    "        ax.plot(tlist, pulse[i])#, label=str(Ham[i]))\n",
    "    ax.set_xlabel('time')\n",
    "    ax.set_ylabel('pulse amplitude')\n",
    "    ax.legend(bbox_to_anchor=(0.9, 0.3))\n",
    "    plt.legend(['amp of X1', 'amp of X2', 'amp of Z1', 'amp of Z2'])\n",
    "    plt.show(fig)"
   ],
   "outputs": [],
   "metadata": {}
  },
  {
   "cell_type": "code",
   "execution_count": 181,
   "source": [
    "#for i in range(len(state_list)):\n",
    "plot_pulse(pulse_list[total_it], tlist)"
   ],
   "outputs": [
    {
     "output_type": "stream",
     "name": "stderr",
     "text": [
      "WARNING:matplotlib.legend:No artists with labels found to put in legend.  Note that artists whose label start with an underscore are ignored when legend() is called with no argument.\n"
     ]
    },
    {
     "output_type": "display_data",
     "data": {
      "image/png": "[encoded data removed]",
      "text/plain": [
       "<Figure size 432x288 with 1 Axes>"
      ]
     },
     "metadata": {
      "needs_background": "light"
     }
    }
   ],
   "metadata": {
    "scrolled": true
   }
  },
  {
   "cell_type": "code",
   "execution_count": 176,
   "source": [
    "def plot_fid(fid_list):\n",
    "    fig, ax = plt.subplots()\n",
    "    f = len(fid_list)\n",
    "    \n",
    "    ax.plot(np.linspace(1,f, f), fid_list)\n",
    "    ax.tick_params(axis='x', labelsize=15)\n",
    "    ax.tick_params(axis='y', labelsize=15)\n",
    "          \n",
    "    ax.set_xlabel('iteration', fontsize = 18)\n",
    "    ax.set_ylabel('fidelity', fontsize = 18)\n",
    "    fig.show()"
   ],
   "outputs": [],
   "metadata": {}
  },
  {
   "cell_type": "code",
   "execution_count": 177,
   "source": [
    "tF #how fidelity changed"
   ],
   "outputs": [
    {
     "output_type": "execute_result",
     "data": {
      "text/plain": [
       "[[0.4972209286864256,\n",
       "  0.4990396188007375,\n",
       "  0.49933012214789013,\n",
       "  0.4994685908475235,\n",
       "  0.49963611272562225,\n",
       "  0.4998766811712214,\n",
       "  0.5000451072380899,\n",
       "  0.4999326634294538,\n",
       "  0.5000557660846002,\n",
       "  0.5003943618304352,\n",
       "  0.5002082070305474,\n",
       "  0.5000245181682267,\n",
       "  0.4990991092439156,\n",
       "  0.5000286736810573,\n",
       "  0.499368269219625,\n",
       "  0.4990982799645482,\n",
       "  0.5002179617672081,\n",
       "  0.49956141239990076,\n",
       "  0.5001434884340841,\n",
       "  0.4997415766204419,\n",
       "  0.5001630691170137,\n",
       "  0.49967224266638244,\n",
       "  0.5001282834146868,\n",
       "  0.49958275198338764,\n",
       "  0.5001551688762409]]"
      ]
     },
     "metadata": {},
     "execution_count": 177
    }
   ],
   "metadata": {
    "scrolled": true
   }
  },
  {
   "cell_type": "code",
   "execution_count": 178,
   "source": [
    "plot_fid(tF[0])"
   ],
   "outputs": [
    {
     "output_type": "stream",
     "name": "stderr",
     "text": [
      "/var/folders/2w/_70fq7w11c36fkhz8pnqp8gw0000gp/T/ipykernel_9247/3072373806.py:11: UserWarning: Matplotlib is currently using module://matplotlib_inline.backend_inline, which is a non-GUI backend, so cannot show the figure.\n",
      "  fig.show()\n"
     ]
    },
    {
     "output_type": "display_data",
     "data": {
      "image/png": "[encoded data removed]",
      "text/plain": [
       "<Figure size 432x288 with 1 Axes>"
      ]
     },
     "metadata": {
      "needs_background": "light"
     }
    }
   ],
   "metadata": {}
  },
  {
   "cell_type": "markdown",
   "source": [
    "# Sanity Check"
   ],
   "metadata": {}
  },
  {
   "cell_type": "markdown",
   "source": [
    "Check whether the state is accurate"
   ],
   "metadata": {}
  },
  {
   "cell_type": "code",
   "execution_count": 65,
   "source": [
    "opt_states = opt_result.optimized_objectives[0].propagate(tlist, propagator=krotov.propagators.expm).states"
   ],
   "outputs": [],
   "metadata": {}
  },
  {
   "cell_type": "code",
   "execution_count": 66,
   "source": [
    "opt_states[-1]"
   ],
   "outputs": [
    {
     "output_type": "execute_result",
     "data": {
      "text/latex": [
       "Quantum object: dims = [[4], [1]], shape = (4, 1), type = ket\\begin{equation*}\\left(\\begin{array}{*{11}c}(0.250-0.090j)\\\\(0.017+0.003j)\\\\(-0.006-0.013j)\\\\(0.896-0.354j)\\\\\\end{array}\\right)\\end{equation*}"
      ],
      "text/plain": [
       "Quantum object: dims = [[4], [1]], shape = (4, 1), type = ket\n",
       "Qobj data =\n",
       "[[ 0.250109  -0.08985623j]\n",
       " [ 0.01724103+0.00302634j]\n",
       " [-0.00584411-0.01315562j]\n",
       " [ 0.89639165-0.35403351j]]"
      ]
     },
     "metadata": {},
     "execution_count": 66
    }
   ],
   "metadata": {}
  },
  {
   "cell_type": "code",
   "execution_count": 67,
   "source": [
    "tS[0][-1]"
   ],
   "outputs": [
    {
     "output_type": "execute_result",
     "data": {
      "text/latex": [
       "Quantum object: dims = [[4], [1]], shape = (4, 1), type = ket\\begin{equation*}\\left(\\begin{array}{*{11}c}(0.250-0.090j)\\\\(0.017+0.003j)\\\\(-0.006-0.013j)\\\\(0.896-0.354j)\\\\\\end{array}\\right)\\end{equation*}"
      ],
      "text/plain": [
       "Quantum object: dims = [[4], [1]], shape = (4, 1), type = ket\n",
       "Qobj data =\n",
       "[[ 0.250109  -0.08985623j]\n",
       " [ 0.01724103+0.00302634j]\n",
       " [-0.00584411-0.01315562j]\n",
       " [ 0.89639165-0.35403351j]]"
      ]
     },
     "metadata": {},
     "execution_count": 67
    }
   ],
   "metadata": {}
  },
  {
   "cell_type": "markdown",
   "source": [
    "Another way to check is whether this state is correct is by using mesolve: (mesolve might give a very slightly different state since calculation method is different: check(https://qucontrol.github.io/krotov/v1.2.0/API/krotov.propagators.html and https://qutip.org/docs/latest/apidoc/functions.html#qutip.mesolve.mesolve)"
   ],
   "metadata": {}
  },
  {
   "cell_type": "code",
   "execution_count": 68,
   "source": [
    "def generate_ham_check(hamiltonian, pauli,k,j):\n",
    "    if pauli == 'X':\n",
    "        return [hamiltonian[k], np.array(pulse_list[-1][j])]\n",
    "    elif pauli == 'Z':\n",
    "        return [hamiltonian[k], np.array(pulse_list[-1][j])]"
   ],
   "outputs": [],
   "metadata": {}
  },
  {
   "cell_type": "code",
   "execution_count": 69,
   "source": [
    "H_check = [-Hzz for Hzz in Hz_2local] + \\\n",
    "[generate_ham_check(Hx_local, 'X', i, i) for i in range(nq)] + [generate_ham_check(Hz_local, 'Z', i, i+nq) for i in range(nq)]"
   ],
   "outputs": [],
   "metadata": {}
  },
  {
   "cell_type": "code",
   "execution_count": 70,
   "source": [
    "ms = qutip.mesolve(H_check, psi_init, tlist).states[-1]\n",
    "ms"
   ],
   "outputs": [
    {
     "output_type": "execute_result",
     "data": {
      "text/latex": [
       "Quantum object: dims = [[4], [1]], shape = (4, 1), type = ket\\begin{equation*}\\left(\\begin{array}{*{11}c}(0.249-0.088j)\\\\(0.015+0.004j)\\\\(-0.009-0.012j)\\\\(0.897-0.353j)\\\\\\end{array}\\right)\\end{equation*}"
      ],
      "text/plain": [
       "Quantum object: dims = [[4], [1]], shape = (4, 1), type = ket\n",
       "Qobj data =\n",
       "[[ 0.24893537-0.08788961j]\n",
       " [ 0.01483976+0.00361246j]\n",
       " [-0.0089231 -0.01190095j]\n",
       " [ 0.89733453-0.3530479j ]]"
      ]
     },
     "metadata": {},
     "execution_count": 70
    }
   ],
   "metadata": {}
  },
  {
   "cell_type": "code",
   "execution_count": 71,
   "source": [
    "qutip.fidelity(opt_states[-1], ms)**2 # this should be near 1"
   ],
   "outputs": [
    {
     "output_type": "execute_result",
     "data": {
      "text/plain": [
       "0.9999782273914265"
      ]
     },
     "metadata": {},
     "execution_count": 71
    }
   ],
   "metadata": {}
  },
  {
   "cell_type": "markdown",
   "source": [
    "you can also check how discriminator's operator (D) changed over optimization"
   ],
   "metadata": {}
  },
  {
   "cell_type": "code",
   "execution_count": 72,
   "source": [
    "tD"
   ],
   "outputs": [
    {
     "output_type": "execute_result",
     "data": {
      "text/plain": [
       "[[Quantum object: dims = [[4], [4]], shape = (4, 4), type = oper, isherm = True\n",
       "  Qobj data =\n",
       "  [[ 0.20469903 -0.02286672 -0.09451132  0.        ]\n",
       "   [-0.02286672 -0.04108228  0.         -0.09451132]\n",
       "   [-0.09451132  0.          0.04108228 -0.02286672]\n",
       "   [ 0.         -0.09451132 -0.02286672 -0.20469903]],\n",
       "  Quantum object: dims = [[4], [4]], shape = (4, 4), type = oper, isherm = True\n",
       "  Qobj data =\n",
       "  [[-0.02167526+0.j          0.01309299+0.04933836j  0.06250291+0.00856225j\n",
       "    -0.3563739 +0.0461587j ]\n",
       "   [ 0.01309299-0.04933836j  0.06329197+0.j          0.03013875-0.0721817j\n",
       "     0.00929605+0.18805589j]\n",
       "   [ 0.06250291-0.00856225j  0.03013875+0.0721817j   0.09667168+0.j\n",
       "    -0.21004277+0.10015129j]\n",
       "   [-0.3563739 -0.0461587j   0.00929605-0.18805589j -0.21004277-0.10015129j\n",
       "    -0.15301526+0.j        ]],\n",
       "  Quantum object: dims = [[4], [4]], shape = (4, 4), type = oper, isherm = True\n",
       "  Qobj data =\n",
       "  [[ 2.26140211e-04+0.j          4.83406801e-02-0.02127985j\n",
       "     1.05777180e-01-0.07620783j -2.53305447e-02+0.04814657j]\n",
       "   [ 4.83406801e-02+0.02127985j  8.37101317e-03+0.j\n",
       "     2.02100527e-02-0.0043001j   1.56026427e-01+0.07701756j]\n",
       "   [ 1.05777180e-01+0.07620783j  2.02100527e-02+0.0043001j\n",
       "     5.10018443e-02+0.j          3.37129912e-01+0.26609188j]\n",
       "   [-2.53305447e-02-0.04814657j  1.56026427e-01-0.07701756j\n",
       "     3.37129912e-01-0.26609188j -1.64277587e-01+0.j        ]],\n",
       "  Quantum object: dims = [[4], [4]], shape = (4, 4), type = oper, isherm = True\n",
       "  Qobj data =\n",
       "  [[-0.16580403+0.j          0.06250653-0.04038833j -0.01936686+0.02122894j\n",
       "    -0.30201421+0.00727703j]\n",
       "   [ 0.06250653+0.04038833j  0.02437243+0.j         -0.0091005 +0.0023973j\n",
       "     0.27991518+0.18370398j]\n",
       "   [-0.01936686-0.02122894j -0.0091005 -0.0023973j   0.00363386+0.j\n",
       "    -0.08644907-0.09612659j]\n",
       "   [-0.30201421-0.00727703j  0.27991518-0.18370398j -0.08644907+0.09612659j\n",
       "     0.13725468+0.j        ]],\n",
       "  Quantum object: dims = [[4], [4]], shape = (4, 4), type = oper, isherm = True\n",
       "  Qobj data =\n",
       "  [[-0.1051624 +0.j          0.01588102+0.04122457j  0.09316115-0.05783639j\n",
       "    -0.17722414-0.01254151j]\n",
       "   [ 0.01588102-0.04122457j  0.00419156+0.j         -0.00194319-0.01022086j\n",
       "     0.05842326-0.1549109j ]\n",
       "   [ 0.09316115+0.05783639j -0.00194319+0.01022086j  0.02582378+0.j\n",
       "     0.35065577+0.21427739j]\n",
       "   [-0.17722414+0.01254151j  0.05842326+0.1549109j   0.35065577-0.21427739j\n",
       "     0.06651681+0.j        ]],\n",
       "  Quantum object: dims = [[4], [4]], shape = (4, 4), type = oper, isherm = True\n",
       "  Qobj data =\n",
       "  [[-0.17345444+0.j          0.06934342-0.04122045j -0.01016386+0.04679065j\n",
       "    -0.28858666+0.07180169j]\n",
       "   [ 0.06934342+0.04122045j  0.0092554 +0.j         -0.0037455 +0.00401876j\n",
       "     0.25826833+0.1628853j ]\n",
       "   [-0.01016386-0.04679065j -0.0037455 -0.00401876j  0.00326072+0.j\n",
       "    -0.03379073-0.17805894j]\n",
       "   [-0.28858666-0.07180169j  0.25826833-0.1628853j  -0.03379073+0.17805894j\n",
       "     0.15217461+0.j        ]],\n",
       "  Quantum object: dims = [[4], [4]], shape = (4, 4), type = oper, isherm = True\n",
       "  Qobj data =\n",
       "  [[-0.10532096+0.j          0.02072211+0.06319794j  0.08799779-0.05498015j\n",
       "    -0.17063835+0.03918542j]\n",
       "   [ 0.02072211-0.06319794j  0.00510421+0.j         -0.00190527-0.0077319j\n",
       "     0.07698224-0.2253609j ]\n",
       "   [ 0.08799779+0.05498015j -0.00190527+0.0077319j   0.01242353+0.j\n",
       "     0.31264326+0.20073465j]\n",
       "   [-0.17063835-0.03918542j  0.07698224+0.2253609j   0.31264326-0.20073465j\n",
       "     0.08607046+0.j        ]]]]"
      ]
     },
     "metadata": {},
     "execution_count": 72
    }
   ],
   "metadata": {
    "scrolled": true
   }
  },
  {
   "cell_type": "code",
   "execution_count": null,
   "source": [],
   "outputs": [],
   "metadata": {}
  }
 ],
 "metadata": {
  "kernelspec": {
   "name": "python3",
   "display_name": "Python 3.9.7 64-bit ('aqgan': conda)"
  },
  "language_info": {
   "codemirror_mode": {
    "name": "ipython",
    "version": 3
   },
   "file_extension": ".py",
   "mimetype": "text/x-python",
   "name": "python",
   "nbconvert_exporter": "python",
   "pygments_lexer": "ipython3",
   "version": "3.9.7"
  },
  "interpreter": {
   "hash": "d67205fe6c80655c76515d3801aace8f90435b90fb2c2b5e55627754c3b52aa9"
  }
 },
 "nbformat": 4,
 "nbformat_minor": 2
}