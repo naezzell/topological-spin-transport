{
 "cells": [
  {
   "cell_type": "markdown",
   "source": [
    "## Julia file to read data from Python"
   ],
   "metadata": {}
  },
  {
   "cell_type": "code",
   "execution_count": null,
   "source": [
    "using OpenQuantumTools"
   ],
   "outputs": [],
   "metadata": {}
  },
  {
   "cell_type": "code",
   "execution_count": null,
   "source": [
    "PauliVec[1][1]"
   ],
   "outputs": [],
   "metadata": {}
  },
  {
   "cell_type": "code",
   "execution_count": null,
   "source": [],
   "outputs": [],
   "metadata": {}
  }
 ],
 "metadata": {
  "orig_nbformat": 4,
  "language_info": {
   "name": "julia"
  },
  "kernelspec": {
   "name": "julia-1.7",
   "display_name": "Julia 1.7.1"
  }
 },
 "nbformat": 4,
 "nbformat_minor": 2
}