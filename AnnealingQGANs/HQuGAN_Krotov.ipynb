{
 "cells": [
  {
   "cell_type": "code",
   "execution_count": 65,
   "metadata": {},
   "outputs": [],
   "source": [
    "import qutip\n",
    "import numpy as np\n",
    "import scipy\n",
    "import matplotlib\n",
    "import matplotlib.pylab as plt\n",
    "import krotov\n",
    "import random\n",
    "import math\n",
    "import picos\n",
    "import cvxopt\n",
    "import pickle\n",
    "import mosek\n",
    "import time\n",
    "from krotov.parametrization import ParametrizedFunction, SquareParametrization, TanhParametrization"
   ]
  },
  {
   "cell_type": "markdown",
   "metadata": {},
   "source": [
    "# Set Hyperparameters"
   ]
  },
  {
   "cell_type": "markdown",
   "metadata": {},
   "source": [
    "One should make sure that the number of time steps (variable of \"steps\" below) is reasonably larger than the annealing time $T$. This is because if one increases annealing time $T$ and fixes number of time steps, the evolution becomes more and more inaccruate. Hence, once one evolves the Hamiltonian equipped to the pulse sequences, the final state will depend on what methods one evolves the Hamiltonian. For instance, using propagator in Krotov package will give different final state from using mesolve function in Qutip package. This will make unfair to compare with the results drawn from HOQST as well. \n",
    "\n",
    "I checked that setting the number of steps equal to $10 \\times T$ makes the evolution smooth enough so that the final states evolved from Krotov propagator and Qutip mesolve are the same.\n",
    "\n",
    "Also, make sure you increse annealing time as you increase number of qubits."
   ]
  },
  {
   "cell_type": "code",
   "execution_count": 30,
   "metadata": {},
   "outputs": [],
   "source": [
    "nq = 3 #number of qubits\n",
    "T = 10 #annealing time\n",
    "steps = T*10 #time steps \n",
    "tlist = np.linspace(0, T, steps)"
   ]
  },
  {
   "cell_type": "markdown",
   "metadata": {},
   "source": [
    "# Define Hamiltonian"
   ]
  },
  {
   "cell_type": "markdown",
   "metadata": {},
   "source": [
    "The system Hamiltonian we will be using now is in the form of: \n",
    "\n",
    "$H(t) = \\sum_{i=1}^{n} \\epsilon_i(t) X_i + \\sum_{i=1}^{n} \\epsilon_{i+n}(t) Z_i - \\sum_{i=1}^{n-1} Z_iZ_{i+1}, $\n",
    "\n",
    "where $n$ is the number of qubits. In addition, we will initiaize guess control functions equipped to the initial counditions of ${\\epsilon}_{i=1,...n} (t=0) = 0$ (pulse coefficients of $X_i$) and ${\\epsilon}_{i=n+1,...,2n} (t=0) = 1$, which gives the ground state of $\\lvert{11...11}\\rangle$."
   ]
  },
  {
   "cell_type": "code",
   "execution_count": 31,
   "metadata": {},
   "outputs": [],
   "source": [
    "#set matrices for each Hamiltonian terms, X_i, Z_i, and Z_iZ_i+1\n",
    "Hx_local,Hz_local,Hz_2local=[],[],[]\n",
    "for i in range(nq):\n",
    "    argsX=[qutip.qeye(2) for _ in range(nq)]; argsX[i]=qutip.sigmax()\n",
    "    argsZ=[qutip.qeye(2) for _ in range(nq)]; argsZ[i]=qutip.sigmaz()\n",
    "    Hx_local.append(qutip.tensor(*argsX)); Hz_local.append(qutip.tensor(*argsZ))\n",
    "    \n",
    "    if i < nq-1:\n",
    "        argsZZ=[qutip.qeye(2) for _ in range(nq)]; argsZZ[i]=qutip.sigmaz(); argsZZ[i+1]=qutip.sigmaz()\n",
    "        Hz_2local.append(qutip.tensor(*argsZZ))\n",
    "\n",
    "#re-dimension\n",
    "for h in Hx_local, Hz_local, Hz_2local:\n",
    "    for g in h:\n",
    "        g.dims=[[2**nq],[2**nq]]; \n",
    "\n",
    "    "
   ]
  },
  {
   "cell_type": "code",
   "execution_count": 32,
   "metadata": {},
   "outputs": [],
   "source": [
    "#eps_max, min are bounds on control amplitudes. Set this if needed. If not, get rid of ParametrizedFunction options\n",
    "\n",
    "def generate_ham(hamiltonian, pauli,k):\n",
    "    if pauli == 'X':\n",
    "        return [hamiltonian[k], ParametrizedFunction(lambda t, args: np.sin(10*t/T), \n",
    "                TanhParametrization(eps_max=1.0, eps_min=-1.0))]\n",
    "    elif pauli == 'Z':\n",
    "        return [hamiltonian[k], ParametrizedFunction(lambda t, args: np.cos(10*t/T), \n",
    "                TanhParametrization(eps_max=1.0, eps_min=-1.0))]"
   ]
  },
  {
   "cell_type": "code",
   "execution_count": 33,
   "metadata": {},
   "outputs": [],
   "source": [
    "#generate the system hamiltonian\n",
    "if nq==1:\n",
    "    H = [qutip.qzero(2)] + [generate_ham(Hx_local, 'X', i) for i in range(nq)] + [generate_ham(Hz_local, 'Z', i) for i in range(nq)]\n",
    "else:\n",
    "    H = [-Hzz for Hzz in Hz_2local] + [generate_ham(Hx_local, 'X', i) for i in range(nq)] + [generate_ham(Hz_local, 'Z', i) for i in range(nq)]"
   ]
  },
  {
   "cell_type": "markdown",
   "metadata": {},
   "source": [
    "# Customize the Cost Function"
   ]
  },
  {
   "cell_type": "markdown",
   "metadata": {},
   "source": [
    "This part is required if one tries to use specific forms of cost function other than listed in Krotov package(https://qucontrol.github.io/krotov/v1.0.0/API/krotov.functionals.html). \n",
    "\n",
    "Here, we might want to use the following form for the generator: $J_T = \\lvert \\text{Tr}(D\\sigma-D\\rho(T)) \\rvert ^2$ where $\\sigma=\\lvert \\psi_{targ} \\rangle \\langle \\psi_{targ} \\rvert$ is a target state and $\\rho(T)=\\lvert \\psi(T) \\rangle \\langle \\psi(T) \\rvert$ is a fully time-evolved state. \n",
    "\n",
    "Krotov's method requires to enter $-\\frac{\\partial J}{\\partial \\langle \\psi_k \\rvert} = -2 (\\langle \\psi(T) \\rvert D\\lvert \\psi(T)\\rangle -  \\langle \\psi_{targ} \\rvert D\\lvert \\psi_{targ}\\rangle) \\cdot D\\lvert \\psi(T)\\rangle$, which is described in chis_qubit function below. print_qubit_error function is for print out the cost function during optimization."
   ]
  },
  {
   "cell_type": "code",
   "execution_count": 34,
   "metadata": {},
   "outputs": [],
   "source": [
    "def print_qubit_error(**args):\n",
    "    \"\"\"Utility function writing the qubit error to screen\"\"\"\n",
    "    taus = []\n",
    "    for state_T in args['fw_states_T']:\n",
    "        exp = qutip.expect(D, state_T)\n",
    "        taus.append(exp)\n",
    "        \n",
    "    J_T_re = np.average(taus)\n",
    "    \n",
    "    exp_D = qutip.expect(D, psi_targ)\n",
    "    \n",
    "    #J = J_T_re - exp_D\n",
    "    \n",
    "    J = abs(J_T_re-exp_D)**2\n",
    "    \n",
    "    print(\"    |<psi|D|psi> - <target|D|target>|^2: %.le\"% (J) )\n",
    "    \n",
    "    return J\n",
    "        "
   ]
  },
  {
   "cell_type": "code",
   "execution_count": 35,
   "metadata": {},
   "outputs": [],
   "source": [
    "def chis_qubit(fw_states_T, objectives, tau_vals):\n",
    "    \"\"\"Calculate chis for the chosen functional\"\"\"\n",
    "    chis = []\n",
    "    #print(fw_states_T)\n",
    "    for state_i_T in fw_states_T:\n",
    "        #print(D)\n",
    "        #chi=-(D*state_i_T)\n",
    "        c = qutip.expect(D, psi_targ)\n",
    "        o = qutip.expect(D, state_i_T)\n",
    "        \n",
    "        #chi= -2*(o-c)*(D*state_i_T)\n",
    "        \n",
    "        chi=-2*(state_i_T.dag()*(D*state_i_T) - c)*(D*state_i_T)\n",
    "        chis.append(chi)\n",
    "    return chis"
   ]
  },
  {
   "cell_type": "markdown",
   "metadata": {},
   "source": [
    "# Shape Function"
   ]
  },
  {
   "cell_type": "markdown",
   "metadata": {},
   "source": [
    "Krotov's method requires shape function, which is used to optimize pulse sequence in each time grid. The shape function should be defined in the same time grid and indicates how much pulse value (at each time grid) is changed in a single optimization. For instance, $S(t=0) = 0$ will prevent from pulse value at $t=0$ changing. (check: https://qucontrol.github.io/krotov/v1.0.0/07_krotovs_method.html?highlight=shape%20#first-order-update)\n",
    "\n",
    "The design of such shape function is completely up to the user."
   ]
  },
  {
   "cell_type": "code",
   "execution_count": 36,
   "metadata": {},
   "outputs": [],
   "source": [
    "def S(t):\n",
    "    \"\"\"Shape function for the field update\"\"\"\n",
    "    \n",
    "    return krotov.shapes.flattop(t, t_start=0, t_stop=T, t_rise=(T / 20), t_fall=(T / 20), func='sinsq')"
   ]
  },
  {
   "cell_type": "markdown",
   "metadata": {},
   "source": [
    "# Initial/Target States"
   ]
  },
  {
   "cell_type": "markdown",
   "metadata": {},
   "source": [
    "Create initial state; here we want to start from the ground state of initial Hamiltomian we defined earlier. The ground state should be $\\lvert 11..11\\rangle$. "
   ]
  },
  {
   "cell_type": "code",
   "execution_count": 37,
   "metadata": {},
   "outputs": [],
   "source": [
    "#produce initial hamiltonian, i.e. H(t=0)\n",
    "h0=0\n",
    "for h in Hz_local,Hz_2local:\n",
    "    for g in h:\n",
    "        if h == Hz_local:\n",
    "            h0+=g\n",
    "        else:\n",
    "            h0+=-g"
   ]
  },
  {
   "cell_type": "code",
   "execution_count": 38,
   "metadata": {},
   "outputs": [
    {
     "data": {
      "text/latex": [
       "Quantum object: dims = [[8], [1]], shape = (8, 1), type = ket\\begin{equation*}\\left(\\begin{array}{*{11}c}0.0\\\\0.0\\\\0.0\\\\0.0\\\\0.0\\\\0.0\\\\0.0\\\\1.0\\\\\\end{array}\\right)\\end{equation*}"
      ],
      "text/plain": [
       "Quantum object: dims = [[8], [1]], shape = (8, 1), type = ket\n",
       "Qobj data =\n",
       "[[0.]\n",
       " [0.]\n",
       " [0.]\n",
       " [0.]\n",
       " [0.]\n",
       " [0.]\n",
       " [0.]\n",
       " [1.]]"
      ]
     },
     "execution_count": 38,
     "metadata": {},
     "output_type": "execute_result"
    }
   ],
   "source": [
    "psi_init = h0.eigenstates()[1][0] \n",
    "rho_init=psi_init * psi_init.dag()\n",
    "psi_init"
   ]
  },
  {
   "cell_type": "code",
   "execution_count": 39,
   "metadata": {},
   "outputs": [],
   "source": [
    "objectives = [krotov.Objective(initial_state=psi_init, target=0, H=H)]"
   ]
  },
  {
   "cell_type": "markdown",
   "metadata": {},
   "source": [
    "# Choose initial operator for discriminator, $D_0$"
   ]
  },
  {
   "cell_type": "code",
   "execution_count": 40,
   "metadata": {},
   "outputs": [
    {
     "data": {
      "text/latex": [
       "Quantum object: dims = [[8], [8]], shape = (8, 8), type = oper, isherm = True\\begin{equation*}\\left(\\begin{array}{*{11}c}1.0 & 0.0 & 0.0 & 0.0 & 0.0 & 0.0 & 0.0 & 0.0\\\\0.0 & 1.0 & 0.0 & 0.0 & 0.0 & 0.0 & 0.0 & 0.0\\\\0.0 & 0.0 & 1.0 & 0.0 & 0.0 & 0.0 & 0.0 & 0.0\\\\0.0 & 0.0 & 0.0 & 1.0 & 0.0 & 0.0 & 0.0 & 0.0\\\\0.0 & 0.0 & 0.0 & 0.0 & -1.0 & 0.0 & 0.0 & 0.0\\\\0.0 & 0.0 & 0.0 & 0.0 & 0.0 & -1.0 & 0.0 & 0.0\\\\0.0 & 0.0 & 0.0 & 0.0 & 0.0 & 0.0 & -1.0 & 0.0\\\\0.0 & 0.0 & 0.0 & 0.0 & 0.0 & 0.0 & 0.0 & -1.0\\\\\\end{array}\\right)\\end{equation*}"
      ],
      "text/plain": [
       "Quantum object: dims = [[8], [8]], shape = (8, 8), type = oper, isherm = True\n",
       "Qobj data =\n",
       "[[ 1.  0.  0.  0.  0.  0.  0.  0.]\n",
       " [ 0.  1.  0.  0.  0.  0.  0.  0.]\n",
       " [ 0.  0.  1.  0.  0.  0.  0.  0.]\n",
       " [ 0.  0.  0.  1.  0.  0.  0.  0.]\n",
       " [ 0.  0.  0.  0. -1.  0.  0.  0.]\n",
       " [ 0.  0.  0.  0.  0. -1.  0.  0.]\n",
       " [ 0.  0.  0.  0.  0.  0. -1.  0.]\n",
       " [ 0.  0.  0.  0.  0.  0.  0. -1.]]"
      ]
     },
     "execution_count": 40,
     "metadata": {},
     "output_type": "execute_result"
    }
   ],
   "source": [
    "for i in range(nq):\n",
    "    argsZ=[qutip.qeye(2) for _ in range(nq)]; argsZ[0]=qutip.sigmaz()\n",
    "\n",
    "D0 = qutip.tensor(*argsZ)\n",
    "D0.dims=[[2**nq],[2**nq]]\n",
    "D0"
   ]
  },
  {
   "cell_type": "code",
   "execution_count": 41,
   "metadata": {
    "scrolled": true
   },
   "outputs": [
    {
     "data": {
      "text/plain": [
       "[Quantum object: dims = [[8], [1]], shape = (8, 1), type = ket\n",
       " Qobj data =\n",
       " [[0.70710678]\n",
       "  [0.        ]\n",
       "  [0.        ]\n",
       "  [0.        ]\n",
       "  [0.        ]\n",
       "  [0.        ]\n",
       "  [0.        ]\n",
       "  [0.70710678]]]"
      ]
     },
     "execution_count": 41,
     "metadata": {},
     "output_type": "execute_result"
    }
   ],
   "source": [
    "targ_states = [(qutip.basis(2**nq,0)+qutip.basis(2**nq,2**nq-1))/np.sqrt(2)]\n",
    "targ_states "
   ]
  },
  {
   "cell_type": "markdown",
   "metadata": {},
   "source": [
    "# Optimization"
   ]
  },
  {
   "cell_type": "code",
   "execution_count": 45,
   "metadata": {},
   "outputs": [],
   "source": [
    "#it = number of iterations taken in each step of the generator; \n",
    "#lam = stepsize of generator; #total_it: iterations of QGAN\n",
    "lam =10.0; total_it = 1500\n",
    "\n",
    "#choose discriminator:\n",
    "dis = 'Helstrom'"
   ]
  },
  {
   "cell_type": "code",
   "execution_count": 43,
   "metadata": {},
   "outputs": [],
   "source": [
    "def generate_ham_check(hamiltonian, pauli,k,j, pl):\n",
    "    if pauli == 'X':\n",
    "        return [hamiltonian[k], np.array(pl[j])]\n",
    "    elif pauli == 'Z':\n",
    "        return [hamiltonian[k], np.array(pl[j])]"
   ]
  },
  {
   "cell_type": "code",
   "execution_count": 44,
   "metadata": {
    "scrolled": true
   },
   "outputs": [
    {
     "name": "stdout",
     "output_type": "stream",
     "text": [
      "0th step of QGAN begins\n",
      "    |<psi|D|psi> - <target|D|target>|^2: 1e-03\n"
     ]
    },
    {
     "name": "stderr",
     "output_type": "stream",
     "text": [
      "/Users/leeseok/opt/anaconda3/lib/python3.9/site-packages/krotov/parametrization.py:66: UserWarning: Pulse value 1.0 out of range (-1.0, 1.0) for TanhParametrization. Value will be clipped.\n",
      "  warnings.warn(\n"
     ]
    },
    {
     "name": "stdout",
     "output_type": "stream",
     "text": [
      "    |<psi|D|psi> - <target|D|target>|^2: 2e-04\n",
      "    |<psi|D|psi> - <target|D|target>|^2: 6e-05\n",
      "    |<psi|D|psi> - <target|D|target>|^2: 1e-05\n",
      "    |<psi|D|psi> - <target|D|target>|^2: 3e-06\n",
      "    |<psi|D|psi> - <target|D|target>|^2: 7e-07\n",
      "fidelity: 0.33482372445549413\n",
      "1th step of QGAN begins\n",
      "    |<psi|D|psi> - <target|D|target>|^2: 7e-01\n",
      "    |<psi|D|psi> - <target|D|target>|^2: 6e-01\n",
      "    |<psi|D|psi> - <target|D|target>|^2: 5e-01\n",
      "    |<psi|D|psi> - <target|D|target>|^2: 5e-01\n",
      "    |<psi|D|psi> - <target|D|target>|^2: 4e-01\n",
      "    |<psi|D|psi> - <target|D|target>|^2: 3e-01\n",
      "fidelity: 0.6494292812047677\n",
      "2th step of QGAN begins\n",
      "    |<psi|D|psi> - <target|D|target>|^2: 4e-01\n",
      "    |<psi|D|psi> - <target|D|target>|^2: 3e-01\n",
      "    |<psi|D|psi> - <target|D|target>|^2: 3e-01\n",
      "    |<psi|D|psi> - <target|D|target>|^2: 2e-01\n",
      "    |<psi|D|psi> - <target|D|target>|^2: 2e-01\n",
      "    |<psi|D|psi> - <target|D|target>|^2: 1e-01\n",
      "fidelity: 0.8414130481247283\n",
      "3th step of QGAN begins\n",
      "    |<psi|D|psi> - <target|D|target>|^2: 2e-01\n",
      "    |<psi|D|psi> - <target|D|target>|^2: 1e-01\n",
      "    |<psi|D|psi> - <target|D|target>|^2: 1e-01\n",
      "    |<psi|D|psi> - <target|D|target>|^2: 1e-01\n",
      "    |<psi|D|psi> - <target|D|target>|^2: 8e-02\n",
      "    |<psi|D|psi> - <target|D|target>|^2: 7e-02\n",
      "fidelity: 0.9285500498873978\n",
      "4th step of QGAN begins\n",
      "    |<psi|D|psi> - <target|D|target>|^2: 7e-02\n",
      "    |<psi|D|psi> - <target|D|target>|^2: 6e-02\n",
      "    |<psi|D|psi> - <target|D|target>|^2: 5e-02\n",
      "    |<psi|D|psi> - <target|D|target>|^2: 5e-02\n",
      "    |<psi|D|psi> - <target|D|target>|^2: 4e-02\n",
      "    |<psi|D|psi> - <target|D|target>|^2: 3e-02\n",
      "fidelity: 0.9659621749231673\n",
      "5th step of QGAN begins\n",
      "    |<psi|D|psi> - <target|D|target>|^2: 3e-02\n",
      "    |<psi|D|psi> - <target|D|target>|^2: 3e-02\n",
      "    |<psi|D|psi> - <target|D|target>|^2: 3e-02\n",
      "    |<psi|D|psi> - <target|D|target>|^2: 2e-02\n",
      "    |<psi|D|psi> - <target|D|target>|^2: 2e-02\n",
      "    |<psi|D|psi> - <target|D|target>|^2: 2e-02\n",
      "fidelity: 0.9825920000387417\n",
      "6th step of QGAN begins\n",
      "    |<psi|D|psi> - <target|D|target>|^2: 2e-02\n",
      "    |<psi|D|psi> - <target|D|target>|^2: 2e-02\n",
      "    |<psi|D|psi> - <target|D|target>|^2: 1e-02\n",
      "    |<psi|D|psi> - <target|D|target>|^2: 1e-02\n",
      "    |<psi|D|psi> - <target|D|target>|^2: 1e-02\n",
      "    |<psi|D|psi> - <target|D|target>|^2: 9e-03\n",
      "fidelity: 0.9904387040604112\n",
      "7th step of QGAN begins\n",
      "    |<psi|D|psi> - <target|D|target>|^2: 1e-02\n",
      "    |<psi|D|psi> - <target|D|target>|^2: 9e-03\n",
      "    |<psi|D|psi> - <target|D|target>|^2: 8e-03\n",
      "    |<psi|D|psi> - <target|D|target>|^2: 7e-03\n",
      "    |<psi|D|psi> - <target|D|target>|^2: 6e-03\n",
      "    |<psi|D|psi> - <target|D|target>|^2: 6e-03\n",
      "fidelity: 0.9944041470918166\n",
      "8th step of QGAN begins\n",
      "    |<psi|D|psi> - <target|D|target>|^2: 6e-03\n",
      "    |<psi|D|psi> - <target|D|target>|^2: 5e-03\n",
      "    |<psi|D|psi> - <target|D|target>|^2: 5e-03\n",
      "    |<psi|D|psi> - <target|D|target>|^2: 4e-03\n",
      "    |<psi|D|psi> - <target|D|target>|^2: 4e-03\n",
      "    |<psi|D|psi> - <target|D|target>|^2: 3e-03\n",
      "fidelity: 0.9965535747116933\n",
      "9th step of QGAN begins\n",
      "    |<psi|D|psi> - <target|D|target>|^2: 3e-03\n",
      "    |<psi|D|psi> - <target|D|target>|^2: 3e-03\n",
      "    |<psi|D|psi> - <target|D|target>|^2: 3e-03\n",
      "    |<psi|D|psi> - <target|D|target>|^2: 3e-03\n",
      "    |<psi|D|psi> - <target|D|target>|^2: 2e-03\n",
      "    |<psi|D|psi> - <target|D|target>|^2: 2e-03\n",
      "fidelity: 0.9977962482398668\n",
      "10th step of QGAN begins\n",
      "    |<psi|D|psi> - <target|D|target>|^2: 2e-03\n",
      "    |<psi|D|psi> - <target|D|target>|^2: 2e-03\n",
      "    |<psi|D|psi> - <target|D|target>|^2: 2e-03\n",
      "    |<psi|D|psi> - <target|D|target>|^2: 2e-03\n",
      "    |<psi|D|psi> - <target|D|target>|^2: 2e-03\n",
      "    |<psi|D|psi> - <target|D|target>|^2: 1e-03\n",
      "fidelity: 0.9985539304661855\n",
      "11th step of QGAN begins\n",
      "    |<psi|D|psi> - <target|D|target>|^2: 1e-03\n",
      "    |<psi|D|psi> - <target|D|target>|^2: 1e-03\n",
      "    |<psi|D|psi> - <target|D|target>|^2: 1e-03\n",
      "    |<psi|D|psi> - <target|D|target>|^2: 1e-03\n",
      "    |<psi|D|psi> - <target|D|target>|^2: 1e-03\n",
      "    |<psi|D|psi> - <target|D|target>|^2: 1e-03\n",
      "fidelity: 0.9990346419886267\n",
      "converged at 11th step\n"
     ]
    }
   ],
   "source": [
    "start = time.time()\n",
    "\n",
    "#D, pulse, fidelity list, states\n",
    "tD, tP, tF, tS = [],[],[],[]\n",
    "\n",
    "\n",
    "for state in targ_states: \n",
    "    \n",
    "    #set preliminaries & store initial values of D and initial pulse\n",
    "    D_list,pulse_list,fid_list,state_list=[],[],[],[]\n",
    "    \n",
    "    dis_pulse_list=[]\n",
    "    \n",
    "    #define target state & set initial D as D0\n",
    "    psi_targ = state; rho_targ = psi_targ * psi_targ.dag(); D= D0; it=5; add=it\n",
    "\n",
    "    #Store initial pulse & define pulse_options\n",
    "    init_pulse=[]\n",
    "    if nq == 1:\n",
    "        pulse_options={}; H_param = [H[i][1] for i in range(1,3)]\n",
    "        for h in H_param:\n",
    "            pulse_options[h] = dict(lambda_a=lam, update_shape=S)\n",
    "        for i in range(1,3):\n",
    "            init_pulse.append(np.array([H[i][1](t, args=None) for t in tlist]))\n",
    "    \n",
    "    else:\n",
    "        pulse_options={}; H_param = [H[i][1] for i in range(nq-1, 2*nq+(nq-1))]\n",
    "        for h in H_param:\n",
    "            pulse_options[h] = dict(lambda_a=lam, update_shape=S)\n",
    "        for i in range(nq-1,2*nq+(nq-1)):\n",
    "            init_pulse.append(np.array([H[i][1](t, args=None) for t in tlist]))\n",
    "    \n",
    "    D_list.append(D); pulse_list.append(init_pulse)\n",
    "\n",
    "    \n",
    "    #Generator\n",
    "\n",
    "\n",
    "    for i in range(total_it):\n",
    "\n",
    "        print(str(i)+'th step of QGAN begins')\n",
    "        \n",
    "        #optimize pulse\n",
    "\n",
    "        if i == 0:\n",
    "            \n",
    "            opt_result = krotov.optimize_pulses(\n",
    "            objectives,\n",
    "            pulse_options,\n",
    "            tlist,\n",
    "            propagator=krotov.propagators.expm,\n",
    "            chi_constructor=chis_qubit,\n",
    "            iter_stop = it,\n",
    "            info_hook=krotov.info_hooks.chain(print_qubit_error),\n",
    "            check_convergence = krotov.convergence.value_below(limit='1e-22'))\n",
    "\n",
    "        else:\n",
    "\n",
    "            opt_result = krotov.optimize_pulses(\n",
    "            objectives,\n",
    "            pulse_options,\n",
    "            tlist,\n",
    "            propagator=krotov.propagators.expm,\n",
    "            chi_constructor=chis_qubit,\n",
    "            iter_stop = it,\n",
    "            info_hook=krotov.info_hooks.chain(print_qubit_error),\n",
    "            check_convergence = krotov.convergence.value_below(limit='1e-22'),\n",
    "            continue_from=opt_result)\n",
    "\n",
    "        pulse_list.append(opt_result.optimized_controls)\n",
    "        #cost_list.append(opt_result.info_vals[-1])\n",
    "\n",
    "        final_state = opt_result.states[0] #final state\n",
    "        state_list.append(final_state)\n",
    "\n",
    "        rhot = final_state * final_state.dag() #rho_optimized\n",
    "\n",
    "        it+=add\n",
    "\n",
    "        fid_list.append(qutip.fidelity(psi_targ, final_state)**2)\n",
    "\n",
    "        print('fidelity: ' + str(qutip.fidelity(psi_targ, final_state)**2))\n",
    "\n",
    "        #convergence check: fidelity > 0.999\n",
    "        if qutip.fidelity(psi_targ, final_state)**2 > 0.999: \n",
    "            print('converged at ' + str(i) + 'th step') \n",
    "            break\n",
    "\n",
    "\n",
    "        # Discriminator\n",
    "        \n",
    "        if dis == 'Helstrom':\n",
    "            \n",
    "            pm = (rhot-rho_targ).eigenstates()[1][-1]*(rhot-rho_targ).eigenstates()[1][-1].dag()\n",
    "            pn = (rhot-rho_targ).eigenstates()[1][0]*(rhot-rho_targ).eigenstates()[1][0].dag()\n",
    "\n",
    "\n",
    "            D = 0.5*(pm - pn)\n",
    "            D.dims = [[2**nq], [2**nq]]\n",
    "            D_list.append(D)\n",
    "        \n",
    "        else:\n",
    "            \n",
    "            pulse_options_D = pulse_options\n",
    "\n",
    "            L=krotov.objectives.liouvillian(H, c_ops={})\n",
    "            objectives_D = [krotov.Objective(initial_state=(rhot - rho_targ), target=D0, H=L)]\n",
    "\n",
    "            opt_result_D = krotov.optimize_pulses(\n",
    "            objectives_D,\n",
    "            pulse_options_D,\n",
    "            tlist,\n",
    "            propagator=krotov.propagators.DensityMatrixODEPropagator(),\n",
    "            chi_constructor=krotov.functionals.chis_re,\n",
    "            iter_stop = 1,\n",
    "            info_hook=krotov.info_hooks.print_table(J_T=krotov.functionals.F_re))\n",
    "\n",
    "            final_state_D = opt_result_D.states[0]\n",
    "            #print(final_state_D)\n",
    "\n",
    "            print(np.trace(D0*final_state_D))\n",
    "            rp=opt_result_D.optimized_controls\n",
    "            dis_pulse_list.append(rp)\n",
    "\n",
    "            H_check = [-Hzz for Hzz in Hz_2local] + [generate_ham_check(Hx_local, 'X', i, i, rp) for i in range(nq)] \\\n",
    "            + [generate_ham_check(Hz_local, 'Z', i, i+nq, rp) for i in range(nq)]\n",
    "\n",
    "            U=qutip.propagator(H_check, tlist)[-1]\n",
    "            D = (U.dag())*(D0*U)\n",
    "            D_list.append(D)\n",
    "        \n",
    "    tD.append(D_list); tP.append(pulse_list); tF.append(fid_list); tS.append(state_list)\n",
    "    \n",
    "end = time.time()\n",
    "\n",
    "total_time = end-start"
   ]
  },
  {
   "cell_type": "markdown",
   "metadata": {},
   "source": [
    "# Results"
   ]
  },
  {
   "cell_type": "markdown",
   "metadata": {},
   "source": [
    "Plot to see how pulse sequences and fidelity changed over optimization"
   ]
  },
  {
   "cell_type": "code",
   "execution_count": 51,
   "metadata": {},
   "outputs": [],
   "source": [
    "def plot_pulse(pulse, tlist):\n",
    "    fig, ax = plt.subplots(figsize=(10,6))\n",
    "    Ham = ['amps of X1', 'amps of X2', 'amps of Z1', 'amps of Z2']\n",
    "    for i in range(len(pulse)):\n",
    "        ax.plot(tlist, pulse[i])#, label=str(Ham[i]))\n",
    "    ax.set_xlabel('time')\n",
    "    ax.set_ylabel('pulse amplitude')\n",
    "    ax.legend(bbox_to_anchor=(0.9, 0.3))\n",
    "    plt.show(fig)"
   ]
  },
  {
   "cell_type": "code",
   "execution_count": 52,
   "metadata": {
    "scrolled": false
   },
   "outputs": [
    {
     "name": "stderr",
     "output_type": "stream",
     "text": [
      "WARNING:matplotlib.legend:No handles with labels found to put in legend.\n"
     ]
    },
    {
     "data": {
      "image/png": "[encoded data removed]",
      "text/plain": [
       "<Figure size 720x432 with 1 Axes>"
      ]
     },
     "metadata": {
      "needs_background": "light"
     },
     "output_type": "display_data"
    }
   ],
   "source": [
    "plot_pulse(pulse_list[-1], tlist)"
   ]
  },
  {
   "cell_type": "code",
   "execution_count": 53,
   "metadata": {},
   "outputs": [],
   "source": [
    "def plot_fid(fid_list):\n",
    "    fig, ax = plt.subplots()\n",
    "    f = len(fid_list)\n",
    "    \n",
    "    ax.plot(np.linspace(1,f, f), fid_list)\n",
    "    ax.tick_params(axis='x', labelsize=15)\n",
    "    ax.tick_params(axis='y', labelsize=15)\n",
    "          \n",
    "    ax.set_xlabel('iteration', fontsize = 18)\n",
    "    ax.set_ylabel('fidelity', fontsize = 18)\n",
    "    fig.show()"
   ]
  },
  {
   "cell_type": "code",
   "execution_count": 54,
   "metadata": {},
   "outputs": [
    {
     "name": "stderr",
     "output_type": "stream",
     "text": [
      "/var/folders/9r/1h6y9d_s679362wyg5rjyqm40000gn/T/ipykernel_61775/3072373806.py:11: UserWarning: Matplotlib is currently using module://matplotlib_inline.backend_inline, which is a non-GUI backend, so cannot show the figure.\n",
      "  fig.show()\n"
     ]
    },
    {
     "data": {
      "image/png": "[encoded data removed]",
      "text/plain": [
       "<Figure size 432x288 with 1 Axes>"
      ]
     },
     "metadata": {
      "needs_background": "light"
     },
     "output_type": "display_data"
    }
   ],
   "source": [
    "plot_fid(tF[0])"
   ]
  },
  {
   "cell_type": "markdown",
   "metadata": {},
   "source": [
    "# Sanity Check"
   ]
  },
  {
   "cell_type": "markdown",
   "metadata": {},
   "source": [
    "Check whether the state is accurate"
   ]
  },
  {
   "cell_type": "code",
   "execution_count": 55,
   "metadata": {},
   "outputs": [],
   "source": [
    "opt_states = opt_result.optimized_objectives[0].propagate(tlist, propagator=krotov.propagators.expm).states"
   ]
  },
  {
   "cell_type": "code",
   "execution_count": 56,
   "metadata": {},
   "outputs": [
    {
     "data": {
      "text/latex": [
       "Quantum object: dims = [[8], [1]], shape = (8, 1), type = ket\\begin{equation*}\\left(\\begin{array}{*{11}c}(-0.661-0.228j)\\\\(0.007-0.005j)\\\\(-0.016+0.013j)\\\\(-0.009-0.003j)\\\\(0.008-0.005j)\\\\(-0.002+0.009j)\\\\(-0.009-0.003j)\\\\(-0.674-0.235j)\\\\\\end{array}\\right)\\end{equation*}"
      ],
      "text/plain": [
       "Quantum object: dims = [[8], [1]], shape = (8, 1), type = ket\n",
       "Qobj data =\n",
       "[[-0.66099266-0.2282229j ]\n",
       " [ 0.00744244-0.00484733j]\n",
       " [-0.01624754+0.01298591j]\n",
       " [-0.00873143-0.00299562j]\n",
       " [ 0.00751469-0.00490479j]\n",
       " [-0.00169126+0.00920258j]\n",
       " [-0.00880061-0.0029624j ]\n",
       " [-0.67442099-0.23517724j]]"
      ]
     },
     "execution_count": 56,
     "metadata": {},
     "output_type": "execute_result"
    }
   ],
   "source": [
    "opt_states[-1]"
   ]
  },
  {
   "cell_type": "code",
   "execution_count": 57,
   "metadata": {},
   "outputs": [
    {
     "data": {
      "text/latex": [
       "Quantum object: dims = [[8], [1]], shape = (8, 1), type = ket\\begin{equation*}\\left(\\begin{array}{*{11}c}(-0.661-0.228j)\\\\(0.007-0.005j)\\\\(-0.016+0.013j)\\\\(-0.009-0.003j)\\\\(0.008-0.005j)\\\\(-0.002+0.009j)\\\\(-0.009-0.003j)\\\\(-0.674-0.235j)\\\\\\end{array}\\right)\\end{equation*}"
      ],
      "text/plain": [
       "Quantum object: dims = [[8], [1]], shape = (8, 1), type = ket\n",
       "Qobj data =\n",
       "[[-0.66099266-0.2282229j ]\n",
       " [ 0.00744244-0.00484733j]\n",
       " [-0.01624754+0.01298591j]\n",
       " [-0.00873143-0.00299562j]\n",
       " [ 0.00751469-0.00490479j]\n",
       " [-0.00169126+0.00920258j]\n",
       " [-0.00880061-0.0029624j ]\n",
       " [-0.67442099-0.23517724j]]"
      ]
     },
     "execution_count": 57,
     "metadata": {},
     "output_type": "execute_result"
    }
   ],
   "source": [
    "tS[0][-1]"
   ]
  },
  {
   "cell_type": "markdown",
   "metadata": {},
   "source": [
    "Another way to check is whether this state is correct is by using mesolve: (mesolve might give a very slightly different state since calculation method is different: check(https://qucontrol.github.io/krotov/v1.2.0/API/krotov.propagators.html and https://qutip.org/docs/latest/apidoc/functions.html#qutip.mesolve.mesolve)"
   ]
  },
  {
   "cell_type": "code",
   "execution_count": 58,
   "metadata": {},
   "outputs": [],
   "source": [
    "def generate_ham_check(hamiltonian, pauli,k,j):\n",
    "    if pauli == 'X':\n",
    "        return [hamiltonian[k], np.array(pulse_list[-1][j])]\n",
    "    elif pauli == 'Z':\n",
    "        return [hamiltonian[k], np.array(pulse_list[-1][j])]"
   ]
  },
  {
   "cell_type": "code",
   "execution_count": 59,
   "metadata": {},
   "outputs": [],
   "source": [
    "H_check = [-Hzz for Hzz in Hz_2local] + \\\n",
    "[generate_ham_check(Hx_local, 'X', i, i) for i in range(nq)] + [generate_ham_check(Hz_local, 'Z', i, i+nq) for i in range(nq)]"
   ]
  },
  {
   "cell_type": "code",
   "execution_count": 60,
   "metadata": {},
   "outputs": [
    {
     "data": {
      "text/latex": [
       "Quantum object: dims = [[8], [1]], shape = (8, 1), type = ket\\begin{equation*}\\left(\\begin{array}{*{11}c}(-0.662-0.226j)\\\\(0.008-3.077\\times10^{-04}j)\\\\(-0.023+0.015j)\\\\(-0.010-0.007j)\\\\(0.008-3.734\\times10^{-04}j)\\\\(-1.219\\times10^{-04}+0.013j)\\\\(-0.010-0.007j)\\\\(-0.676-0.230j)\\\\\\end{array}\\right)\\end{equation*}"
      ],
      "text/plain": [
       "Quantum object: dims = [[8], [1]], shape = (8, 1), type = ket\n",
       "Qobj data =\n",
       "[[-6.61656766e-01-0.22582013j]\n",
       " [ 8.34056661e-03-0.0003077j ]\n",
       " [-2.31815282e-02+0.01486146j]\n",
       " [-9.70472695e-03-0.00691004j]\n",
       " [ 8.37161532e-03-0.00037338j]\n",
       " [-1.21904708e-04+0.01334073j]\n",
       " [-9.78280195e-03-0.00685021j]\n",
       " [-6.75890192e-01-0.23027671j]]"
      ]
     },
     "execution_count": 60,
     "metadata": {},
     "output_type": "execute_result"
    }
   ],
   "source": [
    "qutip.mesolve(H_check, psi_init, tlist).states[-1]"
   ]
  },
  {
   "cell_type": "code",
   "execution_count": 61,
   "metadata": {},
   "outputs": [
    {
     "data": {
      "text/plain": [
       "0.9999242939458041"
      ]
     },
     "execution_count": 61,
     "metadata": {},
     "output_type": "execute_result"
    }
   ],
   "source": [
    "qutip.fidelity(qutip.mesolve(H_check, psi_init, tlist).states[-1], tS[0][-1])"
   ]
  }
 ],
 "metadata": {
  "kernelspec": {
   "display_name": "Python 3 (ipykernel)",
   "language": "python",
   "name": "python3"
  },
  "language_info": {
   "codemirror_mode": {
    "name": "ipython",
    "version": 3
   },
   "file_extension": ".py",
   "mimetype": "text/x-python",
   "name": "python",
   "nbconvert_exporter": "python",
   "pygments_lexer": "ipython3",
   "version": "3.9.7"
  }
 },
 "nbformat": 4,
 "nbformat_minor": 2
}
