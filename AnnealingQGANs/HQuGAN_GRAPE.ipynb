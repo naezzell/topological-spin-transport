{
 "cells": [
  {
   "cell_type": "code",
   "execution_count": 1,
   "source": [
    "%matplotlib inline\n",
    "import numpy as np\n",
    "import matplotlib.pyplot as plt\n",
    "import datetime\n",
    "import qutip.control.fidcomp as fidcomp\n",
    "import picos\n",
    "import pickle\n",
    "import time"
   ],
   "outputs": [],
   "metadata": {}
  },
  {
   "cell_type": "code",
   "execution_count": 9,
   "source": [
    "import qutip\n",
    "from qutip import Qobj, identity, sigmax, sigmay, sigmaz, sigmam, tensor\n",
    "import qutip.logging_utils as logging\n",
    "import qutip\n",
    "logger = logging.get_logger()\n",
    "log_level = logging.INFO\n",
    "import qutip.control.pulseoptim as cpo\n",
    "import qutip.control.pulsegen as pulsegen"
   ],
   "outputs": [],
   "metadata": {}
  },
  {
   "cell_type": "markdown",
   "source": [
    "# Set up"
   ],
   "metadata": {}
  },
  {
   "cell_type": "code",
   "execution_count": 10,
   "source": [
    "nq = 3 #number of qubits\n",
    "evo_time = 10 #annealing time\n",
    "n_ts = evo_time*10 #time steps \n",
    "tlist = np.linspace(0, evo_time, n_ts)"
   ],
   "outputs": [],
   "metadata": {}
  },
  {
   "cell_type": "code",
   "execution_count": 11,
   "source": [
    "#set matrices for each Hamiltonian terms, X_i, Z_i, and Z_iZ_i+1\n",
    "Hx_local,Hz_local,Hz_2local=[],[],[]\n",
    "for i in range(nq):\n",
    "    argsX=[qutip.qeye(2) for _ in range(nq)]; argsX[i]=qutip.sigmax()\n",
    "    argsZ=[qutip.qeye(2) for _ in range(nq)]; argsZ[i]=qutip.sigmaz()\n",
    "    Hx_local.append(qutip.tensor(*argsX)); Hz_local.append(qutip.tensor(*argsZ))\n",
    "    \n",
    "    if i < nq-1:\n",
    "        argsZZ=[qutip.qeye(2) for _ in range(nq)]; argsZZ[i]=qutip.sigmaz(); argsZZ[i+1]=qutip.sigmaz()\n",
    "        Hz_2local.append(qutip.tensor(*argsZZ))"
   ],
   "outputs": [],
   "metadata": {}
  },
  {
   "cell_type": "code",
   "execution_count": 12,
   "source": [
    "def generate_ham(hamiltonian, pauli,k):\n",
    "    if pauli == 'X':\n",
    "        return hamiltonian[k]\n",
    "    elif pauli == 'Z':\n",
    "        return hamiltonian[k]"
   ],
   "outputs": [],
   "metadata": {}
  },
  {
   "cell_type": "code",
   "execution_count": 13,
   "source": [
    "H_d = 0 # driving H\n",
    "for hz2 in Hz_2local:\n",
    "    H_d += -hz2\n",
    "H_c = [generate_ham(Hx_local, 'X', i) for i in range(nq)] + [generate_ham(Hz_local, 'Z', i) for i in range(nq)] #control H\n",
    "n_ctrls = len(H_c) # number of controls\n",
    "\n",
    "psi_0 = qutip.basis(2**nq, 2**nq - 1)# initial state"
   ],
   "outputs": [],
   "metadata": {}
  },
  {
   "cell_type": "code",
   "execution_count": 14,
   "source": [
    "# Fidelity error target\n",
    "fid_err_targ = 1e-3\n",
    "# Maximum iterations for the optisation algorithm\n",
    "max_iter = 10000\n",
    "# Maximum (elapsed) time allowed in seconds\n",
    "max_wall_time = 300\n",
    "\n",
    "#pulse bound if needed\n",
    "#lbound = [-1]*2*nq; ubound = [1]*2*nq"
   ],
   "outputs": [],
   "metadata": {}
  },
  {
   "cell_type": "code",
   "execution_count": 15,
   "source": [
    "for i in range(nq):\n",
    "    argsZ=[qutip.qeye(2) for _ in range(nq)]; argsZ[0]=qutip.sigmaz()#qutip.basis(2,0)*qutip.basis(2,0).dag()\n",
    "\n",
    "D0 = qutip.tensor(*argsZ)\n",
    "D0.dims=[[2**nq],[2**nq]]\n",
    "D0"
   ],
   "outputs": [
    {
     "output_type": "execute_result",
     "data": {
      "text/latex": [
       "Quantum object: dims = [[8], [8]], shape = (8, 8), type = oper, isherm = True\\begin{equation*}\\left(\\begin{array}{*{11}c}1.0 & 0.0 & 0.0 & 0.0 & 0.0 & 0.0 & 0.0 & 0.0\\\\0.0 & 1.0 & 0.0 & 0.0 & 0.0 & 0.0 & 0.0 & 0.0\\\\0.0 & 0.0 & 1.0 & 0.0 & 0.0 & 0.0 & 0.0 & 0.0\\\\0.0 & 0.0 & 0.0 & 1.0 & 0.0 & 0.0 & 0.0 & 0.0\\\\0.0 & 0.0 & 0.0 & 0.0 & -1.0 & 0.0 & 0.0 & 0.0\\\\0.0 & 0.0 & 0.0 & 0.0 & 0.0 & -1.0 & 0.0 & 0.0\\\\0.0 & 0.0 & 0.0 & 0.0 & 0.0 & 0.0 & -1.0 & 0.0\\\\0.0 & 0.0 & 0.0 & 0.0 & 0.0 & 0.0 & 0.0 & -1.0\\\\\\end{array}\\right)\\end{equation*}"
      ],
      "text/plain": [
       "Quantum object: dims = [[8], [8]], shape = (8, 8), type = oper, isherm = True\n",
       "Qobj data =\n",
       "[[ 1.  0.  0.  0.  0.  0.  0.  0.]\n",
       " [ 0.  1.  0.  0.  0.  0.  0.  0.]\n",
       " [ 0.  0.  1.  0.  0.  0.  0.  0.]\n",
       " [ 0.  0.  0.  1.  0.  0.  0.  0.]\n",
       " [ 0.  0.  0.  0. -1.  0.  0.  0.]\n",
       " [ 0.  0.  0.  0.  0. -1.  0.  0.]\n",
       " [ 0.  0.  0.  0.  0.  0. -1.  0.]\n",
       " [ 0.  0.  0.  0.  0.  0.  0. -1.]]"
      ]
     },
     "metadata": {},
     "execution_count": 15
    }
   ],
   "metadata": {}
  },
  {
   "cell_type": "code",
   "execution_count": 16,
   "source": [
    "psi_targ = 1/np.sqrt(2)*(qutip.basis(2**nq, 0) + qutip.basis(2**nq, 2**nq-1))\n",
    "rho_targ = psi_targ * psi_targ.dag()\n",
    "rho_targ #targer state"
   ],
   "outputs": [
    {
     "output_type": "execute_result",
     "data": {
      "text/latex": [
       "Quantum object: dims = [[8], [8]], shape = (8, 8), type = oper, isherm = True\\begin{equation*}\\left(\\begin{array}{*{11}c}0.500 & 0.0 & 0.0 & 0.0 & 0.0 & 0.0 & 0.0 & 0.500\\\\0.0 & 0.0 & 0.0 & 0.0 & 0.0 & 0.0 & 0.0 & 0.0\\\\0.0 & 0.0 & 0.0 & 0.0 & 0.0 & 0.0 & 0.0 & 0.0\\\\0.0 & 0.0 & 0.0 & 0.0 & 0.0 & 0.0 & 0.0 & 0.0\\\\0.0 & 0.0 & 0.0 & 0.0 & 0.0 & 0.0 & 0.0 & 0.0\\\\0.0 & 0.0 & 0.0 & 0.0 & 0.0 & 0.0 & 0.0 & 0.0\\\\0.0 & 0.0 & 0.0 & 0.0 & 0.0 & 0.0 & 0.0 & 0.0\\\\0.500 & 0.0 & 0.0 & 0.0 & 0.0 & 0.0 & 0.0 & 0.500\\\\\\end{array}\\right)\\end{equation*}"
      ],
      "text/plain": [
       "Quantum object: dims = [[8], [8]], shape = (8, 8), type = oper, isherm = True\n",
       "Qobj data =\n",
       "[[0.5 0.  0.  0.  0.  0.  0.  0.5]\n",
       " [0.  0.  0.  0.  0.  0.  0.  0. ]\n",
       " [0.  0.  0.  0.  0.  0.  0.  0. ]\n",
       " [0.  0.  0.  0.  0.  0.  0.  0. ]\n",
       " [0.  0.  0.  0.  0.  0.  0.  0. ]\n",
       " [0.  0.  0.  0.  0.  0.  0.  0. ]\n",
       " [0.  0.  0.  0.  0.  0.  0.  0. ]\n",
       " [0.5 0.  0.  0.  0.  0.  0.  0.5]]"
      ]
     },
     "metadata": {},
     "execution_count": 16
    }
   ],
   "metadata": {}
  },
  {
   "cell_type": "code",
   "execution_count": 17,
   "source": [
    "optim = cpo.create_pulse_optimizer(H_d, H_c, psi_0, D0, n_ts, evo_time, \n",
    "                                   #amp_lbound=lbound, amp_ubound=ubound,\n",
    "                fid_err_targ=1e-5, \n",
    "                max_iter=10, max_wall_time=max_wall_time,\n",
    "                alg='GRAPE', \n",
    "                dyn_type='UNIT', fid_type = 'CUSTOM',#'UNIT',\n",
    "                log_level=log_level, gen_stats=True, rhotarg = rho_targ)"
   ],
   "outputs": [],
   "metadata": {}
  },
  {
   "cell_type": "code",
   "execution_count": 18,
   "source": [
    "dyn = optim.dynamics"
   ],
   "outputs": [],
   "metadata": {}
  },
  {
   "cell_type": "markdown",
   "source": [
    "# Initial pulse"
   ],
   "metadata": {}
  },
  {
   "cell_type": "code",
   "execution_count": 19,
   "source": [
    "x = [np.sin(10*k/evo_time) for k in tlist]; z = [np.cos(10*k/evo_time) for k in tlist]"
   ],
   "outputs": [],
   "metadata": {}
  },
  {
   "cell_type": "code",
   "execution_count": 20,
   "source": [
    "init_pulse = np.array([x])\n",
    "for i in range(nq-1):\n",
    "    init_pulse = np.concatenate((init_pulse, [x]))\n",
    "for i in range(nq):\n",
    "    init_pulse = np.concatenate((init_pulse, [z]))\n",
    "    \n",
    "init_pulse = init_pulse.T\n",
    "init_dis = init_pulse"
   ],
   "outputs": [],
   "metadata": {}
  },
  {
   "cell_type": "code",
   "execution_count": 21,
   "source": [
    "dyn.initialize_controls(init_pulse)"
   ],
   "outputs": [
    {
     "output_type": "stream",
     "name": "stderr",
     "text": [
      "INFO:qutip.control.dynamics:Setting memory optimisations for level 0\n",
      "INFO:qutip.control.dynamics:Internal operator data type choosen to be <class 'numpy.ndarray'>\n",
      "INFO:qutip.control.dynamics:phased dynamics generator caching True\n",
      "INFO:qutip.control.dynamics:propagator gradient caching True\n",
      "INFO:qutip.control.dynamics:eigenvector adjoint caching True\n",
      "INFO:qutip.control.dynamics:use sparse eigen decomp False\n"
     ]
    }
   ],
   "metadata": {
    "scrolled": true
   }
  },
  {
   "cell_type": "markdown",
   "source": [
    "# HQuGAN using GRAPE"
   ],
   "metadata": {}
  },
  {
   "cell_type": "code",
   "execution_count": 22,
   "source": [
    "#set different options for discriminator \n",
    "#dis = 'Helstrom'\n",
    "dis = 'd'\n",
    "#dis = 'w'"
   ],
   "outputs": [],
   "metadata": {}
  },
  {
   "cell_type": "code",
   "execution_count": 23,
   "source": [
    "tD, tP, tF, tS = [],[],[],[]\n",
    "\n",
    "for i in range(500):\n",
    "    \n",
    "    pulse_list, D_list = [], []\n",
    "    \n",
    "    #generator \n",
    "    \n",
    "    print(str(i) + \"th iteration begins.\")\n",
    "    \n",
    "    pulse_list.append(init_pulse)\n",
    "\n",
    "    if i == 0:\n",
    "        \n",
    "        result = optim.run_optimization()\n",
    "        D=D0\n",
    "        \n",
    "    else:\n",
    "        result = optim1.run_optimization()\n",
    "        \n",
    "    \n",
    "        \n",
    "        \n",
    "    #Generator is finished\n",
    "    rhot = result.evo_full_final*result.evo_full_final.dag()\n",
    "    print('Final cost: ' + str((D*(rhot-rho_targ)).tr()**2))\n",
    "    \n",
    "    print('Fidelity: ' + str((qutip.fidelity(result.evo_full_final, psi_targ))**2))\n",
    "    tF.append((qutip.fidelity(result.evo_full_final, psi_targ))**2)\n",
    "    \n",
    "    if (qutip.fidelity(result.evo_full_final, psi_targ))**2 > 0.999:\n",
    "        pulse_list.append(result.final_amps)\n",
    "        \n",
    "        init_pulse = result.final_amps\n",
    "        tP.append(pulse_list)\n",
    "        \n",
    "        break\n",
    "        \n",
    "        \n",
    "    #Update params\n",
    "    \n",
    "    \n",
    "    #Discriminator\n",
    "    \n",
    "    if dis == 'Helstrom':\n",
    "\n",
    "        pm = (rhot-rho_targ).eigenstates()[1][-1]*(rhot-rho_targ).eigenstates()[1][-1].dag()\n",
    "        pn = (rhot-rho_targ).eigenstates()[1][0]*(rhot-rho_targ).eigenstates()[1][0].dag()\n",
    "\n",
    "\n",
    "        D = 0.5*(pm - pn)\n",
    "        D.dims = [[2**nq], [2**nq]]\n",
    "        D_list.append(D)\n",
    "        #print('Trace :' + str((D*(rhot-rho_targ)).tr()))\n",
    "        \n",
    "    else:\n",
    "    \n",
    "        optim_dis = cpo.create_pulse_optimizer(H_d, H_c, psi_0, D0, n_ts, evo_time, \n",
    "                                           #amp_lbound=lbound, amp_ubound=ubound,\n",
    "                        fid_err_targ=0.01, \n",
    "                        max_iter=50, #max_wall_time=max_wall_time,\n",
    "                        alg='GRAPE', #optim_method = 'FMIN_BFGS',\n",
    "                        dyn_type='UNIT', fid_type = 'DIS',\n",
    "                        log_level=log_level, gen_stats=True, rhodiff = (rhot-rho_targ))\n",
    "\n",
    "        dyn_dis = optim_dis.dynamics\n",
    "        dyn_dis.initialize_controls(init_dis)\n",
    "        result_dis = optim_dis.run_optimization()\n",
    "        \n",
    "        \n",
    "        U=np.diag([1]*dyn.target.shape[0])\n",
    "        for i in range(n_ts-1,-1,-1):\n",
    "            U=U.dot(np.matrix(dyn_dis.prop[i]))\n",
    "        D = qutip.Qobj(U.conj().T.dot(np.array(D0)).dot(U))\n",
    "        D_list.append(D)\n",
    "\n",
    "    \n",
    "    \n",
    "    optim1 = cpo.create_pulse_optimizer(H_d, H_c, psi_0, D, n_ts, evo_time, \n",
    "                                       #amp_lbound=lbound, amp_ubound=ubound,\n",
    "                    fid_err_targ=1e-5, \n",
    "                    max_iter=10, max_wall_time=max_wall_time,\n",
    "                    alg='GRAPE', #optim_method = 'FMIN_BFGS',\n",
    "                    dyn_type='UNIT', fid_type = 'CUSTOM',\n",
    "                    log_level=log_level, gen_stats=True, rhotarg = rho_targ)\n",
    "\n",
    "\n",
    "    dyn = optim1.dynamics\n",
    "    \n",
    "    \n",
    "    init_pulse = result.final_amps\n",
    "    dyn.initialize_controls(init_pulse)\n",
    "\n",
    "    \n",
    "    tP.append(pulse_list); tD.append(D_list)\n",
    "    \n",
    "        \n"
   ],
   "outputs": [
    {
     "output_type": "stream",
     "name": "stderr",
     "text": [
      "INFO:qutip.control.optimizer:Optimising pulse(s) using GRAPE with 'fmin_l_bfgs_b' method\n"
     ]
    },
    {
     "output_type": "stream",
     "name": "stdout",
     "text": [
      "0th iteration begins.\n",
      "gradient norm for G: 0.027578620390575324\n"
     ]
    },
    {
     "output_type": "stream",
     "name": "stderr",
     "text": [
      "/Users/leeseok/opt/anaconda3/lib/python3.9/site-packages/scipy/optimize/lbfgsb.py:351: ComplexWarning: Casting complex values to real discards the imaginary part\n",
      "  _lbfgsb.setulb(m, x, low_bnd, upper_bnd, nbd, f, g, factr,\n",
      "INFO:qutip.control.dynamics:Setting memory optimisations for level 0\n",
      "INFO:qutip.control.dynamics:Internal operator data type choosen to be <class 'numpy.ndarray'>\n",
      "INFO:qutip.control.dynamics:phased dynamics generator caching True\n",
      "INFO:qutip.control.dynamics:propagator gradient caching True\n",
      "INFO:qutip.control.dynamics:eigenvector adjoint caching True\n",
      "INFO:qutip.control.dynamics:use sparse eigen decomp False\n",
      "INFO:qutip.control.optimizer:Optimising pulse(s) using GRAPE with 'fmin_l_bfgs_b' method\n"
     ]
    },
    {
     "output_type": "stream",
     "name": "stdout",
     "text": [
      "gradient norm for G: 0.8827523158063839\n",
      "Final cost: 3.4307286238832404e-06\n",
      "Fidelity: 0.3053285325986641\n",
      "(1.6909948674116873+0j)\n",
      "(1.6909948674116873+0j)\n",
      "gradient norm for D: 1.7353850763931213\n",
      "(0.8673259347000317-5.204170427930421e-18j)\n",
      "gradient norm for D: 1.1498728493742523\n",
      "(0.6157226253130696-2.6020852139652106e-18j)\n",
      "gradient norm for D: 0.5408620271497733\n",
      "(0.4649992688134388-2.6237692574149207e-17j)\n",
      "gradient norm for D: 0.4831752271223085\n",
      "(0.3747393724568926-7.589415207398531e-17j)\n",
      "gradient norm for D: 0.34300691606290173\n",
      "(0.3381050831322563-5.4643789493269423e-17j)\n",
      "gradient norm for D: 0.10509639263412769\n",
      "(0.3346399707790708-1.8431436932253575e-17j)\n",
      "gradient norm for D: 0.042861330767964285\n",
      "(0.3338499702033131-4.2500725161431774e-17j)\n",
      "gradient norm for D: 0.026787754254656928\n",
      "(0.33311246477983647+7.19910242530375e-17j)\n",
      "gradient norm for D: 0.009091390059712441\n",
      "(0.3330921383341785-6.678685382510707e-17j)\n",
      "gradient norm for D: 0.011246618675991424\n",
      "(0.33306223997042217+2.0816681711721685e-17j)\n",
      "gradient norm for D: 0.0013457373717583173\n",
      "(0.33306146235491596-3.209238430557093e-17j)\n",
      "gradient norm for D: 0.0007685926954370418\n",
      "(0.33306094425393273+4.9873299934333204e-17j)\n",
      "gradient norm for D: 0.00024368718030414675\n",
      "(0.3330609132335034+9.627715291671279e-17j)\n",
      "gradient norm for D: 0.00010041302228726366\n",
      "(0.3330609111514389-5.811323644522304e-17j)\n"
     ]
    },
    {
     "output_type": "stream",
     "name": "stderr",
     "text": [
      "INFO:qutip.control.dynamics:Setting memory optimisations for level 0\n",
      "INFO:qutip.control.dynamics:Internal operator data type choosen to be <class 'numpy.ndarray'>\n",
      "INFO:qutip.control.dynamics:phased dynamics generator caching True\n",
      "INFO:qutip.control.dynamics:propagator gradient caching True\n",
      "INFO:qutip.control.dynamics:eigenvector adjoint caching True\n",
      "INFO:qutip.control.dynamics:use sparse eigen decomp False\n",
      "INFO:qutip.control.optimizer:Optimising pulse(s) using GRAPE with 'fmin_l_bfgs_b' method\n"
     ]
    },
    {
     "output_type": "stream",
     "name": "stdout",
     "text": [
      "gradient norm for D: 9.262905037847729e-05\n",
      "(0.3330609111514389-5.811323644522304e-17j)\n",
      "1th iteration begins.\n",
      "gradient norm for G: 2.4826595230229898\n",
      "gradient norm for G: 1.2319592109215087\n"
     ]
    },
    {
     "output_type": "stream",
     "name": "stderr",
     "text": [
      "INFO:qutip.control.dynamics:Setting memory optimisations for level 0\n",
      "INFO:qutip.control.dynamics:Internal operator data type choosen to be <class 'numpy.ndarray'>\n",
      "INFO:qutip.control.dynamics:phased dynamics generator caching True\n",
      "INFO:qutip.control.dynamics:propagator gradient caching True\n",
      "INFO:qutip.control.dynamics:eigenvector adjoint caching True\n",
      "INFO:qutip.control.dynamics:use sparse eigen decomp False\n",
      "INFO:qutip.control.optimizer:Optimising pulse(s) using GRAPE with 'fmin_l_bfgs_b' method\n"
     ]
    },
    {
     "output_type": "stream",
     "name": "stdout",
     "text": [
      "gradient norm for G: 0.056654819470169884\n",
      "Final cost: 2.985880586879375e-06\n",
      "Fidelity: 0.6313449117213401\n",
      "(2.1362912488712174-2.3418766925686896e-17j)\n",
      "(2.1362912488712174-2.3418766925686896e-17j)\n",
      "gradient norm for D: 0.8774974888346248\n",
      "(1.4784967748278315+2.862293735361732e-17j)\n",
      "gradient norm for D: 0.5913747747175608\n",
      "(1.1149402038383847-3.8163916471489756e-17j)\n",
      "gradient norm for D: 0.7824943310522684\n",
      "(0.9352153134076202+2.7755575615628914e-17j)\n",
      "gradient norm for D: 0.6185417026115896\n",
      "(0.8149719320393252+3.7730235602495554e-17j)\n",
      "gradient norm for D: 0.18907819471187307\n",
      "(0.7936814492252433+4.2500725161431774e-17j)\n",
      "gradient norm for D: 0.10887937929691395\n",
      "(0.7866359934970593-2.688821387764051e-17j)\n",
      "gradient norm for D: 0.038968238697708366\n",
      "(0.7859320798416918+1.5612511283791264e-17j)\n",
      "gradient norm for D: 0.019544552245985215\n",
      "(0.7857360529409467+1.1275702593849246e-17j)\n",
      "gradient norm for D: 0.007798250109702348\n",
      "(0.7856741334092552-5.637851296924623e-17j)\n",
      "gradient norm for D: 0.0036738359080311744\n",
      "(0.7856617221380326+4.2500725161431774e-17j)\n",
      "gradient norm for D: 0.0012069356678314816\n",
      "(0.7856608484452767+2.949029909160572e-17j)\n",
      "gradient norm for D: 0.0008484715314995532\n",
      "(0.7856605791333728+1.734723475976807e-17j)\n",
      "gradient norm for D: 0.00024282382319592506\n",
      "(0.7856605267618697+3.382710778154774e-17j)\n",
      "gradient norm for D: 0.0001296553339762291\n",
      "(0.7856605107189703+1.214306433183765e-17j)\n",
      "gradient norm for D: 3.6927707039292796e-05\n",
      "(0.7856605099032508-7.806255641895632e-18j)\n"
     ]
    },
    {
     "output_type": "stream",
     "name": "stderr",
     "text": [
      "INFO:qutip.control.dynamics:Setting memory optimisations for level 0\n",
      "INFO:qutip.control.dynamics:Internal operator data type choosen to be <class 'numpy.ndarray'>\n",
      "INFO:qutip.control.dynamics:phased dynamics generator caching True\n",
      "INFO:qutip.control.dynamics:propagator gradient caching True\n",
      "INFO:qutip.control.dynamics:eigenvector adjoint caching True\n",
      "INFO:qutip.control.dynamics:use sparse eigen decomp False\n",
      "INFO:qutip.control.optimizer:Optimising pulse(s) using GRAPE with 'fmin_l_bfgs_b' method\n"
     ]
    },
    {
     "output_type": "stream",
     "name": "stdout",
     "text": [
      "gradient norm for D: 2.273178360812531e-05\n",
      "(0.7856605099032508-7.806255641895632e-18j)\n",
      "2th iteration begins.\n",
      "gradient norm for G: 2.9862500851064695\n",
      "gradient norm for G: 0.15974277323316055\n",
      "gradient norm for G: 0.07263913581346225\n"
     ]
    },
    {
     "output_type": "stream",
     "name": "stderr",
     "text": [
      "INFO:qutip.control.dynamics:Setting memory optimisations for level 0\n",
      "INFO:qutip.control.dynamics:Internal operator data type choosen to be <class 'numpy.ndarray'>\n",
      "INFO:qutip.control.dynamics:phased dynamics generator caching True\n",
      "INFO:qutip.control.dynamics:propagator gradient caching True\n",
      "INFO:qutip.control.dynamics:eigenvector adjoint caching True\n",
      "INFO:qutip.control.dynamics:use sparse eigen decomp False\n",
      "INFO:qutip.control.optimizer:Optimising pulse(s) using GRAPE with 'fmin_l_bfgs_b' method\n"
     ]
    },
    {
     "output_type": "stream",
     "name": "stdout",
     "text": [
      "gradient norm for G: 0.015425288494558138\n",
      "Final cost: (2.3144189615429535e-07+6.676382839452202e-21j)\n",
      "Fidelity: 0.9675703476993938\n",
      "(1.968727446453965-1.0462550964485118e-17j)\n",
      "(1.968727446453965-1.0462550964485118e-17j)\n",
      "gradient norm for D: 0.3331263823897746\n",
      "(1.7325876079087617-2.2768245622195593e-18j)\n",
      "gradient norm for D: 0.18296194207648867\n",
      "(1.67703579918546+9.107298248878237e-18j)\n",
      "gradient norm for D: 0.13213916961615174\n",
      "(1.6516016406892033-4.174178364069192e-18j)\n",
      "gradient norm for D: 0.062132068711845165\n",
      "(1.642708751882798+5.6107462426124854e-18j)\n",
      "gradient norm for D: 0.03015990852280503\n",
      "(1.6403615504837523-1.3010426069826053e-18j)\n",
      "gradient norm for D: 0.017028733798876428\n",
      "(1.640256005833694+4.960224939121183e-18j)\n",
      "gradient norm for D: 0.020079499572115772\n",
      "(1.6399175514053168+6.35613523619627e-18j)\n",
      "gradient norm for D: 0.0041069265515261775\n",
      "(1.6398878997682151+6.952446431063297e-18j)\n",
      "gradient norm for D: 0.0028458437619511253\n",
      "(1.6398461642320785+1.4094628242311558e-18j)\n",
      "gradient norm for D: 0.0016509202826479933\n",
      "(1.639837307535716-1.622237500581436e-17j)\n",
      "gradient norm for D: 0.0007283744390027952\n",
      "(1.63983587736892-5.4616684438957286e-18j)\n",
      "gradient norm for D: 0.000441447318953958\n",
      "(1.6398354323339177+5.570088661144279e-18j)\n",
      "gradient norm for D: 0.0002854701601798538\n",
      "(1.6398352735133552-6.952446431063297e-18j)\n",
      "gradient norm for D: 0.00010941012684797987\n",
      "(1.6398352587982632+6.071532165918825e-18j)\n",
      "gradient norm for D: 6.566298069488299e-05\n",
      "(1.6398352552370328-2.1955093992831465e-18j)\n"
     ]
    },
    {
     "output_type": "stream",
     "name": "stderr",
     "text": [
      "INFO:qutip.control.dynamics:Setting memory optimisations for level 0\n",
      "INFO:qutip.control.dynamics:Internal operator data type choosen to be <class 'numpy.ndarray'>\n",
      "INFO:qutip.control.dynamics:phased dynamics generator caching True\n",
      "INFO:qutip.control.dynamics:propagator gradient caching True\n",
      "INFO:qutip.control.dynamics:eigenvector adjoint caching True\n",
      "INFO:qutip.control.dynamics:use sparse eigen decomp False\n",
      "INFO:qutip.control.optimizer:Optimising pulse(s) using GRAPE with 'fmin_l_bfgs_b' method\n"
     ]
    },
    {
     "output_type": "stream",
     "name": "stdout",
     "text": [
      "gradient norm for D: 1.3104330827209504e-05\n",
      "(1.6398352552370328-2.1955093992831465e-18j)\n",
      "3th iteration begins.\n",
      "gradient norm for G: 0.9129424652369145\n",
      "gradient norm for G: 0.7911379998105375\n"
     ]
    },
    {
     "output_type": "stream",
     "name": "stderr",
     "text": [
      "INFO:qutip.control.dynamics:Setting memory optimisations for level 0\n",
      "INFO:qutip.control.dynamics:Internal operator data type choosen to be <class 'numpy.ndarray'>\n",
      "INFO:qutip.control.dynamics:phased dynamics generator caching True\n",
      "INFO:qutip.control.dynamics:propagator gradient caching True\n",
      "INFO:qutip.control.dynamics:eigenvector adjoint caching True\n",
      "INFO:qutip.control.dynamics:use sparse eigen decomp False\n",
      "INFO:qutip.control.optimizer:Optimising pulse(s) using GRAPE with 'fmin_l_bfgs_b' method\n"
     ]
    },
    {
     "output_type": "stream",
     "name": "stdout",
     "text": [
      "gradient norm for G: 0.01598102283934999\n",
      "Final cost: 5.187278425479092e-07\n",
      "Fidelity: 0.986677457696443\n",
      "(1.9797185688934265-8.456776945386935e-18j)\n",
      "(1.9797185688934265-8.456776945386935e-18j)\n",
      "gradient norm for D: 0.2224504318179407\n",
      "(1.8199946766142518-2.3852447794681098e-18j)\n",
      "gradient norm for D: 0.1159822695735803\n",
      "(1.7940133034563601-4.336808689942018e-19j)\n",
      "gradient norm for D: 0.08814711966711604\n",
      "(1.7771377219716948-6.7220534694101275e-18j)\n",
      "gradient norm for D: 0.03615425733401165\n",
      "(1.771445461624894-4.336808689942018e-19j)\n",
      "gradient norm for D: 0.020116985515809836\n",
      "(1.7697059063216452-1.4094628242311558e-18j)\n",
      "gradient norm for D: 0.018172350184252915\n",
      "(1.769363320025278+3.144186300207963e-18j)\n",
      "gradient norm for D: 0.011350264187526616\n",
      "(1.769194689846589-6.884683795282953e-18j)\n",
      "gradient norm for D: 0.002988229836501255\n",
      "(1.7691704993939805-6.071532165918825e-18j)\n",
      "gradient norm for D: 0.0017242364699626507\n",
      "(1.7691540538961115+1.4094628242311558e-18j)\n",
      "gradient norm for D: 0.0004440720596657167\n",
      "(1.7691532807520283-7.37257477290143e-18j)\n",
      "gradient norm for D: 0.00013582320926411185\n",
      "(1.7691531868870451-1.5178830414797062e-17j)\n",
      "gradient norm for D: 7.734695077148402e-05\n",
      "(1.7691531502533324+1.2468324983583301e-17j)\n",
      "gradient norm for D: 4.065483330892857e-05\n",
      "(1.769153144749144+5.204170427930421e-18j)\n",
      "gradient norm for D: 2.7326983601400963e-05\n",
      "(1.7691531426061777-6.5052130349130266e-18j)\n"
     ]
    },
    {
     "output_type": "stream",
     "name": "stderr",
     "text": [
      "INFO:qutip.control.dynamics:Setting memory optimisations for level 0\n",
      "INFO:qutip.control.dynamics:Internal operator data type choosen to be <class 'numpy.ndarray'>\n",
      "INFO:qutip.control.dynamics:phased dynamics generator caching True\n",
      "INFO:qutip.control.dynamics:propagator gradient caching True\n",
      "INFO:qutip.control.dynamics:eigenvector adjoint caching True\n",
      "INFO:qutip.control.dynamics:use sparse eigen decomp False\n",
      "INFO:qutip.control.optimizer:Optimising pulse(s) using GRAPE with 'fmin_l_bfgs_b' method\n"
     ]
    },
    {
     "output_type": "stream",
     "name": "stdout",
     "text": [
      "gradient norm for D: 9.284208299808167e-06\n",
      "(1.7691531426061777-6.5052130349130266e-18j)\n",
      "4th iteration begins.\n",
      "gradient norm for G: 0.6260409338917784\n",
      "gradient norm for G: 0.8019744111995389\n"
     ]
    },
    {
     "output_type": "stream",
     "name": "stderr",
     "text": [
      "INFO:qutip.control.dynamics:Setting memory optimisations for level 0\n",
      "INFO:qutip.control.dynamics:Internal operator data type choosen to be <class 'numpy.ndarray'>\n",
      "INFO:qutip.control.dynamics:phased dynamics generator caching True\n",
      "INFO:qutip.control.dynamics:propagator gradient caching True\n",
      "INFO:qutip.control.dynamics:eigenvector adjoint caching True\n",
      "INFO:qutip.control.dynamics:use sparse eigen decomp False\n",
      "INFO:qutip.control.optimizer:Optimising pulse(s) using GRAPE with 'fmin_l_bfgs_b' method\n"
     ]
    },
    {
     "output_type": "stream",
     "name": "stdout",
     "text": [
      "gradient norm for G: 0.011882896410006066\n",
      "Final cost: 1.5792864182102613e-07\n",
      "Fidelity: 0.9937076163991533\n",
      "(1.9741470093865587+1.5720931501039814e-18j)\n",
      "(1.9741470093865587+1.5720931501039814e-18j)\n",
      "gradient norm for D: 0.1379808184707595\n",
      "(1.879927907564899+4.472333961502706e-18j)\n",
      "gradient norm for D: 0.07519673883360307\n",
      "(1.8513281744206738-5.421010862427522e-20j)\n",
      "gradient norm for D: 0.05005651470001184\n",
      "(1.8436262517571906+3.2526065174565133e-18j)\n",
      "gradient norm for D: 0.024862812736776173\n",
      "(1.8423171380756866-3.7947076036992655e-18j)\n",
      "gradient norm for D: 0.01493326817055197\n",
      "(1.8419324614400763-9.75781955236954e-19j)\n",
      "gradient norm for D: 0.005485259168884751\n",
      "(1.8417898078682209-1.0842021724855044e-19j)\n",
      "gradient norm for D: 0.0046830748888309764\n",
      "(1.8415875870067704-4.662069341687669e-18j)\n",
      "gradient norm for D: 0.004367851748490655\n",
      "(1.8414469257801258+2.7647155398380363e-18j)\n",
      "gradient norm for D: 0.0027808034255677174\n",
      "(1.8413867231149281+2.2768245622195593e-18j)\n",
      "gradient norm for D: 0.0021614445083855916\n",
      "(1.8413603982793119+5.827586677109586e-18j)\n",
      "gradient norm for D: 0.0011731493433661069\n",
      "(1.8413516566494506-2.168404344971009e-19j)\n",
      "gradient norm for D: 0.0005729554547807113\n",
      "(1.841351115038047+2.3310346708438345e-18j)\n",
      "gradient norm for D: 0.0005237871099377195\n",
      "(1.8413504729764023-4.607859233063394e-18j)\n",
      "gradient norm for D: 5.617624795459355e-05\n",
      "(1.8413504580966813+1.9244588561617704e-18j)\n",
      "gradient norm for D: 3.2865374336461315e-05\n",
      "(1.8413504495641473+1.3742262536253769e-17j)\n",
      "gradient norm for D: 1.515034619758429e-05\n",
      "(1.8413504489301868-2.8731357570865868e-18j)\n"
     ]
    },
    {
     "output_type": "stream",
     "name": "stderr",
     "text": [
      "INFO:qutip.control.dynamics:Setting memory optimisations for level 0\n",
      "INFO:qutip.control.dynamics:Internal operator data type choosen to be <class 'numpy.ndarray'>\n",
      "INFO:qutip.control.dynamics:phased dynamics generator caching True\n",
      "INFO:qutip.control.dynamics:propagator gradient caching True\n",
      "INFO:qutip.control.dynamics:eigenvector adjoint caching True\n",
      "INFO:qutip.control.dynamics:use sparse eigen decomp False\n",
      "INFO:qutip.control.optimizer:Optimising pulse(s) using GRAPE with 'fmin_l_bfgs_b' method\n"
     ]
    },
    {
     "output_type": "stream",
     "name": "stdout",
     "text": [
      "gradient norm for D: 1.576514895630318e-05\n",
      "(1.8413504489301868-2.8731357570865868e-18j)\n",
      "5th iteration begins.\n",
      "gradient norm for G: 0.4272931250362114\n",
      "gradient norm for G: 0.9132222119521378\n"
     ]
    },
    {
     "output_type": "stream",
     "name": "stderr",
     "text": [
      "INFO:qutip.control.dynamics:Setting memory optimisations for level 0\n",
      "INFO:qutip.control.dynamics:Internal operator data type choosen to be <class 'numpy.ndarray'>\n",
      "INFO:qutip.control.dynamics:phased dynamics generator caching True\n",
      "INFO:qutip.control.dynamics:propagator gradient caching True\n",
      "INFO:qutip.control.dynamics:eigenvector adjoint caching True\n",
      "INFO:qutip.control.dynamics:use sparse eigen decomp False\n",
      "INFO:qutip.control.optimizer:Optimising pulse(s) using GRAPE with 'fmin_l_bfgs_b' method\n"
     ]
    },
    {
     "output_type": "stream",
     "name": "stdout",
     "text": [
      "gradient norm for G: 0.04099779580309192\n",
      "Final cost: (1.4584207341842237e-06-1.675952315395821e-20j)\n",
      "Fidelity: 0.9962645060552974\n",
      "(1.9918685447209552+2.2768245622195593e-18j)\n",
      "(1.9918685447209552+2.2768245622195593e-18j)\n",
      "gradient norm for D: 0.1279240822119312\n",
      "(1.9033020320183798+1.3010426069826053e-18j)\n",
      "gradient norm for D: 0.06237199574187117\n",
      "(1.8890596526914614-9.75781955236954e-19j)\n",
      "gradient norm for D: 0.038074974427433336\n",
      "(1.8832263590820773+6.071532165918825e-18j)\n",
      "gradient norm for D: 0.01857306086434587\n",
      "(1.8801205837024426+2.6020852139652106e-18j)\n",
      "gradient norm for D: 0.013761164770510417\n",
      "(1.8782200246236878-4.553649124439119e-18j)\n",
      "gradient norm for D: 0.009540136681425301\n",
      "(1.8781375537474825-7.589415207398531e-19j)\n",
      "gradient norm for D: 0.012046734852624946\n",
      "(1.8778032921865906+7.589415207398531e-19j)\n",
      "gradient norm for D: 0.0015702411257786217\n",
      "(1.8777910401054718+2.168404344971009e-19j)\n",
      "gradient norm for D: 0.0011921277111488749\n",
      "(1.8777679265239164+3.7947076036992655e-18j)\n",
      "gradient norm for D: 0.0007028918847883176\n",
      "(1.8777655663053598-3.2526065174565133e-18j)\n",
      "gradient norm for D: 0.0010289825543525468\n",
      "(1.877762269433287-5.7462715141731735e-18j)\n",
      "gradient norm for D: 0.00013503844475996874\n",
      "(1.8777621577258266-1.3010426069826053e-18j)\n",
      "gradient norm for D: 4.2671089242186685e-05\n",
      "(1.8777621402453413-7.589415207398531e-19j)\n",
      "gradient norm for D: 2.3256046053494953e-05\n",
      "(1.877762137426129-2.168404344971009e-18j)\n"
     ]
    },
    {
     "output_type": "stream",
     "name": "stderr",
     "text": [
      "INFO:qutip.control.dynamics:Setting memory optimisations for level 0\n",
      "INFO:qutip.control.dynamics:Internal operator data type choosen to be <class 'numpy.ndarray'>\n",
      "INFO:qutip.control.dynamics:phased dynamics generator caching True\n",
      "INFO:qutip.control.dynamics:propagator gradient caching True\n",
      "INFO:qutip.control.dynamics:eigenvector adjoint caching True\n",
      "INFO:qutip.control.dynamics:use sparse eigen decomp False\n",
      "INFO:qutip.control.optimizer:Optimising pulse(s) using GRAPE with 'fmin_l_bfgs_b' method\n"
     ]
    },
    {
     "output_type": "stream",
     "name": "stdout",
     "text": [
      "gradient norm for D: 2.521313747534772e-05\n",
      "(1.877762137426129-2.168404344971009e-18j)\n",
      "6th iteration begins.\n",
      "gradient norm for G: 0.3353450032864361\n"
     ]
    },
    {
     "output_type": "stream",
     "name": "stderr",
     "text": [
      "INFO:qutip.control.dynamics:Setting memory optimisations for level 0\n",
      "INFO:qutip.control.dynamics:Internal operator data type choosen to be <class 'numpy.ndarray'>\n",
      "INFO:qutip.control.dynamics:phased dynamics generator caching True\n",
      "INFO:qutip.control.dynamics:propagator gradient caching True\n",
      "INFO:qutip.control.dynamics:eigenvector adjoint caching True\n",
      "INFO:qutip.control.dynamics:use sparse eigen decomp False\n",
      "INFO:qutip.control.optimizer:Optimising pulse(s) using GRAPE with 'fmin_l_bfgs_b' method\n"
     ]
    },
    {
     "output_type": "stream",
     "name": "stdout",
     "text": [
      "gradient norm for G: 0.9113145400857036\n",
      "Final cost: 1.7411495067492654e-06\n",
      "Fidelity: 0.9980858043446893\n",
      "(1.9833964418744805+3.9132922163148676e-19j)\n",
      "(1.9833964418744805+3.9132922163148676e-19j)\n",
      "gradient norm for D: 0.07619421077042694\n",
      "(1.9325307108222443+2.710505431213761e-19j)\n",
      "gradient norm for D: 0.04185214410198012\n",
      "(1.9169274357195993+4.553649124439119e-18j)\n",
      "gradient norm for D: 0.02404816892895791\n",
      "(1.9132601562228795+2.710505431213761e-19j)\n",
      "gradient norm for D: 0.012468767993809818\n",
      "(1.9128081116338573+5.339695699491109e-18j)\n",
      "gradient norm for D: 0.008714391452188178\n",
      "(1.9125903540698417+1.748276003132876e-18j)\n",
      "gradient norm for D: 0.002412265972747442\n",
      "(1.912549325609403+5.55653613398821e-19j)\n",
      "gradient norm for D: 0.0016573023786934026\n",
      "(1.9125085629178928-3.1238575094738597e-18j)\n",
      "gradient norm for D: 0.0010125122447760784\n",
      "(1.9124978723243433-1.3349239248727773e-18j)\n",
      "gradient norm for D: 0.0003708984553691956\n",
      "(1.9124970723523562-1.9651164376299768e-18j)\n",
      "gradient norm for D: 0.000285062443828084\n",
      "(1.9124966275824673+1.6263032587282567e-19j)\n",
      "gradient norm for D: 7.589837826938349e-05\n",
      "(1.9124965726642689+3.63207727782644e-18j)\n",
      "gradient norm for D: 5.729111343284908e-05\n",
      "(1.9124964565265383+6.776263578034403e-21j)\n",
      "gradient norm for D: 6.017056915279412e-05\n",
      "(1.9124964205943444+1.7211709488207383e-18j)\n",
      "gradient norm for D: 9.057832882024096e-05\n",
      "(1.9124963860322926+1.1045309632196076e-18j)\n",
      "gradient norm for D: 2.063609543752514e-05\n",
      "(1.9124963823360979-7.250602028496811e-19j)\n"
     ]
    },
    {
     "output_type": "stream",
     "name": "stderr",
     "text": [
      "INFO:qutip.control.dynamics:Setting memory optimisations for level 0\n",
      "INFO:qutip.control.dynamics:Internal operator data type choosen to be <class 'numpy.ndarray'>\n",
      "INFO:qutip.control.dynamics:phased dynamics generator caching True\n",
      "INFO:qutip.control.dynamics:propagator gradient caching True\n",
      "INFO:qutip.control.dynamics:eigenvector adjoint caching True\n",
      "INFO:qutip.control.dynamics:use sparse eigen decomp False\n",
      "INFO:qutip.control.optimizer:Optimising pulse(s) using GRAPE with 'fmin_l_bfgs_b' method\n"
     ]
    },
    {
     "output_type": "stream",
     "name": "stdout",
     "text": [
      "gradient norm for D: 8.774199598163858e-06\n",
      "(1.9124963823360979-7.250602028496811e-19j)\n",
      "7th iteration begins.\n",
      "gradient norm for G: 0.22958957446559408\n",
      "gradient norm for G: 0.890831757085026\n"
     ]
    },
    {
     "output_type": "stream",
     "name": "stderr",
     "text": [
      "INFO:qutip.control.dynamics:Setting memory optimisations for level 0\n",
      "INFO:qutip.control.dynamics:Internal operator data type choosen to be <class 'numpy.ndarray'>\n",
      "INFO:qutip.control.dynamics:phased dynamics generator caching True\n",
      "INFO:qutip.control.dynamics:propagator gradient caching True\n",
      "INFO:qutip.control.dynamics:eigenvector adjoint caching True\n",
      "INFO:qutip.control.dynamics:use sparse eigen decomp False\n",
      "INFO:qutip.control.optimizer:Optimising pulse(s) using GRAPE with 'fmin_l_bfgs_b' method\n"
     ]
    },
    {
     "output_type": "stream",
     "name": "stdout",
     "text": [
      "gradient norm for G: 0.0385463927841047\n",
      "Final cost: (4.976020517043854e-07+2.4473795830515358e-21j)\n",
      "Fidelity: 0.9987156198481877\n",
      "(1.9957980493647176+3.198396408832238e-18j)\n",
      "(1.9957980493647176+3.198396408832238e-18j)\n",
      "gradient norm for D: 0.0744843773611971\n",
      "(1.9435998152429037-2.4123498337802474e-18j)\n",
      "gradient norm for D: 0.03684963738737633\n",
      "(1.9354773984674574-1.951563910473908e-18j)\n",
      "gradient norm for D: 0.023722719489905855\n",
      "(1.9317429914972815+8.131516293641283e-19j)\n",
      "gradient norm for D: 0.0104270669744896\n",
      "(1.9301208159136438+3.2526065174565133e-19j)\n",
      "gradient norm for D: 0.00800808826230847\n",
      "(1.9287461061231697-1.463672932855431e-18j)\n",
      "gradient norm for D: 0.006250894920903912\n",
      "(1.9285555666068792-4.2825985813177425e-18j)\n",
      "gradient norm for D: 0.0071445689274779725\n",
      "(1.9283444572907709+1.0842021724855044e-18j)\n",
      "gradient norm for D: 0.0010470910695371928\n",
      "(1.9283362284997816+2.168404344971009e-18j)\n",
      "gradient norm for D: 0.000638993560751978\n",
      "(1.9283277919112258+4.87890977618477e-19j)\n",
      "gradient norm for D: 0.00043726918337115426\n",
      "(1.9283235055504884-1.6263032587282567e-18j)\n",
      "gradient norm for D: 0.000311928512112128\n",
      "(1.9283237429240412+2.3852447794681098e-18j)\n",
      "gradient norm for D: 0.00042363691491223204\n",
      "(1.9283228562542178-1.1926223897340549e-18j)\n",
      "gradient norm for D: 0.00012771659347069088\n",
      "(1.9283227058576975+1.6263032587282567e-18j)\n",
      "gradient norm for D: 2.1127019231873397e-05\n",
      "(1.9283227004423606+8.131516293641283e-19j)\n",
      "gradient norm for D: 9.064447510472694e-06\n",
      "(1.928322699126355-5.312590645178972e-18j)\n"
     ]
    },
    {
     "output_type": "stream",
     "name": "stderr",
     "text": [
      "INFO:qutip.control.dynamics:Setting memory optimisations for level 0\n",
      "INFO:qutip.control.dynamics:Internal operator data type choosen to be <class 'numpy.ndarray'>\n",
      "INFO:qutip.control.dynamics:phased dynamics generator caching True\n",
      "INFO:qutip.control.dynamics:propagator gradient caching True\n",
      "INFO:qutip.control.dynamics:eigenvector adjoint caching True\n",
      "INFO:qutip.control.dynamics:use sparse eigen decomp False\n",
      "INFO:qutip.control.optimizer:Optimising pulse(s) using GRAPE with 'fmin_l_bfgs_b' method\n"
     ]
    },
    {
     "output_type": "stream",
     "name": "stdout",
     "text": [
      "gradient norm for D: 5.383190516509244e-06\n",
      "(1.928322699126355-5.312590645178972e-18j)\n",
      "8th iteration begins.\n",
      "gradient norm for G: 0.20061909900435138\n",
      "gradient norm for G: 0.9664259485874107\n",
      "Final cost: (5.189793387228838e-06-5.927841038494944e-21j)\n",
      "Fidelity: 0.9994130448208824\n"
     ]
    }
   ],
   "metadata": {
    "scrolled": true
   }
  },
  {
   "cell_type": "code",
   "execution_count": 25,
   "source": [
    "#labels=['X1','X2','Z1','Z2']\n",
    "\n",
    "fig1 = plt.figure(figsize = (10,8))\n",
    "ax1 = fig1.add_subplot(3, 1, 1)\n",
    "ax1.set_title(\"Initial Control amps\")\n",
    "ax1.set_xlabel(\"Time\")\n",
    "ax1.set_ylabel(\"Control amplitude\")\n",
    "for j in range(n_ctrls):\n",
    "    ax1.plot(tlist, tP[0][0][:,j])\n",
    "    \n",
    "ax2 = fig1.add_subplot(3, 1, 2)\n",
    "ax2.set_title(\"Optimised Control Amplitudes of Generator\")\n",
    "ax2.set_xlabel(\"Time\")\n",
    "ax2.set_ylabel(\"Control amplitude\")\n",
    "for j in range(n_ctrls):\n",
    "    ax2.plot(tlist,tP[-1][-1][:, j])#, label=labels[j])\n",
    "\"\"\"\n",
    "ax3 = fig1.add_subplot(3, 1, 3)\n",
    "ax3.set_title(\"Optimised Control Amplitudes of Discriminator in the last step\")\n",
    "ax3.set_xlabel(\"Time\")\n",
    "ax3.set_ylabel(\"Control amplitude\")\n",
    "for j in range(n_ctrls):\n",
    "    ax3.plot(tlist,result_dis.final_amps[:, j])#, label=labels[j])\"\"\"\n",
    "\n",
    "#ax2.legend(ncol=n_ctrls)\n",
    "#plt.suptitle(\"5 Qubit GRAPE BFGS Optimizer\", fontsize = 20)\n",
    "plt.tight_layout()\n",
    "#fig1.savefig(\"5qubit_GRAPE_BFGS\")\n",
    "plt.show()"
   ],
   "outputs": [
    {
     "output_type": "display_data",
     "data": {
      "image/png": "[encoded data removed]",
      "text/plain": [
       "<Figure size 720x576 with 2 Axes>"
      ]
     },
     "metadata": {
      "needs_background": "light"
     }
    }
   ],
   "metadata": {}
  },
  {
   "cell_type": "code",
   "execution_count": null,
   "source": [],
   "outputs": [],
   "metadata": {}
  }
 ],
 "metadata": {
  "kernelspec": {
   "display_name": "Python 3 (ipykernel)",
   "language": "python",
   "name": "python3"
  },
  "language_info": {
   "codemirror_mode": {
    "name": "ipython",
    "version": 3
   },
   "file_extension": ".py",
   "mimetype": "text/x-python",
   "name": "python",
   "nbconvert_exporter": "python",
   "pygments_lexer": "ipython3",
   "version": "3.9.7"
  }
 },
 "nbformat": 4,
 "nbformat_minor": 5
}